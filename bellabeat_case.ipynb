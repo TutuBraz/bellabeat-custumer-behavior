{
  "nbformat": 4,
  "nbformat_minor": 0,
  "metadata": {
    "colab": {
      "provenance": [],
      "collapsed_sections": [
        "ag9elbnlC0cG",
        "A2B2THNnC7gr"
      ],
      "authorship_tag": "ABX9TyNgbw65i2sLeYzwTpzJZJQr",
      "include_colab_link": true
    },
    "kernelspec": {
      "name": "python3",
      "display_name": "Python 3"
    },
    "language_info": {
      "name": "python"
    }
  },
  "cells": [
    {
      "cell_type": "markdown",
      "metadata": {
        "id": "view-in-github",
        "colab_type": "text"
      },
      "source": [
        "<a href=\"https://colab.research.google.com/github/TutuBraz/bellabeat-custumer-behavior/blob/main/bellabeat_case.ipynb\" target=\"_parent\"><img src=\"https://colab.research.google.com/assets/colab-badge.svg\" alt=\"Open In Colab\"/></a>"
      ]
    },
    {
      "cell_type": "markdown",
      "source": [
        "#Preparar."
      ],
      "metadata": {
        "id": "ag9elbnlC0cG"
      }
    },
    {
      "cell_type": "code",
      "source": [
        "#manipulacao\n",
        "import pandas as pd\n",
        "\n",
        "#datas\n",
        "from datetime import datetime\n",
        "\n",
        "#vizualizacao\n",
        "import matplotlib.pyplot as plt\n",
        "import seaborn as sns\n"
      ],
      "metadata": {
        "id": "mrDN7B76Qfyj"
      },
      "execution_count": null,
      "outputs": []
    },
    {
      "cell_type": "code",
      "source": [
        "#Funcao para verificaar a integridade dos dados\n",
        "def Integridade(dataset, col='Id', col2='Time'):\n",
        "  print(f'Quantidade de usuários: {len(dataset[col].unique())}')\n",
        "  print(f'Valors duplicados: {dataset.duplicated().sum()}')\n",
        "  print(f'Valores ausentes:{dataset.isnull().sum()}')"
      ],
      "metadata": {
        "id": "MXKyk6Ly3eIc"
      },
      "execution_count": null,
      "outputs": []
    },
    {
      "cell_type": "code",
      "source": [
        "#resumo das atividades dos usúarios\n",
        "day_activity = pd.read_csv('/content/dailyActivity_merged.csv')\n",
        "Integridade(day_activity)"
      ],
      "metadata": {
        "colab": {
          "base_uri": "https://localhost:8080/"
        },
        "id": "IqWNN7qqQ0PE",
        "outputId": "35ec1ed6-9b3a-4b7e-b0f3-cb9aafb9bb3f"
      },
      "execution_count": null,
      "outputs": [
        {
          "output_type": "stream",
          "name": "stdout",
          "text": [
            "Quantidade de usuários: 33\n",
            "Valors duplicados: 0\n",
            "Valores ausentes:Id                          0\n",
            "ActivityDate                0\n",
            "TotalSteps                  0\n",
            "TotalDistance               0\n",
            "TrackerDistance             0\n",
            "LoggedActivitiesDistance    0\n",
            "VeryActiveDistance          0\n",
            "ModeratelyActiveDistance    0\n",
            "LightActiveDistance         0\n",
            "SedentaryActiveDistance     0\n",
            "VeryActiveMinutes           0\n",
            "FairlyActiveMinutes         0\n",
            "LightlyActiveMinutes        0\n",
            "SedentaryMinutes            0\n",
            "Calories                    0\n",
            "dtype: int64\n"
          ]
        }
      ]
    },
    {
      "cell_type": "code",
      "source": [
        "day_activity.head()"
      ],
      "metadata": {
        "colab": {
          "base_uri": "https://localhost:8080/"
        },
        "id": "MSloHpdr65Tp",
        "outputId": "0b0b2684-fbab-4c3e-c4b9-b34d583d4086"
      },
      "execution_count": null,
      "outputs": [
        {
          "output_type": "execute_result",
          "data": {
            "text/plain": [
              "           Id ActivityDate  TotalSteps  TotalDistance  TrackerDistance  \\\n",
              "0  1503960366    4/12/2016       13162           8.50             8.50   \n",
              "1  1503960366    4/13/2016       10735           6.97             6.97   \n",
              "2  1503960366    4/14/2016       10460           6.74             6.74   \n",
              "3  1503960366    4/15/2016        9762           6.28             6.28   \n",
              "4  1503960366    4/16/2016       12669           8.16             8.16   \n",
              "\n",
              "   LoggedActivitiesDistance  VeryActiveDistance  ModeratelyActiveDistance  \\\n",
              "0                       0.0                1.88                      0.55   \n",
              "1                       0.0                1.57                      0.69   \n",
              "2                       0.0                2.44                      0.40   \n",
              "3                       0.0                2.14                      1.26   \n",
              "4                       0.0                2.71                      0.41   \n",
              "\n",
              "   LightActiveDistance  SedentaryActiveDistance  VeryActiveMinutes  \\\n",
              "0                 6.06                      0.0                 25   \n",
              "1                 4.71                      0.0                 21   \n",
              "2                 3.91                      0.0                 30   \n",
              "3                 2.83                      0.0                 29   \n",
              "4                 5.04                      0.0                 36   \n",
              "\n",
              "   FairlyActiveMinutes  LightlyActiveMinutes  SedentaryMinutes  Calories  \n",
              "0                   13                   328               728      1985  \n",
              "1                   19                   217               776      1797  \n",
              "2                   11                   181              1218      1776  \n",
              "3                   34                   209               726      1745  \n",
              "4                   10                   221               773      1863  "
            ],
            "text/html": [
              "\n",
              "  <div id=\"df-7581712c-3698-40eb-9056-5b6ac879264d\">\n",
              "    <div class=\"colab-df-container\">\n",
              "      <div>\n",
              "<style scoped>\n",
              "    .dataframe tbody tr th:only-of-type {\n",
              "        vertical-align: middle;\n",
              "    }\n",
              "\n",
              "    .dataframe tbody tr th {\n",
              "        vertical-align: top;\n",
              "    }\n",
              "\n",
              "    .dataframe thead th {\n",
              "        text-align: right;\n",
              "    }\n",
              "</style>\n",
              "<table border=\"1\" class=\"dataframe\">\n",
              "  <thead>\n",
              "    <tr style=\"text-align: right;\">\n",
              "      <th></th>\n",
              "      <th>Id</th>\n",
              "      <th>ActivityDate</th>\n",
              "      <th>TotalSteps</th>\n",
              "      <th>TotalDistance</th>\n",
              "      <th>TrackerDistance</th>\n",
              "      <th>LoggedActivitiesDistance</th>\n",
              "      <th>VeryActiveDistance</th>\n",
              "      <th>ModeratelyActiveDistance</th>\n",
              "      <th>LightActiveDistance</th>\n",
              "      <th>SedentaryActiveDistance</th>\n",
              "      <th>VeryActiveMinutes</th>\n",
              "      <th>FairlyActiveMinutes</th>\n",
              "      <th>LightlyActiveMinutes</th>\n",
              "      <th>SedentaryMinutes</th>\n",
              "      <th>Calories</th>\n",
              "    </tr>\n",
              "  </thead>\n",
              "  <tbody>\n",
              "    <tr>\n",
              "      <th>0</th>\n",
              "      <td>1503960366</td>\n",
              "      <td>4/12/2016</td>\n",
              "      <td>13162</td>\n",
              "      <td>8.50</td>\n",
              "      <td>8.50</td>\n",
              "      <td>0.0</td>\n",
              "      <td>1.88</td>\n",
              "      <td>0.55</td>\n",
              "      <td>6.06</td>\n",
              "      <td>0.0</td>\n",
              "      <td>25</td>\n",
              "      <td>13</td>\n",
              "      <td>328</td>\n",
              "      <td>728</td>\n",
              "      <td>1985</td>\n",
              "    </tr>\n",
              "    <tr>\n",
              "      <th>1</th>\n",
              "      <td>1503960366</td>\n",
              "      <td>4/13/2016</td>\n",
              "      <td>10735</td>\n",
              "      <td>6.97</td>\n",
              "      <td>6.97</td>\n",
              "      <td>0.0</td>\n",
              "      <td>1.57</td>\n",
              "      <td>0.69</td>\n",
              "      <td>4.71</td>\n",
              "      <td>0.0</td>\n",
              "      <td>21</td>\n",
              "      <td>19</td>\n",
              "      <td>217</td>\n",
              "      <td>776</td>\n",
              "      <td>1797</td>\n",
              "    </tr>\n",
              "    <tr>\n",
              "      <th>2</th>\n",
              "      <td>1503960366</td>\n",
              "      <td>4/14/2016</td>\n",
              "      <td>10460</td>\n",
              "      <td>6.74</td>\n",
              "      <td>6.74</td>\n",
              "      <td>0.0</td>\n",
              "      <td>2.44</td>\n",
              "      <td>0.40</td>\n",
              "      <td>3.91</td>\n",
              "      <td>0.0</td>\n",
              "      <td>30</td>\n",
              "      <td>11</td>\n",
              "      <td>181</td>\n",
              "      <td>1218</td>\n",
              "      <td>1776</td>\n",
              "    </tr>\n",
              "    <tr>\n",
              "      <th>3</th>\n",
              "      <td>1503960366</td>\n",
              "      <td>4/15/2016</td>\n",
              "      <td>9762</td>\n",
              "      <td>6.28</td>\n",
              "      <td>6.28</td>\n",
              "      <td>0.0</td>\n",
              "      <td>2.14</td>\n",
              "      <td>1.26</td>\n",
              "      <td>2.83</td>\n",
              "      <td>0.0</td>\n",
              "      <td>29</td>\n",
              "      <td>34</td>\n",
              "      <td>209</td>\n",
              "      <td>726</td>\n",
              "      <td>1745</td>\n",
              "    </tr>\n",
              "    <tr>\n",
              "      <th>4</th>\n",
              "      <td>1503960366</td>\n",
              "      <td>4/16/2016</td>\n",
              "      <td>12669</td>\n",
              "      <td>8.16</td>\n",
              "      <td>8.16</td>\n",
              "      <td>0.0</td>\n",
              "      <td>2.71</td>\n",
              "      <td>0.41</td>\n",
              "      <td>5.04</td>\n",
              "      <td>0.0</td>\n",
              "      <td>36</td>\n",
              "      <td>10</td>\n",
              "      <td>221</td>\n",
              "      <td>773</td>\n",
              "      <td>1863</td>\n",
              "    </tr>\n",
              "  </tbody>\n",
              "</table>\n",
              "</div>\n",
              "      <button class=\"colab-df-convert\" onclick=\"convertToInteractive('df-7581712c-3698-40eb-9056-5b6ac879264d')\"\n",
              "              title=\"Convert this dataframe to an interactive table.\"\n",
              "              style=\"display:none;\">\n",
              "        \n",
              "  <svg xmlns=\"http://www.w3.org/2000/svg\" height=\"24px\"viewBox=\"0 0 24 24\"\n",
              "       width=\"24px\">\n",
              "    <path d=\"M0 0h24v24H0V0z\" fill=\"none\"/>\n",
              "    <path d=\"M18.56 5.44l.94 2.06.94-2.06 2.06-.94-2.06-.94-.94-2.06-.94 2.06-2.06.94zm-11 1L8.5 8.5l.94-2.06 2.06-.94-2.06-.94L8.5 2.5l-.94 2.06-2.06.94zm10 10l.94 2.06.94-2.06 2.06-.94-2.06-.94-.94-2.06-.94 2.06-2.06.94z\"/><path d=\"M17.41 7.96l-1.37-1.37c-.4-.4-.92-.59-1.43-.59-.52 0-1.04.2-1.43.59L10.3 9.45l-7.72 7.72c-.78.78-.78 2.05 0 2.83L4 21.41c.39.39.9.59 1.41.59.51 0 1.02-.2 1.41-.59l7.78-7.78 2.81-2.81c.8-.78.8-2.07 0-2.86zM5.41 20L4 18.59l7.72-7.72 1.47 1.35L5.41 20z\"/>\n",
              "  </svg>\n",
              "      </button>\n",
              "      \n",
              "  <style>\n",
              "    .colab-df-container {\n",
              "      display:flex;\n",
              "      flex-wrap:wrap;\n",
              "      gap: 12px;\n",
              "    }\n",
              "\n",
              "    .colab-df-convert {\n",
              "      background-color: #E8F0FE;\n",
              "      border: none;\n",
              "      border-radius: 50%;\n",
              "      cursor: pointer;\n",
              "      display: none;\n",
              "      fill: #1967D2;\n",
              "      height: 32px;\n",
              "      padding: 0 0 0 0;\n",
              "      width: 32px;\n",
              "    }\n",
              "\n",
              "    .colab-df-convert:hover {\n",
              "      background-color: #E2EBFA;\n",
              "      box-shadow: 0px 1px 2px rgba(60, 64, 67, 0.3), 0px 1px 3px 1px rgba(60, 64, 67, 0.15);\n",
              "      fill: #174EA6;\n",
              "    }\n",
              "\n",
              "    [theme=dark] .colab-df-convert {\n",
              "      background-color: #3B4455;\n",
              "      fill: #D2E3FC;\n",
              "    }\n",
              "\n",
              "    [theme=dark] .colab-df-convert:hover {\n",
              "      background-color: #434B5C;\n",
              "      box-shadow: 0px 1px 3px 1px rgba(0, 0, 0, 0.15);\n",
              "      filter: drop-shadow(0px 1px 2px rgba(0, 0, 0, 0.3));\n",
              "      fill: #FFFFFF;\n",
              "    }\n",
              "  </style>\n",
              "\n",
              "      <script>\n",
              "        const buttonEl =\n",
              "          document.querySelector('#df-7581712c-3698-40eb-9056-5b6ac879264d button.colab-df-convert');\n",
              "        buttonEl.style.display =\n",
              "          google.colab.kernel.accessAllowed ? 'block' : 'none';\n",
              "\n",
              "        async function convertToInteractive(key) {\n",
              "          const element = document.querySelector('#df-7581712c-3698-40eb-9056-5b6ac879264d');\n",
              "          const dataTable =\n",
              "            await google.colab.kernel.invokeFunction('convertToInteractive',\n",
              "                                                     [key], {});\n",
              "          if (!dataTable) return;\n",
              "\n",
              "          const docLinkHtml = 'Like what you see? Visit the ' +\n",
              "            '<a target=\"_blank\" href=https://colab.research.google.com/notebooks/data_table.ipynb>data table notebook</a>'\n",
              "            + ' to learn more about interactive tables.';\n",
              "          element.innerHTML = '';\n",
              "          dataTable['output_type'] = 'display_data';\n",
              "          await google.colab.output.renderOutput(dataTable, element);\n",
              "          const docLink = document.createElement('div');\n",
              "          docLink.innerHTML = docLinkHtml;\n",
              "          element.appendChild(docLink);\n",
              "        }\n",
              "      </script>\n",
              "    </div>\n",
              "  </div>\n",
              "  "
            ]
          },
          "metadata": {},
          "execution_count": 4
        }
      ]
    },
    {
      "cell_type": "code",
      "source": [
        "#minutos dormidos por dia\n",
        "sleep_day =pd.read_csv('/content/sleepDay_merged.csv')\n",
        "Integridade(sleep_day)"
      ],
      "metadata": {
        "id": "MwjyqZK2RxX_",
        "colab": {
          "base_uri": "https://localhost:8080/"
        },
        "outputId": "4d97ab9b-b0b0-4f7e-c33d-8358f4fff4c6"
      },
      "execution_count": null,
      "outputs": [
        {
          "output_type": "stream",
          "name": "stdout",
          "text": [
            "Quantidade de usuários: 24\n",
            "Valors duplicados: 3\n",
            "Valores ausentes:Id                    0\n",
            "SleepDay              0\n",
            "TotalSleepRecords     0\n",
            "TotalMinutesAsleep    0\n",
            "TotalTimeInBed        0\n",
            "dtype: int64\n"
          ]
        }
      ]
    },
    {
      "cell_type": "code",
      "source": [
        "sleep_day.head()"
      ],
      "metadata": {
        "id": "HjrnP9Ko7VST",
        "colab": {
          "base_uri": "https://localhost:8080/"
        },
        "outputId": "3745d570-06d5-48fa-e157-78d135ef92a9"
      },
      "execution_count": null,
      "outputs": [
        {
          "output_type": "execute_result",
          "data": {
            "text/plain": [
              "           Id               SleepDay  TotalSleepRecords  TotalMinutesAsleep  \\\n",
              "0  1503960366  4/12/2016 12:00:00 AM                  1                 327   \n",
              "1  1503960366  4/13/2016 12:00:00 AM                  2                 384   \n",
              "2  1503960366  4/15/2016 12:00:00 AM                  1                 412   \n",
              "3  1503960366  4/16/2016 12:00:00 AM                  2                 340   \n",
              "4  1503960366  4/17/2016 12:00:00 AM                  1                 700   \n",
              "\n",
              "   TotalTimeInBed  \n",
              "0             346  \n",
              "1             407  \n",
              "2             442  \n",
              "3             367  \n",
              "4             712  "
            ],
            "text/html": [
              "\n",
              "  <div id=\"df-574c34d1-fc75-4e96-8de7-5397431e0e18\">\n",
              "    <div class=\"colab-df-container\">\n",
              "      <div>\n",
              "<style scoped>\n",
              "    .dataframe tbody tr th:only-of-type {\n",
              "        vertical-align: middle;\n",
              "    }\n",
              "\n",
              "    .dataframe tbody tr th {\n",
              "        vertical-align: top;\n",
              "    }\n",
              "\n",
              "    .dataframe thead th {\n",
              "        text-align: right;\n",
              "    }\n",
              "</style>\n",
              "<table border=\"1\" class=\"dataframe\">\n",
              "  <thead>\n",
              "    <tr style=\"text-align: right;\">\n",
              "      <th></th>\n",
              "      <th>Id</th>\n",
              "      <th>SleepDay</th>\n",
              "      <th>TotalSleepRecords</th>\n",
              "      <th>TotalMinutesAsleep</th>\n",
              "      <th>TotalTimeInBed</th>\n",
              "    </tr>\n",
              "  </thead>\n",
              "  <tbody>\n",
              "    <tr>\n",
              "      <th>0</th>\n",
              "      <td>1503960366</td>\n",
              "      <td>4/12/2016 12:00:00 AM</td>\n",
              "      <td>1</td>\n",
              "      <td>327</td>\n",
              "      <td>346</td>\n",
              "    </tr>\n",
              "    <tr>\n",
              "      <th>1</th>\n",
              "      <td>1503960366</td>\n",
              "      <td>4/13/2016 12:00:00 AM</td>\n",
              "      <td>2</td>\n",
              "      <td>384</td>\n",
              "      <td>407</td>\n",
              "    </tr>\n",
              "    <tr>\n",
              "      <th>2</th>\n",
              "      <td>1503960366</td>\n",
              "      <td>4/15/2016 12:00:00 AM</td>\n",
              "      <td>1</td>\n",
              "      <td>412</td>\n",
              "      <td>442</td>\n",
              "    </tr>\n",
              "    <tr>\n",
              "      <th>3</th>\n",
              "      <td>1503960366</td>\n",
              "      <td>4/16/2016 12:00:00 AM</td>\n",
              "      <td>2</td>\n",
              "      <td>340</td>\n",
              "      <td>367</td>\n",
              "    </tr>\n",
              "    <tr>\n",
              "      <th>4</th>\n",
              "      <td>1503960366</td>\n",
              "      <td>4/17/2016 12:00:00 AM</td>\n",
              "      <td>1</td>\n",
              "      <td>700</td>\n",
              "      <td>712</td>\n",
              "    </tr>\n",
              "  </tbody>\n",
              "</table>\n",
              "</div>\n",
              "      <button class=\"colab-df-convert\" onclick=\"convertToInteractive('df-574c34d1-fc75-4e96-8de7-5397431e0e18')\"\n",
              "              title=\"Convert this dataframe to an interactive table.\"\n",
              "              style=\"display:none;\">\n",
              "        \n",
              "  <svg xmlns=\"http://www.w3.org/2000/svg\" height=\"24px\"viewBox=\"0 0 24 24\"\n",
              "       width=\"24px\">\n",
              "    <path d=\"M0 0h24v24H0V0z\" fill=\"none\"/>\n",
              "    <path d=\"M18.56 5.44l.94 2.06.94-2.06 2.06-.94-2.06-.94-.94-2.06-.94 2.06-2.06.94zm-11 1L8.5 8.5l.94-2.06 2.06-.94-2.06-.94L8.5 2.5l-.94 2.06-2.06.94zm10 10l.94 2.06.94-2.06 2.06-.94-2.06-.94-.94-2.06-.94 2.06-2.06.94z\"/><path d=\"M17.41 7.96l-1.37-1.37c-.4-.4-.92-.59-1.43-.59-.52 0-1.04.2-1.43.59L10.3 9.45l-7.72 7.72c-.78.78-.78 2.05 0 2.83L4 21.41c.39.39.9.59 1.41.59.51 0 1.02-.2 1.41-.59l7.78-7.78 2.81-2.81c.8-.78.8-2.07 0-2.86zM5.41 20L4 18.59l7.72-7.72 1.47 1.35L5.41 20z\"/>\n",
              "  </svg>\n",
              "      </button>\n",
              "      \n",
              "  <style>\n",
              "    .colab-df-container {\n",
              "      display:flex;\n",
              "      flex-wrap:wrap;\n",
              "      gap: 12px;\n",
              "    }\n",
              "\n",
              "    .colab-df-convert {\n",
              "      background-color: #E8F0FE;\n",
              "      border: none;\n",
              "      border-radius: 50%;\n",
              "      cursor: pointer;\n",
              "      display: none;\n",
              "      fill: #1967D2;\n",
              "      height: 32px;\n",
              "      padding: 0 0 0 0;\n",
              "      width: 32px;\n",
              "    }\n",
              "\n",
              "    .colab-df-convert:hover {\n",
              "      background-color: #E2EBFA;\n",
              "      box-shadow: 0px 1px 2px rgba(60, 64, 67, 0.3), 0px 1px 3px 1px rgba(60, 64, 67, 0.15);\n",
              "      fill: #174EA6;\n",
              "    }\n",
              "\n",
              "    [theme=dark] .colab-df-convert {\n",
              "      background-color: #3B4455;\n",
              "      fill: #D2E3FC;\n",
              "    }\n",
              "\n",
              "    [theme=dark] .colab-df-convert:hover {\n",
              "      background-color: #434B5C;\n",
              "      box-shadow: 0px 1px 3px 1px rgba(0, 0, 0, 0.15);\n",
              "      filter: drop-shadow(0px 1px 2px rgba(0, 0, 0, 0.3));\n",
              "      fill: #FFFFFF;\n",
              "    }\n",
              "  </style>\n",
              "\n",
              "      <script>\n",
              "        const buttonEl =\n",
              "          document.querySelector('#df-574c34d1-fc75-4e96-8de7-5397431e0e18 button.colab-df-convert');\n",
              "        buttonEl.style.display =\n",
              "          google.colab.kernel.accessAllowed ? 'block' : 'none';\n",
              "\n",
              "        async function convertToInteractive(key) {\n",
              "          const element = document.querySelector('#df-574c34d1-fc75-4e96-8de7-5397431e0e18');\n",
              "          const dataTable =\n",
              "            await google.colab.kernel.invokeFunction('convertToInteractive',\n",
              "                                                     [key], {});\n",
              "          if (!dataTable) return;\n",
              "\n",
              "          const docLinkHtml = 'Like what you see? Visit the ' +\n",
              "            '<a target=\"_blank\" href=https://colab.research.google.com/notebooks/data_table.ipynb>data table notebook</a>'\n",
              "            + ' to learn more about interactive tables.';\n",
              "          element.innerHTML = '';\n",
              "          dataTable['output_type'] = 'display_data';\n",
              "          await google.colab.output.renderOutput(dataTable, element);\n",
              "          const docLink = document.createElement('div');\n",
              "          docLink.innerHTML = docLinkHtml;\n",
              "          element.appendChild(docLink);\n",
              "        }\n",
              "      </script>\n",
              "    </div>\n",
              "  </div>\n",
              "  "
            ]
          },
          "metadata": {},
          "execution_count": 6
        }
      ]
    },
    {
      "cell_type": "code",
      "source": [
        "hour_intensities = pd.read_csv('/content/hourlyIntensities_merged.csv')\n",
        "Integridade(hour_intensities)"
      ],
      "metadata": {
        "colab": {
          "base_uri": "https://localhost:8080/"
        },
        "id": "_u0CSf6ZAwS5",
        "outputId": "d8698e76-e3b1-4468-fd19-95a41e6ef952"
      },
      "execution_count": null,
      "outputs": [
        {
          "output_type": "stream",
          "name": "stdout",
          "text": [
            "Quantidade de usuários: 33\n",
            "Valors duplicados: 0\n",
            "Valores ausentes:Id                  0\n",
            "ActivityHour        0\n",
            "TotalIntensity      0\n",
            "AverageIntensity    0\n",
            "dtype: int64\n"
          ]
        }
      ]
    },
    {
      "cell_type": "code",
      "source": [
        "hour_intensities.head()"
      ],
      "metadata": {
        "id": "bKeQcJMbA-89",
        "colab": {
          "base_uri": "https://localhost:8080/"
        },
        "outputId": "c5369119-3058-4fa4-d833-fd8af1ff49c0"
      },
      "execution_count": null,
      "outputs": [
        {
          "output_type": "execute_result",
          "data": {
            "text/plain": [
              "           Id           ActivityHour  TotalIntensity  AverageIntensity\n",
              "0  1503960366  4/12/2016 12:00:00 AM              20          0.333333\n",
              "1  1503960366   4/12/2016 1:00:00 AM               8          0.133333\n",
              "2  1503960366   4/12/2016 2:00:00 AM               7          0.116667\n",
              "3  1503960366   4/12/2016 3:00:00 AM               0          0.000000\n",
              "4  1503960366   4/12/2016 4:00:00 AM               0          0.000000"
            ],
            "text/html": [
              "\n",
              "  <div id=\"df-3c15a524-06de-47bc-b235-85c06ee38834\">\n",
              "    <div class=\"colab-df-container\">\n",
              "      <div>\n",
              "<style scoped>\n",
              "    .dataframe tbody tr th:only-of-type {\n",
              "        vertical-align: middle;\n",
              "    }\n",
              "\n",
              "    .dataframe tbody tr th {\n",
              "        vertical-align: top;\n",
              "    }\n",
              "\n",
              "    .dataframe thead th {\n",
              "        text-align: right;\n",
              "    }\n",
              "</style>\n",
              "<table border=\"1\" class=\"dataframe\">\n",
              "  <thead>\n",
              "    <tr style=\"text-align: right;\">\n",
              "      <th></th>\n",
              "      <th>Id</th>\n",
              "      <th>ActivityHour</th>\n",
              "      <th>TotalIntensity</th>\n",
              "      <th>AverageIntensity</th>\n",
              "    </tr>\n",
              "  </thead>\n",
              "  <tbody>\n",
              "    <tr>\n",
              "      <th>0</th>\n",
              "      <td>1503960366</td>\n",
              "      <td>4/12/2016 12:00:00 AM</td>\n",
              "      <td>20</td>\n",
              "      <td>0.333333</td>\n",
              "    </tr>\n",
              "    <tr>\n",
              "      <th>1</th>\n",
              "      <td>1503960366</td>\n",
              "      <td>4/12/2016 1:00:00 AM</td>\n",
              "      <td>8</td>\n",
              "      <td>0.133333</td>\n",
              "    </tr>\n",
              "    <tr>\n",
              "      <th>2</th>\n",
              "      <td>1503960366</td>\n",
              "      <td>4/12/2016 2:00:00 AM</td>\n",
              "      <td>7</td>\n",
              "      <td>0.116667</td>\n",
              "    </tr>\n",
              "    <tr>\n",
              "      <th>3</th>\n",
              "      <td>1503960366</td>\n",
              "      <td>4/12/2016 3:00:00 AM</td>\n",
              "      <td>0</td>\n",
              "      <td>0.000000</td>\n",
              "    </tr>\n",
              "    <tr>\n",
              "      <th>4</th>\n",
              "      <td>1503960366</td>\n",
              "      <td>4/12/2016 4:00:00 AM</td>\n",
              "      <td>0</td>\n",
              "      <td>0.000000</td>\n",
              "    </tr>\n",
              "  </tbody>\n",
              "</table>\n",
              "</div>\n",
              "      <button class=\"colab-df-convert\" onclick=\"convertToInteractive('df-3c15a524-06de-47bc-b235-85c06ee38834')\"\n",
              "              title=\"Convert this dataframe to an interactive table.\"\n",
              "              style=\"display:none;\">\n",
              "        \n",
              "  <svg xmlns=\"http://www.w3.org/2000/svg\" height=\"24px\"viewBox=\"0 0 24 24\"\n",
              "       width=\"24px\">\n",
              "    <path d=\"M0 0h24v24H0V0z\" fill=\"none\"/>\n",
              "    <path d=\"M18.56 5.44l.94 2.06.94-2.06 2.06-.94-2.06-.94-.94-2.06-.94 2.06-2.06.94zm-11 1L8.5 8.5l.94-2.06 2.06-.94-2.06-.94L8.5 2.5l-.94 2.06-2.06.94zm10 10l.94 2.06.94-2.06 2.06-.94-2.06-.94-.94-2.06-.94 2.06-2.06.94z\"/><path d=\"M17.41 7.96l-1.37-1.37c-.4-.4-.92-.59-1.43-.59-.52 0-1.04.2-1.43.59L10.3 9.45l-7.72 7.72c-.78.78-.78 2.05 0 2.83L4 21.41c.39.39.9.59 1.41.59.51 0 1.02-.2 1.41-.59l7.78-7.78 2.81-2.81c.8-.78.8-2.07 0-2.86zM5.41 20L4 18.59l7.72-7.72 1.47 1.35L5.41 20z\"/>\n",
              "  </svg>\n",
              "      </button>\n",
              "      \n",
              "  <style>\n",
              "    .colab-df-container {\n",
              "      display:flex;\n",
              "      flex-wrap:wrap;\n",
              "      gap: 12px;\n",
              "    }\n",
              "\n",
              "    .colab-df-convert {\n",
              "      background-color: #E8F0FE;\n",
              "      border: none;\n",
              "      border-radius: 50%;\n",
              "      cursor: pointer;\n",
              "      display: none;\n",
              "      fill: #1967D2;\n",
              "      height: 32px;\n",
              "      padding: 0 0 0 0;\n",
              "      width: 32px;\n",
              "    }\n",
              "\n",
              "    .colab-df-convert:hover {\n",
              "      background-color: #E2EBFA;\n",
              "      box-shadow: 0px 1px 2px rgba(60, 64, 67, 0.3), 0px 1px 3px 1px rgba(60, 64, 67, 0.15);\n",
              "      fill: #174EA6;\n",
              "    }\n",
              "\n",
              "    [theme=dark] .colab-df-convert {\n",
              "      background-color: #3B4455;\n",
              "      fill: #D2E3FC;\n",
              "    }\n",
              "\n",
              "    [theme=dark] .colab-df-convert:hover {\n",
              "      background-color: #434B5C;\n",
              "      box-shadow: 0px 1px 3px 1px rgba(0, 0, 0, 0.15);\n",
              "      filter: drop-shadow(0px 1px 2px rgba(0, 0, 0, 0.3));\n",
              "      fill: #FFFFFF;\n",
              "    }\n",
              "  </style>\n",
              "\n",
              "      <script>\n",
              "        const buttonEl =\n",
              "          document.querySelector('#df-3c15a524-06de-47bc-b235-85c06ee38834 button.colab-df-convert');\n",
              "        buttonEl.style.display =\n",
              "          google.colab.kernel.accessAllowed ? 'block' : 'none';\n",
              "\n",
              "        async function convertToInteractive(key) {\n",
              "          const element = document.querySelector('#df-3c15a524-06de-47bc-b235-85c06ee38834');\n",
              "          const dataTable =\n",
              "            await google.colab.kernel.invokeFunction('convertToInteractive',\n",
              "                                                     [key], {});\n",
              "          if (!dataTable) return;\n",
              "\n",
              "          const docLinkHtml = 'Like what you see? Visit the ' +\n",
              "            '<a target=\"_blank\" href=https://colab.research.google.com/notebooks/data_table.ipynb>data table notebook</a>'\n",
              "            + ' to learn more about interactive tables.';\n",
              "          element.innerHTML = '';\n",
              "          dataTable['output_type'] = 'display_data';\n",
              "          await google.colab.output.renderOutput(dataTable, element);\n",
              "          const docLink = document.createElement('div');\n",
              "          docLink.innerHTML = docLinkHtml;\n",
              "          element.appendChild(docLink);\n",
              "        }\n",
              "      </script>\n",
              "    </div>\n",
              "  </div>\n",
              "  "
            ]
          },
          "metadata": {},
          "execution_count": 8
        }
      ]
    },
    {
      "cell_type": "markdown",
      "source": [
        "#Processar."
      ],
      "metadata": {
        "id": "A2B2THNnC7gr"
      }
    },
    {
      "cell_type": "code",
      "source": [
        "#Removendo duplicatas do dataset sleep_day\n",
        "sleep_day = sleep_day.drop_duplicates()\n",
        "\n",
        "#Verificando a integridade\n",
        "Integridade(sleep_day)"
      ],
      "metadata": {
        "id": "CnpKnZjVC7PL",
        "colab": {
          "base_uri": "https://localhost:8080/"
        },
        "outputId": "5b111ba0-85fb-421c-e611-49df475f4c81"
      },
      "execution_count": null,
      "outputs": [
        {
          "output_type": "stream",
          "name": "stdout",
          "text": [
            "Quantidade de usuários: 24\n",
            "Valors duplicados: 0\n",
            "Valores ausentes:Id                    0\n",
            "SleepDay              0\n",
            "TotalSleepRecords     0\n",
            "TotalMinutesAsleep    0\n",
            "TotalTimeInBed        0\n",
            "dtype: int64\n"
          ]
        }
      ]
    },
    {
      "cell_type": "code",
      "source": [
        "def DiasSemana(dataset, col):\n",
        "  #transformando a coluna para tipo date\n",
        "  dataset.ActivityDate = pd.to_datetime(dataset[col], format=\"%m/%d/%Y\")\n",
        "  \n",
        "  #Criando coluna dias da semana\n",
        "  dia_semana = pd.to_datetime(dataset[col]).dt.strftime('%A')\n",
        "\n",
        "  #Inserir dia da semana como uma nova coluna no dataframe\n",
        "  dataset.insert(2, 'dia_semana', dia_semana)\n",
        "\n",
        "  return dataset.head()"
      ],
      "metadata": {
        "id": "5-w2PaSJs1-B"
      },
      "execution_count": null,
      "outputs": []
    },
    {
      "cell_type": "code",
      "source": [
        "#Funcao para transformar o formato de 12 horas e 24 horas\n",
        "def convert24(str1): \n",
        "    if str1[-2:] == \"AM\" and str1[:2] == \"12\": \n",
        "        return \"00\" + str1[2:-2] \n",
        "          \n",
        "    elif str1[-2:] == \"AM\": \n",
        "        if str1[:2] == '10' or str1[:2] == '11':\n",
        "          return str1[:-2] \n",
        "        else: \n",
        "          return '0'+str1[:-2] \n",
        "    \n",
        "    elif str1[-2:] == \"PM\" and str1[:2] == \"12\": \n",
        "        return str1[:-2] \n",
        "          \n",
        "    else: \n",
        "        if ':' not in str1[:2]:\n",
        "          return str(int(str1[:2]) + 12) + str1[2:8]\n",
        "        \n",
        "        else:\n",
        "          hora =  str(int(str1[:1]) + 12) + str1[2:8] \n",
        "          return hora[:2]+':'+hora[2:]\n",
        "\n",
        "def separa(df, col):\n",
        "  df['data'], df['hora'] = df[col].str.split(' ', 1).str"
      ],
      "metadata": {
        "id": "KZUmDkWf1GXJ"
      },
      "execution_count": null,
      "outputs": []
    },
    {
      "cell_type": "code",
      "source": [
        "#Criando colunas data e hora\n",
        "separa(hour_intensities, 'ActivityHour')\n",
        "separa(sleep_day, 'SleepDay')\n",
        "\n",
        "#Aplicando a função em todas as linhas\n",
        "hour_intensities['hora'] = hour_intensities['hora'].apply(convert24)\n",
        "sleep_day['hora'] = sleep_day['hora'].apply(convert24)\n",
        "\n",
        "#renomeando coluna\n",
        "day_activity.rename(columns={'ActivityDate': 'data'}, inplace=True)\n",
        "\n",
        "#criando coluna dias da semana\n",
        "DiasSemana(hour_intensities, 'data')\n",
        "DiasSemana(sleep_day, 'data')\n",
        "DiasSemana(day_activity, 'data')\n",
        "\n",
        "#removendo coluna\n",
        "hour_intensities.drop(['ActivityHour'], axis=1, inplace = True)\n",
        "sleep_day.drop(['SleepDay'], axis=1, inplace = True)\n",
        "\n",
        "#reorganizando as colunas\n",
        "hour_intensities = hour_intensities[['data','dia_semana' ,'hora','TotalIntensity',\t'AverageIntensity']]\n",
        "sleep_day = sleep_day[['Id','data','dia_semana','TotalSleepRecords', 'TotalMinutesAsleep',\t'TotalTimeInBed']]"
      ],
      "metadata": {
        "colab": {
          "base_uri": "https://localhost:8080/"
        },
        "id": "RVsDWrTBDl99",
        "outputId": "3c01e1b2-9d50-4f22-ca0b-e7cf2641198b"
      },
      "execution_count": null,
      "outputs": [
        {
          "output_type": "stream",
          "name": "stderr",
          "text": [
            "<ipython-input-11-11371d2045dd>:24: FutureWarning: Columnar iteration over characters will be deprecated in future releases.\n",
            "  df['data'], df['hora'] = df[col].str.split(' ', 1).str\n",
            "<ipython-input-10-733d16e72ccc>:3: UserWarning: Pandas doesn't allow columns to be created via a new attribute name - see https://pandas.pydata.org/pandas-docs/stable/indexing.html#attribute-access\n",
            "  dataset.ActivityDate = pd.to_datetime(dataset[col], format=\"%m/%d/%Y\")\n"
          ]
        }
      ]
    },
    {
      "cell_type": "code",
      "source": [
        "#merge\n",
        "merge_sleep_activity= pd.merge(sleep_day,day_activity, on = ['Id', 'data'],  \n",
        "                  )\n",
        "merge_sleep_activity.head()"
      ],
      "metadata": {
        "colab": {
          "base_uri": "https://localhost:8080/"
        },
        "id": "UskrdPSQ4Ue1",
        "outputId": "26b46f8d-cfb3-4e2f-991a-80773e6fca28"
      },
      "execution_count": null,
      "outputs": [
        {
          "output_type": "execute_result",
          "data": {
            "text/plain": [
              "           Id       data dia_semana_x  TotalSleepRecords  TotalMinutesAsleep  \\\n",
              "0  1503960366  4/12/2016      Tuesday                  1                 327   \n",
              "1  1503960366  4/13/2016    Wednesday                  2                 384   \n",
              "2  1503960366  4/15/2016       Friday                  1                 412   \n",
              "3  1503960366  4/16/2016     Saturday                  2                 340   \n",
              "4  1503960366  4/17/2016       Sunday                  1                 700   \n",
              "\n",
              "   TotalTimeInBed dia_semana_y  TotalSteps  TotalDistance  TrackerDistance  \\\n",
              "0             346      Tuesday       13162           8.50             8.50   \n",
              "1             407    Wednesday       10735           6.97             6.97   \n",
              "2             442       Friday        9762           6.28             6.28   \n",
              "3             367     Saturday       12669           8.16             8.16   \n",
              "4             712       Sunday        9705           6.48             6.48   \n",
              "\n",
              "   LoggedActivitiesDistance  VeryActiveDistance  ModeratelyActiveDistance  \\\n",
              "0                       0.0                1.88                      0.55   \n",
              "1                       0.0                1.57                      0.69   \n",
              "2                       0.0                2.14                      1.26   \n",
              "3                       0.0                2.71                      0.41   \n",
              "4                       0.0                3.19                      0.78   \n",
              "\n",
              "   LightActiveDistance  SedentaryActiveDistance  VeryActiveMinutes  \\\n",
              "0                 6.06                      0.0                 25   \n",
              "1                 4.71                      0.0                 21   \n",
              "2                 2.83                      0.0                 29   \n",
              "3                 5.04                      0.0                 36   \n",
              "4                 2.51                      0.0                 38   \n",
              "\n",
              "   FairlyActiveMinutes  LightlyActiveMinutes  SedentaryMinutes  Calories  \n",
              "0                   13                   328               728      1985  \n",
              "1                   19                   217               776      1797  \n",
              "2                   34                   209               726      1745  \n",
              "3                   10                   221               773      1863  \n",
              "4                   20                   164               539      1728  "
            ],
            "text/html": [
              "\n",
              "  <div id=\"df-41d0d9b4-ad88-4d87-b580-7ebf617ea852\">\n",
              "    <div class=\"colab-df-container\">\n",
              "      <div>\n",
              "<style scoped>\n",
              "    .dataframe tbody tr th:only-of-type {\n",
              "        vertical-align: middle;\n",
              "    }\n",
              "\n",
              "    .dataframe tbody tr th {\n",
              "        vertical-align: top;\n",
              "    }\n",
              "\n",
              "    .dataframe thead th {\n",
              "        text-align: right;\n",
              "    }\n",
              "</style>\n",
              "<table border=\"1\" class=\"dataframe\">\n",
              "  <thead>\n",
              "    <tr style=\"text-align: right;\">\n",
              "      <th></th>\n",
              "      <th>Id</th>\n",
              "      <th>data</th>\n",
              "      <th>dia_semana_x</th>\n",
              "      <th>TotalSleepRecords</th>\n",
              "      <th>TotalMinutesAsleep</th>\n",
              "      <th>TotalTimeInBed</th>\n",
              "      <th>dia_semana_y</th>\n",
              "      <th>TotalSteps</th>\n",
              "      <th>TotalDistance</th>\n",
              "      <th>TrackerDistance</th>\n",
              "      <th>LoggedActivitiesDistance</th>\n",
              "      <th>VeryActiveDistance</th>\n",
              "      <th>ModeratelyActiveDistance</th>\n",
              "      <th>LightActiveDistance</th>\n",
              "      <th>SedentaryActiveDistance</th>\n",
              "      <th>VeryActiveMinutes</th>\n",
              "      <th>FairlyActiveMinutes</th>\n",
              "      <th>LightlyActiveMinutes</th>\n",
              "      <th>SedentaryMinutes</th>\n",
              "      <th>Calories</th>\n",
              "    </tr>\n",
              "  </thead>\n",
              "  <tbody>\n",
              "    <tr>\n",
              "      <th>0</th>\n",
              "      <td>1503960366</td>\n",
              "      <td>4/12/2016</td>\n",
              "      <td>Tuesday</td>\n",
              "      <td>1</td>\n",
              "      <td>327</td>\n",
              "      <td>346</td>\n",
              "      <td>Tuesday</td>\n",
              "      <td>13162</td>\n",
              "      <td>8.50</td>\n",
              "      <td>8.50</td>\n",
              "      <td>0.0</td>\n",
              "      <td>1.88</td>\n",
              "      <td>0.55</td>\n",
              "      <td>6.06</td>\n",
              "      <td>0.0</td>\n",
              "      <td>25</td>\n",
              "      <td>13</td>\n",
              "      <td>328</td>\n",
              "      <td>728</td>\n",
              "      <td>1985</td>\n",
              "    </tr>\n",
              "    <tr>\n",
              "      <th>1</th>\n",
              "      <td>1503960366</td>\n",
              "      <td>4/13/2016</td>\n",
              "      <td>Wednesday</td>\n",
              "      <td>2</td>\n",
              "      <td>384</td>\n",
              "      <td>407</td>\n",
              "      <td>Wednesday</td>\n",
              "      <td>10735</td>\n",
              "      <td>6.97</td>\n",
              "      <td>6.97</td>\n",
              "      <td>0.0</td>\n",
              "      <td>1.57</td>\n",
              "      <td>0.69</td>\n",
              "      <td>4.71</td>\n",
              "      <td>0.0</td>\n",
              "      <td>21</td>\n",
              "      <td>19</td>\n",
              "      <td>217</td>\n",
              "      <td>776</td>\n",
              "      <td>1797</td>\n",
              "    </tr>\n",
              "    <tr>\n",
              "      <th>2</th>\n",
              "      <td>1503960366</td>\n",
              "      <td>4/15/2016</td>\n",
              "      <td>Friday</td>\n",
              "      <td>1</td>\n",
              "      <td>412</td>\n",
              "      <td>442</td>\n",
              "      <td>Friday</td>\n",
              "      <td>9762</td>\n",
              "      <td>6.28</td>\n",
              "      <td>6.28</td>\n",
              "      <td>0.0</td>\n",
              "      <td>2.14</td>\n",
              "      <td>1.26</td>\n",
              "      <td>2.83</td>\n",
              "      <td>0.0</td>\n",
              "      <td>29</td>\n",
              "      <td>34</td>\n",
              "      <td>209</td>\n",
              "      <td>726</td>\n",
              "      <td>1745</td>\n",
              "    </tr>\n",
              "    <tr>\n",
              "      <th>3</th>\n",
              "      <td>1503960366</td>\n",
              "      <td>4/16/2016</td>\n",
              "      <td>Saturday</td>\n",
              "      <td>2</td>\n",
              "      <td>340</td>\n",
              "      <td>367</td>\n",
              "      <td>Saturday</td>\n",
              "      <td>12669</td>\n",
              "      <td>8.16</td>\n",
              "      <td>8.16</td>\n",
              "      <td>0.0</td>\n",
              "      <td>2.71</td>\n",
              "      <td>0.41</td>\n",
              "      <td>5.04</td>\n",
              "      <td>0.0</td>\n",
              "      <td>36</td>\n",
              "      <td>10</td>\n",
              "      <td>221</td>\n",
              "      <td>773</td>\n",
              "      <td>1863</td>\n",
              "    </tr>\n",
              "    <tr>\n",
              "      <th>4</th>\n",
              "      <td>1503960366</td>\n",
              "      <td>4/17/2016</td>\n",
              "      <td>Sunday</td>\n",
              "      <td>1</td>\n",
              "      <td>700</td>\n",
              "      <td>712</td>\n",
              "      <td>Sunday</td>\n",
              "      <td>9705</td>\n",
              "      <td>6.48</td>\n",
              "      <td>6.48</td>\n",
              "      <td>0.0</td>\n",
              "      <td>3.19</td>\n",
              "      <td>0.78</td>\n",
              "      <td>2.51</td>\n",
              "      <td>0.0</td>\n",
              "      <td>38</td>\n",
              "      <td>20</td>\n",
              "      <td>164</td>\n",
              "      <td>539</td>\n",
              "      <td>1728</td>\n",
              "    </tr>\n",
              "  </tbody>\n",
              "</table>\n",
              "</div>\n",
              "      <button class=\"colab-df-convert\" onclick=\"convertToInteractive('df-41d0d9b4-ad88-4d87-b580-7ebf617ea852')\"\n",
              "              title=\"Convert this dataframe to an interactive table.\"\n",
              "              style=\"display:none;\">\n",
              "        \n",
              "  <svg xmlns=\"http://www.w3.org/2000/svg\" height=\"24px\"viewBox=\"0 0 24 24\"\n",
              "       width=\"24px\">\n",
              "    <path d=\"M0 0h24v24H0V0z\" fill=\"none\"/>\n",
              "    <path d=\"M18.56 5.44l.94 2.06.94-2.06 2.06-.94-2.06-.94-.94-2.06-.94 2.06-2.06.94zm-11 1L8.5 8.5l.94-2.06 2.06-.94-2.06-.94L8.5 2.5l-.94 2.06-2.06.94zm10 10l.94 2.06.94-2.06 2.06-.94-2.06-.94-.94-2.06-.94 2.06-2.06.94z\"/><path d=\"M17.41 7.96l-1.37-1.37c-.4-.4-.92-.59-1.43-.59-.52 0-1.04.2-1.43.59L10.3 9.45l-7.72 7.72c-.78.78-.78 2.05 0 2.83L4 21.41c.39.39.9.59 1.41.59.51 0 1.02-.2 1.41-.59l7.78-7.78 2.81-2.81c.8-.78.8-2.07 0-2.86zM5.41 20L4 18.59l7.72-7.72 1.47 1.35L5.41 20z\"/>\n",
              "  </svg>\n",
              "      </button>\n",
              "      \n",
              "  <style>\n",
              "    .colab-df-container {\n",
              "      display:flex;\n",
              "      flex-wrap:wrap;\n",
              "      gap: 12px;\n",
              "    }\n",
              "\n",
              "    .colab-df-convert {\n",
              "      background-color: #E8F0FE;\n",
              "      border: none;\n",
              "      border-radius: 50%;\n",
              "      cursor: pointer;\n",
              "      display: none;\n",
              "      fill: #1967D2;\n",
              "      height: 32px;\n",
              "      padding: 0 0 0 0;\n",
              "      width: 32px;\n",
              "    }\n",
              "\n",
              "    .colab-df-convert:hover {\n",
              "      background-color: #E2EBFA;\n",
              "      box-shadow: 0px 1px 2px rgba(60, 64, 67, 0.3), 0px 1px 3px 1px rgba(60, 64, 67, 0.15);\n",
              "      fill: #174EA6;\n",
              "    }\n",
              "\n",
              "    [theme=dark] .colab-df-convert {\n",
              "      background-color: #3B4455;\n",
              "      fill: #D2E3FC;\n",
              "    }\n",
              "\n",
              "    [theme=dark] .colab-df-convert:hover {\n",
              "      background-color: #434B5C;\n",
              "      box-shadow: 0px 1px 3px 1px rgba(0, 0, 0, 0.15);\n",
              "      filter: drop-shadow(0px 1px 2px rgba(0, 0, 0, 0.3));\n",
              "      fill: #FFFFFF;\n",
              "    }\n",
              "  </style>\n",
              "\n",
              "      <script>\n",
              "        const buttonEl =\n",
              "          document.querySelector('#df-41d0d9b4-ad88-4d87-b580-7ebf617ea852 button.colab-df-convert');\n",
              "        buttonEl.style.display =\n",
              "          google.colab.kernel.accessAllowed ? 'block' : 'none';\n",
              "\n",
              "        async function convertToInteractive(key) {\n",
              "          const element = document.querySelector('#df-41d0d9b4-ad88-4d87-b580-7ebf617ea852');\n",
              "          const dataTable =\n",
              "            await google.colab.kernel.invokeFunction('convertToInteractive',\n",
              "                                                     [key], {});\n",
              "          if (!dataTable) return;\n",
              "\n",
              "          const docLinkHtml = 'Like what you see? Visit the ' +\n",
              "            '<a target=\"_blank\" href=https://colab.research.google.com/notebooks/data_table.ipynb>data table notebook</a>'\n",
              "            + ' to learn more about interactive tables.';\n",
              "          element.innerHTML = '';\n",
              "          dataTable['output_type'] = 'display_data';\n",
              "          await google.colab.output.renderOutput(dataTable, element);\n",
              "          const docLink = document.createElement('div');\n",
              "          docLink.innerHTML = docLinkHtml;\n",
              "          element.appendChild(docLink);\n",
              "        }\n",
              "      </script>\n",
              "    </div>\n",
              "  </div>\n",
              "  "
            ]
          },
          "metadata": {},
          "execution_count": 13
        }
      ]
    },
    {
      "cell_type": "code",
      "source": [],
      "metadata": {
        "id": "IaNPjSjh4ii5"
      },
      "execution_count": null,
      "outputs": []
    },
    {
      "cell_type": "markdown",
      "source": [
        "#Analisar."
      ],
      "metadata": {
        "id": "bvTSs9iQQx1N"
      }
    },
    {
      "cell_type": "code",
      "source": [
        "#cores da marca:\n",
        "bella_colors = ['#000000', '#fe8f77', '#eed9f8']\n",
        "\n",
        "#Subindo fonte que será utilizada\n",
        "import matplotlib.font_manager as fm\n",
        "fprop = fm.FontProperties(fname='/content/Poppins-Bold.ttf')"
      ],
      "metadata": {
        "id": "qUEPYIkkLZ6w"
      },
      "execution_count": null,
      "outputs": []
    },
    {
      "cell_type": "markdown",
      "source": [
        "### Como os usuários dormem?"
      ],
      "metadata": {
        "id": "rvr0jt1w6sgc"
      }
    },
    {
      "cell_type": "code",
      "source": [
        "#nova coluna com a quantidade de tempo que os usuarios ficam acordados na cama\n",
        "sleep_day['JustBed'] = sleep_day['TotalTimeInBed']-sleep_day['TotalMinutesAsleep']"
      ],
      "metadata": {
        "id": "VBQ367xKDrcZ"
      },
      "execution_count": null,
      "outputs": []
    },
    {
      "cell_type": "code",
      "source": [
        "sleep_day.head()"
      ],
      "metadata": {
        "colab": {
          "base_uri": "https://localhost:8080/",
          "height": 206
        },
        "id": "r9Q0Nd4KK7aP",
        "outputId": "9757dcbb-a30c-4df4-c517-827ab4e98918"
      },
      "execution_count": null,
      "outputs": [
        {
          "output_type": "execute_result",
          "data": {
            "text/plain": [
              "           Id       data dia_semana  TotalSleepRecords  TotalMinutesAsleep  \\\n",
              "0  1503960366  4/12/2016    Tuesday                  1                 327   \n",
              "1  1503960366  4/13/2016  Wednesday                  2                 384   \n",
              "2  1503960366  4/15/2016     Friday                  1                 412   \n",
              "3  1503960366  4/16/2016   Saturday                  2                 340   \n",
              "4  1503960366  4/17/2016     Sunday                  1                 700   \n",
              "\n",
              "   TotalTimeInBed  JustBed  \n",
              "0             346       19  \n",
              "1             407       23  \n",
              "2             442       30  \n",
              "3             367       27  \n",
              "4             712       12  "
            ],
            "text/html": [
              "\n",
              "  <div id=\"df-7c425d59-8a24-4c5d-b6f5-2fb93fb704cd\">\n",
              "    <div class=\"colab-df-container\">\n",
              "      <div>\n",
              "<style scoped>\n",
              "    .dataframe tbody tr th:only-of-type {\n",
              "        vertical-align: middle;\n",
              "    }\n",
              "\n",
              "    .dataframe tbody tr th {\n",
              "        vertical-align: top;\n",
              "    }\n",
              "\n",
              "    .dataframe thead th {\n",
              "        text-align: right;\n",
              "    }\n",
              "</style>\n",
              "<table border=\"1\" class=\"dataframe\">\n",
              "  <thead>\n",
              "    <tr style=\"text-align: right;\">\n",
              "      <th></th>\n",
              "      <th>Id</th>\n",
              "      <th>data</th>\n",
              "      <th>dia_semana</th>\n",
              "      <th>TotalSleepRecords</th>\n",
              "      <th>TotalMinutesAsleep</th>\n",
              "      <th>TotalTimeInBed</th>\n",
              "      <th>JustBed</th>\n",
              "    </tr>\n",
              "  </thead>\n",
              "  <tbody>\n",
              "    <tr>\n",
              "      <th>0</th>\n",
              "      <td>1503960366</td>\n",
              "      <td>4/12/2016</td>\n",
              "      <td>Tuesday</td>\n",
              "      <td>1</td>\n",
              "      <td>327</td>\n",
              "      <td>346</td>\n",
              "      <td>19</td>\n",
              "    </tr>\n",
              "    <tr>\n",
              "      <th>1</th>\n",
              "      <td>1503960366</td>\n",
              "      <td>4/13/2016</td>\n",
              "      <td>Wednesday</td>\n",
              "      <td>2</td>\n",
              "      <td>384</td>\n",
              "      <td>407</td>\n",
              "      <td>23</td>\n",
              "    </tr>\n",
              "    <tr>\n",
              "      <th>2</th>\n",
              "      <td>1503960366</td>\n",
              "      <td>4/15/2016</td>\n",
              "      <td>Friday</td>\n",
              "      <td>1</td>\n",
              "      <td>412</td>\n",
              "      <td>442</td>\n",
              "      <td>30</td>\n",
              "    </tr>\n",
              "    <tr>\n",
              "      <th>3</th>\n",
              "      <td>1503960366</td>\n",
              "      <td>4/16/2016</td>\n",
              "      <td>Saturday</td>\n",
              "      <td>2</td>\n",
              "      <td>340</td>\n",
              "      <td>367</td>\n",
              "      <td>27</td>\n",
              "    </tr>\n",
              "    <tr>\n",
              "      <th>4</th>\n",
              "      <td>1503960366</td>\n",
              "      <td>4/17/2016</td>\n",
              "      <td>Sunday</td>\n",
              "      <td>1</td>\n",
              "      <td>700</td>\n",
              "      <td>712</td>\n",
              "      <td>12</td>\n",
              "    </tr>\n",
              "  </tbody>\n",
              "</table>\n",
              "</div>\n",
              "      <button class=\"colab-df-convert\" onclick=\"convertToInteractive('df-7c425d59-8a24-4c5d-b6f5-2fb93fb704cd')\"\n",
              "              title=\"Convert this dataframe to an interactive table.\"\n",
              "              style=\"display:none;\">\n",
              "        \n",
              "  <svg xmlns=\"http://www.w3.org/2000/svg\" height=\"24px\"viewBox=\"0 0 24 24\"\n",
              "       width=\"24px\">\n",
              "    <path d=\"M0 0h24v24H0V0z\" fill=\"none\"/>\n",
              "    <path d=\"M18.56 5.44l.94 2.06.94-2.06 2.06-.94-2.06-.94-.94-2.06-.94 2.06-2.06.94zm-11 1L8.5 8.5l.94-2.06 2.06-.94-2.06-.94L8.5 2.5l-.94 2.06-2.06.94zm10 10l.94 2.06.94-2.06 2.06-.94-2.06-.94-.94-2.06-.94 2.06-2.06.94z\"/><path d=\"M17.41 7.96l-1.37-1.37c-.4-.4-.92-.59-1.43-.59-.52 0-1.04.2-1.43.59L10.3 9.45l-7.72 7.72c-.78.78-.78 2.05 0 2.83L4 21.41c.39.39.9.59 1.41.59.51 0 1.02-.2 1.41-.59l7.78-7.78 2.81-2.81c.8-.78.8-2.07 0-2.86zM5.41 20L4 18.59l7.72-7.72 1.47 1.35L5.41 20z\"/>\n",
              "  </svg>\n",
              "      </button>\n",
              "      \n",
              "  <style>\n",
              "    .colab-df-container {\n",
              "      display:flex;\n",
              "      flex-wrap:wrap;\n",
              "      gap: 12px;\n",
              "    }\n",
              "\n",
              "    .colab-df-convert {\n",
              "      background-color: #E8F0FE;\n",
              "      border: none;\n",
              "      border-radius: 50%;\n",
              "      cursor: pointer;\n",
              "      display: none;\n",
              "      fill: #1967D2;\n",
              "      height: 32px;\n",
              "      padding: 0 0 0 0;\n",
              "      width: 32px;\n",
              "    }\n",
              "\n",
              "    .colab-df-convert:hover {\n",
              "      background-color: #E2EBFA;\n",
              "      box-shadow: 0px 1px 2px rgba(60, 64, 67, 0.3), 0px 1px 3px 1px rgba(60, 64, 67, 0.15);\n",
              "      fill: #174EA6;\n",
              "    }\n",
              "\n",
              "    [theme=dark] .colab-df-convert {\n",
              "      background-color: #3B4455;\n",
              "      fill: #D2E3FC;\n",
              "    }\n",
              "\n",
              "    [theme=dark] .colab-df-convert:hover {\n",
              "      background-color: #434B5C;\n",
              "      box-shadow: 0px 1px 3px 1px rgba(0, 0, 0, 0.15);\n",
              "      filter: drop-shadow(0px 1px 2px rgba(0, 0, 0, 0.3));\n",
              "      fill: #FFFFFF;\n",
              "    }\n",
              "  </style>\n",
              "\n",
              "      <script>\n",
              "        const buttonEl =\n",
              "          document.querySelector('#df-7c425d59-8a24-4c5d-b6f5-2fb93fb704cd button.colab-df-convert');\n",
              "        buttonEl.style.display =\n",
              "          google.colab.kernel.accessAllowed ? 'block' : 'none';\n",
              "\n",
              "        async function convertToInteractive(key) {\n",
              "          const element = document.querySelector('#df-7c425d59-8a24-4c5d-b6f5-2fb93fb704cd');\n",
              "          const dataTable =\n",
              "            await google.colab.kernel.invokeFunction('convertToInteractive',\n",
              "                                                     [key], {});\n",
              "          if (!dataTable) return;\n",
              "\n",
              "          const docLinkHtml = 'Like what you see? Visit the ' +\n",
              "            '<a target=\"_blank\" href=https://colab.research.google.com/notebooks/data_table.ipynb>data table notebook</a>'\n",
              "            + ' to learn more about interactive tables.';\n",
              "          element.innerHTML = '';\n",
              "          dataTable['output_type'] = 'display_data';\n",
              "          await google.colab.output.renderOutput(dataTable, element);\n",
              "          const docLink = document.createElement('div');\n",
              "          docLink.innerHTML = docLinkHtml;\n",
              "          element.appendChild(docLink);\n",
              "        }\n",
              "      </script>\n",
              "    </div>\n",
              "  </div>\n",
              "  "
            ]
          },
          "metadata": {},
          "execution_count": 16
        }
      ]
    },
    {
      "cell_type": "code",
      "source": [
        "sleep_day.describe()"
      ],
      "metadata": {
        "colab": {
          "base_uri": "https://localhost:8080/",
          "height": 300
        },
        "id": "QR8GtVqSRgXK",
        "outputId": "5a3b9ce6-9f3c-4fc8-9ac7-31e079c81378"
      },
      "execution_count": null,
      "outputs": [
        {
          "output_type": "execute_result",
          "data": {
            "text/plain": [
              "                 Id  TotalSleepRecords  TotalMinutesAsleep  TotalTimeInBed  \\\n",
              "count  4.100000e+02         410.000000          410.000000      410.000000   \n",
              "mean   4.994963e+09           1.119512          419.173171      458.482927   \n",
              "std    2.060863e+09           0.346636          118.635918      127.455140   \n",
              "min    1.503960e+09           1.000000           58.000000       61.000000   \n",
              "25%    3.977334e+09           1.000000          361.000000      403.750000   \n",
              "50%    4.702922e+09           1.000000          432.500000      463.000000   \n",
              "75%    6.962181e+09           1.000000          490.000000      526.000000   \n",
              "max    8.792010e+09           3.000000          796.000000      961.000000   \n",
              "\n",
              "          JustBed  \n",
              "count  410.000000  \n",
              "mean    39.309756  \n",
              "std     46.710932  \n",
              "min      0.000000  \n",
              "25%     17.000000  \n",
              "50%     25.500000  \n",
              "75%     40.000000  \n",
              "max    371.000000  "
            ],
            "text/html": [
              "\n",
              "  <div id=\"df-47a20b37-53b2-4eda-b6b3-438a765aba4f\">\n",
              "    <div class=\"colab-df-container\">\n",
              "      <div>\n",
              "<style scoped>\n",
              "    .dataframe tbody tr th:only-of-type {\n",
              "        vertical-align: middle;\n",
              "    }\n",
              "\n",
              "    .dataframe tbody tr th {\n",
              "        vertical-align: top;\n",
              "    }\n",
              "\n",
              "    .dataframe thead th {\n",
              "        text-align: right;\n",
              "    }\n",
              "</style>\n",
              "<table border=\"1\" class=\"dataframe\">\n",
              "  <thead>\n",
              "    <tr style=\"text-align: right;\">\n",
              "      <th></th>\n",
              "      <th>Id</th>\n",
              "      <th>TotalSleepRecords</th>\n",
              "      <th>TotalMinutesAsleep</th>\n",
              "      <th>TotalTimeInBed</th>\n",
              "      <th>JustBed</th>\n",
              "    </tr>\n",
              "  </thead>\n",
              "  <tbody>\n",
              "    <tr>\n",
              "      <th>count</th>\n",
              "      <td>4.100000e+02</td>\n",
              "      <td>410.000000</td>\n",
              "      <td>410.000000</td>\n",
              "      <td>410.000000</td>\n",
              "      <td>410.000000</td>\n",
              "    </tr>\n",
              "    <tr>\n",
              "      <th>mean</th>\n",
              "      <td>4.994963e+09</td>\n",
              "      <td>1.119512</td>\n",
              "      <td>419.173171</td>\n",
              "      <td>458.482927</td>\n",
              "      <td>39.309756</td>\n",
              "    </tr>\n",
              "    <tr>\n",
              "      <th>std</th>\n",
              "      <td>2.060863e+09</td>\n",
              "      <td>0.346636</td>\n",
              "      <td>118.635918</td>\n",
              "      <td>127.455140</td>\n",
              "      <td>46.710932</td>\n",
              "    </tr>\n",
              "    <tr>\n",
              "      <th>min</th>\n",
              "      <td>1.503960e+09</td>\n",
              "      <td>1.000000</td>\n",
              "      <td>58.000000</td>\n",
              "      <td>61.000000</td>\n",
              "      <td>0.000000</td>\n",
              "    </tr>\n",
              "    <tr>\n",
              "      <th>25%</th>\n",
              "      <td>3.977334e+09</td>\n",
              "      <td>1.000000</td>\n",
              "      <td>361.000000</td>\n",
              "      <td>403.750000</td>\n",
              "      <td>17.000000</td>\n",
              "    </tr>\n",
              "    <tr>\n",
              "      <th>50%</th>\n",
              "      <td>4.702922e+09</td>\n",
              "      <td>1.000000</td>\n",
              "      <td>432.500000</td>\n",
              "      <td>463.000000</td>\n",
              "      <td>25.500000</td>\n",
              "    </tr>\n",
              "    <tr>\n",
              "      <th>75%</th>\n",
              "      <td>6.962181e+09</td>\n",
              "      <td>1.000000</td>\n",
              "      <td>490.000000</td>\n",
              "      <td>526.000000</td>\n",
              "      <td>40.000000</td>\n",
              "    </tr>\n",
              "    <tr>\n",
              "      <th>max</th>\n",
              "      <td>8.792010e+09</td>\n",
              "      <td>3.000000</td>\n",
              "      <td>796.000000</td>\n",
              "      <td>961.000000</td>\n",
              "      <td>371.000000</td>\n",
              "    </tr>\n",
              "  </tbody>\n",
              "</table>\n",
              "</div>\n",
              "      <button class=\"colab-df-convert\" onclick=\"convertToInteractive('df-47a20b37-53b2-4eda-b6b3-438a765aba4f')\"\n",
              "              title=\"Convert this dataframe to an interactive table.\"\n",
              "              style=\"display:none;\">\n",
              "        \n",
              "  <svg xmlns=\"http://www.w3.org/2000/svg\" height=\"24px\"viewBox=\"0 0 24 24\"\n",
              "       width=\"24px\">\n",
              "    <path d=\"M0 0h24v24H0V0z\" fill=\"none\"/>\n",
              "    <path d=\"M18.56 5.44l.94 2.06.94-2.06 2.06-.94-2.06-.94-.94-2.06-.94 2.06-2.06.94zm-11 1L8.5 8.5l.94-2.06 2.06-.94-2.06-.94L8.5 2.5l-.94 2.06-2.06.94zm10 10l.94 2.06.94-2.06 2.06-.94-2.06-.94-.94-2.06-.94 2.06-2.06.94z\"/><path d=\"M17.41 7.96l-1.37-1.37c-.4-.4-.92-.59-1.43-.59-.52 0-1.04.2-1.43.59L10.3 9.45l-7.72 7.72c-.78.78-.78 2.05 0 2.83L4 21.41c.39.39.9.59 1.41.59.51 0 1.02-.2 1.41-.59l7.78-7.78 2.81-2.81c.8-.78.8-2.07 0-2.86zM5.41 20L4 18.59l7.72-7.72 1.47 1.35L5.41 20z\"/>\n",
              "  </svg>\n",
              "      </button>\n",
              "      \n",
              "  <style>\n",
              "    .colab-df-container {\n",
              "      display:flex;\n",
              "      flex-wrap:wrap;\n",
              "      gap: 12px;\n",
              "    }\n",
              "\n",
              "    .colab-df-convert {\n",
              "      background-color: #E8F0FE;\n",
              "      border: none;\n",
              "      border-radius: 50%;\n",
              "      cursor: pointer;\n",
              "      display: none;\n",
              "      fill: #1967D2;\n",
              "      height: 32px;\n",
              "      padding: 0 0 0 0;\n",
              "      width: 32px;\n",
              "    }\n",
              "\n",
              "    .colab-df-convert:hover {\n",
              "      background-color: #E2EBFA;\n",
              "      box-shadow: 0px 1px 2px rgba(60, 64, 67, 0.3), 0px 1px 3px 1px rgba(60, 64, 67, 0.15);\n",
              "      fill: #174EA6;\n",
              "    }\n",
              "\n",
              "    [theme=dark] .colab-df-convert {\n",
              "      background-color: #3B4455;\n",
              "      fill: #D2E3FC;\n",
              "    }\n",
              "\n",
              "    [theme=dark] .colab-df-convert:hover {\n",
              "      background-color: #434B5C;\n",
              "      box-shadow: 0px 1px 3px 1px rgba(0, 0, 0, 0.15);\n",
              "      filter: drop-shadow(0px 1px 2px rgba(0, 0, 0, 0.3));\n",
              "      fill: #FFFFFF;\n",
              "    }\n",
              "  </style>\n",
              "\n",
              "      <script>\n",
              "        const buttonEl =\n",
              "          document.querySelector('#df-47a20b37-53b2-4eda-b6b3-438a765aba4f button.colab-df-convert');\n",
              "        buttonEl.style.display =\n",
              "          google.colab.kernel.accessAllowed ? 'block' : 'none';\n",
              "\n",
              "        async function convertToInteractive(key) {\n",
              "          const element = document.querySelector('#df-47a20b37-53b2-4eda-b6b3-438a765aba4f');\n",
              "          const dataTable =\n",
              "            await google.colab.kernel.invokeFunction('convertToInteractive',\n",
              "                                                     [key], {});\n",
              "          if (!dataTable) return;\n",
              "\n",
              "          const docLinkHtml = 'Like what you see? Visit the ' +\n",
              "            '<a target=\"_blank\" href=https://colab.research.google.com/notebooks/data_table.ipynb>data table notebook</a>'\n",
              "            + ' to learn more about interactive tables.';\n",
              "          element.innerHTML = '';\n",
              "          dataTable['output_type'] = 'display_data';\n",
              "          await google.colab.output.renderOutput(dataTable, element);\n",
              "          const docLink = document.createElement('div');\n",
              "          docLink.innerHTML = docLinkHtml;\n",
              "          element.appendChild(docLink);\n",
              "        }\n",
              "      </script>\n",
              "    </div>\n",
              "  </div>\n",
              "  "
            ]
          },
          "metadata": {},
          "execution_count": 17
        }
      ]
    },
    {
      "cell_type": "code",
      "source": [
        "#mediana  \n",
        "sleep_day.median()"
      ],
      "metadata": {
        "colab": {
          "base_uri": "https://localhost:8080/"
        },
        "id": "9FVyfVyOnRFR",
        "outputId": "3c47f5cd-8207-4144-f4fd-bf839cbc18ec"
      },
      "execution_count": null,
      "outputs": [
        {
          "output_type": "stream",
          "name": "stderr",
          "text": [
            "<ipython-input-18-2957d444c1c0>:2: FutureWarning: Dropping of nuisance columns in DataFrame reductions (with 'numeric_only=None') is deprecated; in a future version this will raise TypeError.  Select only valid columns before calling the reduction.\n",
            "  sleep_day.median()\n"
          ]
        },
        {
          "output_type": "execute_result",
          "data": {
            "text/plain": [
              "Id                    4.702922e+09\n",
              "TotalSleepRecords     1.000000e+00\n",
              "TotalMinutesAsleep    4.325000e+02\n",
              "TotalTimeInBed        4.630000e+02\n",
              "JustBed               2.550000e+01\n",
              "dtype: float64"
            ]
          },
          "metadata": {},
          "execution_count": 18
        }
      ]
    },
    {
      "cell_type": "markdown",
      "source": [
        "Os usuários analisados apresentaram uma média de 419,17 minutos dormidos e uma mediana de 432,5 minutos dormidos, o que signica que em média e mediana os usuários estão preenchendo o minimo necessário de horas de sono por dia."
      ],
      "metadata": {
        "id": "WNuvb4taY_At"
      }
    },
    {
      "cell_type": "code",
      "source": [
        "#Agrupamento por dia da média total de dias dormidos.\n",
        "grp_sleep_day = sleep_day.groupby(['data']).mean()\n",
        "grp_sleep_day.head()"
      ],
      "metadata": {
        "colab": {
          "base_uri": "https://localhost:8080/",
          "height": 238
        },
        "id": "IU62alnWOIvi",
        "outputId": "b8a42e22-5404-48ff-f489-ffe7bd4b3d7e"
      },
      "execution_count": null,
      "outputs": [
        {
          "output_type": "execute_result",
          "data": {
            "text/plain": [
              "                     Id  TotalSleepRecords  TotalMinutesAsleep  \\\n",
              "data                                                             \n",
              "4/12/2016  4.996478e+09           1.230769          441.923077   \n",
              "4/13/2016  5.004067e+09           1.571429          430.428571   \n",
              "4/14/2016  5.457285e+09           1.076923          445.230769   \n",
              "4/15/2016  4.741724e+09           1.117647          427.470588   \n",
              "4/16/2016  4.927225e+09           1.357143          391.714286   \n",
              "\n",
              "           TotalTimeInBed    JustBed  \n",
              "data                                  \n",
              "4/12/2016      479.692308  37.769231  \n",
              "4/13/2016      471.857143  41.428571  \n",
              "4/14/2016      480.230769  35.000000  \n",
              "4/15/2016      476.352941  48.882353  \n",
              "4/16/2016      433.000000  41.285714  "
            ],
            "text/html": [
              "\n",
              "  <div id=\"df-24b2e3a4-0931-487c-b76a-95ab7ec646cd\">\n",
              "    <div class=\"colab-df-container\">\n",
              "      <div>\n",
              "<style scoped>\n",
              "    .dataframe tbody tr th:only-of-type {\n",
              "        vertical-align: middle;\n",
              "    }\n",
              "\n",
              "    .dataframe tbody tr th {\n",
              "        vertical-align: top;\n",
              "    }\n",
              "\n",
              "    .dataframe thead th {\n",
              "        text-align: right;\n",
              "    }\n",
              "</style>\n",
              "<table border=\"1\" class=\"dataframe\">\n",
              "  <thead>\n",
              "    <tr style=\"text-align: right;\">\n",
              "      <th></th>\n",
              "      <th>Id</th>\n",
              "      <th>TotalSleepRecords</th>\n",
              "      <th>TotalMinutesAsleep</th>\n",
              "      <th>TotalTimeInBed</th>\n",
              "      <th>JustBed</th>\n",
              "    </tr>\n",
              "    <tr>\n",
              "      <th>data</th>\n",
              "      <th></th>\n",
              "      <th></th>\n",
              "      <th></th>\n",
              "      <th></th>\n",
              "      <th></th>\n",
              "    </tr>\n",
              "  </thead>\n",
              "  <tbody>\n",
              "    <tr>\n",
              "      <th>4/12/2016</th>\n",
              "      <td>4.996478e+09</td>\n",
              "      <td>1.230769</td>\n",
              "      <td>441.923077</td>\n",
              "      <td>479.692308</td>\n",
              "      <td>37.769231</td>\n",
              "    </tr>\n",
              "    <tr>\n",
              "      <th>4/13/2016</th>\n",
              "      <td>5.004067e+09</td>\n",
              "      <td>1.571429</td>\n",
              "      <td>430.428571</td>\n",
              "      <td>471.857143</td>\n",
              "      <td>41.428571</td>\n",
              "    </tr>\n",
              "    <tr>\n",
              "      <th>4/14/2016</th>\n",
              "      <td>5.457285e+09</td>\n",
              "      <td>1.076923</td>\n",
              "      <td>445.230769</td>\n",
              "      <td>480.230769</td>\n",
              "      <td>35.000000</td>\n",
              "    </tr>\n",
              "    <tr>\n",
              "      <th>4/15/2016</th>\n",
              "      <td>4.741724e+09</td>\n",
              "      <td>1.117647</td>\n",
              "      <td>427.470588</td>\n",
              "      <td>476.352941</td>\n",
              "      <td>48.882353</td>\n",
              "    </tr>\n",
              "    <tr>\n",
              "      <th>4/16/2016</th>\n",
              "      <td>4.927225e+09</td>\n",
              "      <td>1.357143</td>\n",
              "      <td>391.714286</td>\n",
              "      <td>433.000000</td>\n",
              "      <td>41.285714</td>\n",
              "    </tr>\n",
              "  </tbody>\n",
              "</table>\n",
              "</div>\n",
              "      <button class=\"colab-df-convert\" onclick=\"convertToInteractive('df-24b2e3a4-0931-487c-b76a-95ab7ec646cd')\"\n",
              "              title=\"Convert this dataframe to an interactive table.\"\n",
              "              style=\"display:none;\">\n",
              "        \n",
              "  <svg xmlns=\"http://www.w3.org/2000/svg\" height=\"24px\"viewBox=\"0 0 24 24\"\n",
              "       width=\"24px\">\n",
              "    <path d=\"M0 0h24v24H0V0z\" fill=\"none\"/>\n",
              "    <path d=\"M18.56 5.44l.94 2.06.94-2.06 2.06-.94-2.06-.94-.94-2.06-.94 2.06-2.06.94zm-11 1L8.5 8.5l.94-2.06 2.06-.94-2.06-.94L8.5 2.5l-.94 2.06-2.06.94zm10 10l.94 2.06.94-2.06 2.06-.94-2.06-.94-.94-2.06-.94 2.06-2.06.94z\"/><path d=\"M17.41 7.96l-1.37-1.37c-.4-.4-.92-.59-1.43-.59-.52 0-1.04.2-1.43.59L10.3 9.45l-7.72 7.72c-.78.78-.78 2.05 0 2.83L4 21.41c.39.39.9.59 1.41.59.51 0 1.02-.2 1.41-.59l7.78-7.78 2.81-2.81c.8-.78.8-2.07 0-2.86zM5.41 20L4 18.59l7.72-7.72 1.47 1.35L5.41 20z\"/>\n",
              "  </svg>\n",
              "      </button>\n",
              "      \n",
              "  <style>\n",
              "    .colab-df-container {\n",
              "      display:flex;\n",
              "      flex-wrap:wrap;\n",
              "      gap: 12px;\n",
              "    }\n",
              "\n",
              "    .colab-df-convert {\n",
              "      background-color: #E8F0FE;\n",
              "      border: none;\n",
              "      border-radius: 50%;\n",
              "      cursor: pointer;\n",
              "      display: none;\n",
              "      fill: #1967D2;\n",
              "      height: 32px;\n",
              "      padding: 0 0 0 0;\n",
              "      width: 32px;\n",
              "    }\n",
              "\n",
              "    .colab-df-convert:hover {\n",
              "      background-color: #E2EBFA;\n",
              "      box-shadow: 0px 1px 2px rgba(60, 64, 67, 0.3), 0px 1px 3px 1px rgba(60, 64, 67, 0.15);\n",
              "      fill: #174EA6;\n",
              "    }\n",
              "\n",
              "    [theme=dark] .colab-df-convert {\n",
              "      background-color: #3B4455;\n",
              "      fill: #D2E3FC;\n",
              "    }\n",
              "\n",
              "    [theme=dark] .colab-df-convert:hover {\n",
              "      background-color: #434B5C;\n",
              "      box-shadow: 0px 1px 3px 1px rgba(0, 0, 0, 0.15);\n",
              "      filter: drop-shadow(0px 1px 2px rgba(0, 0, 0, 0.3));\n",
              "      fill: #FFFFFF;\n",
              "    }\n",
              "  </style>\n",
              "\n",
              "      <script>\n",
              "        const buttonEl =\n",
              "          document.querySelector('#df-24b2e3a4-0931-487c-b76a-95ab7ec646cd button.colab-df-convert');\n",
              "        buttonEl.style.display =\n",
              "          google.colab.kernel.accessAllowed ? 'block' : 'none';\n",
              "\n",
              "        async function convertToInteractive(key) {\n",
              "          const element = document.querySelector('#df-24b2e3a4-0931-487c-b76a-95ab7ec646cd');\n",
              "          const dataTable =\n",
              "            await google.colab.kernel.invokeFunction('convertToInteractive',\n",
              "                                                     [key], {});\n",
              "          if (!dataTable) return;\n",
              "\n",
              "          const docLinkHtml = 'Like what you see? Visit the ' +\n",
              "            '<a target=\"_blank\" href=https://colab.research.google.com/notebooks/data_table.ipynb>data table notebook</a>'\n",
              "            + ' to learn more about interactive tables.';\n",
              "          element.innerHTML = '';\n",
              "          dataTable['output_type'] = 'display_data';\n",
              "          await google.colab.output.renderOutput(dataTable, element);\n",
              "          const docLink = document.createElement('div');\n",
              "          docLink.innerHTML = docLinkHtml;\n",
              "          element.appendChild(docLink);\n",
              "        }\n",
              "      </script>\n",
              "    </div>\n",
              "  </div>\n",
              "  "
            ]
          },
          "metadata": {},
          "execution_count": 19
        }
      ]
    },
    {
      "cell_type": "code",
      "source": [
        "#Gráfico de média total por dia.\n",
        "\n",
        "#Inician figura\n",
        "fig, ax = plt.subplots(figsize=(16,8))\n",
        "\n",
        "#Desenhando o gráfico\n",
        "plt.bar(grp_sleep_day.index,grp_sleep_day['TotalMinutesAsleep'], width=0.6, color=bella_colors[1])\n",
        "\n",
        "#Colocando os rótulos do x na vertical\n",
        "plt.xticks(rotation=90)\n",
        "\n",
        "#Desenhando linhas horizontais\n",
        "plt.axhline(420, linestyle='dashed', color='green', label='420 minutos')\n",
        "plt.axhline(540, linestyle='dashed', color='blue', label='540 minutos')\n",
        "\n",
        "#tirando as colunas\n",
        "for spine in ['top', 'right']:\n",
        "    ax.spines[spine].set_visible(False)\n",
        "\n",
        "#tirando grid\n",
        "ax.grid(False)\n",
        "\n",
        "#titulo\n",
        "plt.title('Média total de minutos de dormido por dia.', fontproperties=fprop, fontsize=20, color=bella_colors[0])\n",
        "\n",
        "#Nome do eixo y\n",
        "plt.ylabel('Minutos dormidos.',fontproperties=fprop,fontsize=15)\n",
        "\n",
        "#Configulando rotulos\n",
        "ax.set_xticklabels(grp_sleep_day.index,fontproperties=fprop, color='grey')\n",
        "ax.set_yticklabels([0,100,200,300,400,500],fontproperties=fprop, color='grey')\n",
        "\n",
        "\n",
        "#legenda\n",
        "plt.legend(loc='best',prop=fprop)\n",
        "\n",
        "plt.plot()"
      ],
      "metadata": {
        "colab": {
          "base_uri": "https://localhost:8080/",
          "height": 575
        },
        "id": "OGJ1Cyr8OX40",
        "outputId": "b9c5145f-c10e-493b-fff2-72ae57202108"
      },
      "execution_count": null,
      "outputs": [
        {
          "output_type": "execute_result",
          "data": {
            "text/plain": [
              "[]"
            ]
          },
          "metadata": {},
          "execution_count": 89
        },
        {
          "output_type": "display_data",
          "data": {
            "text/plain": [
              "<Figure size 1152x576 with 1 Axes>"
            ],
            "image/png": "[encoded data removed]"
          },
          "metadata": {}
        }
      ]
    },
    {
      "cell_type": "markdown",
      "source": [
        "Em média, pelo menos metade do mês os usúarios não dormem o mínimo necessário."
      ],
      "metadata": {
        "id": "KtcnhmLmZHU1"
      }
    },
    {
      "cell_type": "code",
      "source": [
        "#Agrupento por dia de mediana total de dias dormidos.\n",
        "grp_sleep_day = sleep_day.groupby(['data']).median()\n",
        "grp_sleep_day.head()"
      ],
      "metadata": {
        "colab": {
          "base_uri": "https://localhost:8080/",
          "height": 238
        },
        "id": "kXtg9gGFTl-V",
        "outputId": "54f4ba38-099c-4f84-847f-2c4b09def317"
      },
      "execution_count": null,
      "outputs": [
        {
          "output_type": "execute_result",
          "data": {
            "text/plain": [
              "                     Id  TotalSleepRecords  TotalMinutesAsleep  \\\n",
              "data                                                             \n",
              "4/12/2016  4.702922e+09                1.0               429.0   \n",
              "4/13/2016  5.128440e+09                1.5               439.5   \n",
              "4/14/2016  5.553957e+09                1.0               445.0   \n",
              "4/15/2016  4.445115e+09                1.0               412.0   \n",
              "4/16/2016  4.574018e+09                1.0               394.0   \n",
              "\n",
              "           TotalTimeInBed  JustBed  \n",
              "data                                \n",
              "4/12/2016           464.0     23.0  \n",
              "4/13/2016           461.5     31.5  \n",
              "4/14/2016           489.0     27.0  \n",
              "4/15/2016           442.0     26.0  \n",
              "4/16/2016           446.5     25.5  "
            ],
            "text/html": [
              "\n",
              "  <div id=\"df-7b0f94d7-dd65-4ca7-beab-1e8efce05150\">\n",
              "    <div class=\"colab-df-container\">\n",
              "      <div>\n",
              "<style scoped>\n",
              "    .dataframe tbody tr th:only-of-type {\n",
              "        vertical-align: middle;\n",
              "    }\n",
              "\n",
              "    .dataframe tbody tr th {\n",
              "        vertical-align: top;\n",
              "    }\n",
              "\n",
              "    .dataframe thead th {\n",
              "        text-align: right;\n",
              "    }\n",
              "</style>\n",
              "<table border=\"1\" class=\"dataframe\">\n",
              "  <thead>\n",
              "    <tr style=\"text-align: right;\">\n",
              "      <th></th>\n",
              "      <th>Id</th>\n",
              "      <th>TotalSleepRecords</th>\n",
              "      <th>TotalMinutesAsleep</th>\n",
              "      <th>TotalTimeInBed</th>\n",
              "      <th>JustBed</th>\n",
              "    </tr>\n",
              "    <tr>\n",
              "      <th>data</th>\n",
              "      <th></th>\n",
              "      <th></th>\n",
              "      <th></th>\n",
              "      <th></th>\n",
              "      <th></th>\n",
              "    </tr>\n",
              "  </thead>\n",
              "  <tbody>\n",
              "    <tr>\n",
              "      <th>4/12/2016</th>\n",
              "      <td>4.702922e+09</td>\n",
              "      <td>1.0</td>\n",
              "      <td>429.0</td>\n",
              "      <td>464.0</td>\n",
              "      <td>23.0</td>\n",
              "    </tr>\n",
              "    <tr>\n",
              "      <th>4/13/2016</th>\n",
              "      <td>5.128440e+09</td>\n",
              "      <td>1.5</td>\n",
              "      <td>439.5</td>\n",
              "      <td>461.5</td>\n",
              "      <td>31.5</td>\n",
              "    </tr>\n",
              "    <tr>\n",
              "      <th>4/14/2016</th>\n",
              "      <td>5.553957e+09</td>\n",
              "      <td>1.0</td>\n",
              "      <td>445.0</td>\n",
              "      <td>489.0</td>\n",
              "      <td>27.0</td>\n",
              "    </tr>\n",
              "    <tr>\n",
              "      <th>4/15/2016</th>\n",
              "      <td>4.445115e+09</td>\n",
              "      <td>1.0</td>\n",
              "      <td>412.0</td>\n",
              "      <td>442.0</td>\n",
              "      <td>26.0</td>\n",
              "    </tr>\n",
              "    <tr>\n",
              "      <th>4/16/2016</th>\n",
              "      <td>4.574018e+09</td>\n",
              "      <td>1.0</td>\n",
              "      <td>394.0</td>\n",
              "      <td>446.5</td>\n",
              "      <td>25.5</td>\n",
              "    </tr>\n",
              "  </tbody>\n",
              "</table>\n",
              "</div>\n",
              "      <button class=\"colab-df-convert\" onclick=\"convertToInteractive('df-7b0f94d7-dd65-4ca7-beab-1e8efce05150')\"\n",
              "              title=\"Convert this dataframe to an interactive table.\"\n",
              "              style=\"display:none;\">\n",
              "        \n",
              "  <svg xmlns=\"http://www.w3.org/2000/svg\" height=\"24px\"viewBox=\"0 0 24 24\"\n",
              "       width=\"24px\">\n",
              "    <path d=\"M0 0h24v24H0V0z\" fill=\"none\"/>\n",
              "    <path d=\"M18.56 5.44l.94 2.06.94-2.06 2.06-.94-2.06-.94-.94-2.06-.94 2.06-2.06.94zm-11 1L8.5 8.5l.94-2.06 2.06-.94-2.06-.94L8.5 2.5l-.94 2.06-2.06.94zm10 10l.94 2.06.94-2.06 2.06-.94-2.06-.94-.94-2.06-.94 2.06-2.06.94z\"/><path d=\"M17.41 7.96l-1.37-1.37c-.4-.4-.92-.59-1.43-.59-.52 0-1.04.2-1.43.59L10.3 9.45l-7.72 7.72c-.78.78-.78 2.05 0 2.83L4 21.41c.39.39.9.59 1.41.59.51 0 1.02-.2 1.41-.59l7.78-7.78 2.81-2.81c.8-.78.8-2.07 0-2.86zM5.41 20L4 18.59l7.72-7.72 1.47 1.35L5.41 20z\"/>\n",
              "  </svg>\n",
              "      </button>\n",
              "      \n",
              "  <style>\n",
              "    .colab-df-container {\n",
              "      display:flex;\n",
              "      flex-wrap:wrap;\n",
              "      gap: 12px;\n",
              "    }\n",
              "\n",
              "    .colab-df-convert {\n",
              "      background-color: #E8F0FE;\n",
              "      border: none;\n",
              "      border-radius: 50%;\n",
              "      cursor: pointer;\n",
              "      display: none;\n",
              "      fill: #1967D2;\n",
              "      height: 32px;\n",
              "      padding: 0 0 0 0;\n",
              "      width: 32px;\n",
              "    }\n",
              "\n",
              "    .colab-df-convert:hover {\n",
              "      background-color: #E2EBFA;\n",
              "      box-shadow: 0px 1px 2px rgba(60, 64, 67, 0.3), 0px 1px 3px 1px rgba(60, 64, 67, 0.15);\n",
              "      fill: #174EA6;\n",
              "    }\n",
              "\n",
              "    [theme=dark] .colab-df-convert {\n",
              "      background-color: #3B4455;\n",
              "      fill: #D2E3FC;\n",
              "    }\n",
              "\n",
              "    [theme=dark] .colab-df-convert:hover {\n",
              "      background-color: #434B5C;\n",
              "      box-shadow: 0px 1px 3px 1px rgba(0, 0, 0, 0.15);\n",
              "      filter: drop-shadow(0px 1px 2px rgba(0, 0, 0, 0.3));\n",
              "      fill: #FFFFFF;\n",
              "    }\n",
              "  </style>\n",
              "\n",
              "      <script>\n",
              "        const buttonEl =\n",
              "          document.querySelector('#df-7b0f94d7-dd65-4ca7-beab-1e8efce05150 button.colab-df-convert');\n",
              "        buttonEl.style.display =\n",
              "          google.colab.kernel.accessAllowed ? 'block' : 'none';\n",
              "\n",
              "        async function convertToInteractive(key) {\n",
              "          const element = document.querySelector('#df-7b0f94d7-dd65-4ca7-beab-1e8efce05150');\n",
              "          const dataTable =\n",
              "            await google.colab.kernel.invokeFunction('convertToInteractive',\n",
              "                                                     [key], {});\n",
              "          if (!dataTable) return;\n",
              "\n",
              "          const docLinkHtml = 'Like what you see? Visit the ' +\n",
              "            '<a target=\"_blank\" href=https://colab.research.google.com/notebooks/data_table.ipynb>data table notebook</a>'\n",
              "            + ' to learn more about interactive tables.';\n",
              "          element.innerHTML = '';\n",
              "          dataTable['output_type'] = 'display_data';\n",
              "          await google.colab.output.renderOutput(dataTable, element);\n",
              "          const docLink = document.createElement('div');\n",
              "          docLink.innerHTML = docLinkHtml;\n",
              "          element.appendChild(docLink);\n",
              "        }\n",
              "      </script>\n",
              "    </div>\n",
              "  </div>\n",
              "  "
            ]
          },
          "metadata": {},
          "execution_count": 21
        }
      ]
    },
    {
      "cell_type": "code",
      "source": [
        "#Gráfico da mediana total por dia.\n",
        "fig, ax = plt.subplots(figsize=(16,8))\n",
        "\n",
        "plt.bar(grp_sleep_day.index,grp_sleep_day['TotalMinutesAsleep'], width=0.6, color=bella_colors[1])\n",
        "\n",
        "plt.xticks(rotation=90)\n",
        "\n",
        "plt.axhline(420, linestyle='dashed', color='green', label='420 minutos')\n",
        "plt.axhline(540, linestyle='dashed', color='blue', label='540 minutos')\n",
        "\n",
        "plt.title('Mediana total de minutos dormidos por dia.', fontproperties=fprop, fontsize=20, color=bella_colors[0])\n",
        "\n",
        "plt.ylabel('Minutos dormidos.', fontproperties=fprop, fontsize=20, color=bella_colors[0])\n",
        "\n",
        "ax.grid(False)\n",
        "\n",
        "for spine in ['top','right']:\n",
        "  ax.spines[spine].set_visible(False)\n",
        "\n",
        "ax.set_xticklabels(grp_sleep_day.index,fontproperties=fprop, color='grey')\n",
        "ax.set_yticklabels([0,100,200,300,400,500],fontproperties=fprop, color='grey')\n",
        "\n",
        "\n",
        "plt.legend(prop=fprop)\n",
        "plt.plot()"
      ],
      "metadata": {
        "colab": {
          "base_uri": "https://localhost:8080/",
          "height": 575
        },
        "id": "65lo7B03ToZ8",
        "outputId": "078ebff0-3c2a-4fa1-b9ab-28bc56d9f219"
      },
      "execution_count": null,
      "outputs": [
        {
          "output_type": "execute_result",
          "data": {
            "text/plain": [
              "[]"
            ]
          },
          "metadata": {},
          "execution_count": 94
        },
        {
          "output_type": "display_data",
          "data": {
            "text/plain": [
              "<Figure size 1152x576 with 1 Axes>"
            ],
            "image/png": "[encoded data removed]"
          },
          "metadata": {}
        }
      ]
    },
    {
      "cell_type": "markdown",
      "source": [
        "Em mediana, pelo menos metade do mês os usúarios não dormem o mínimo necessário."
      ],
      "metadata": {
        "id": "oAeWM_zDZhMP"
      }
    },
    {
      "cell_type": "code",
      "source": [
        "dia_semana= ['Sunday','Monday', 'Tuesday', 'Wednesday','Thursday','Friday','Saturday']\n",
        "#violinplot dos minutos totais de sono por dia da semana.\n",
        "sns.set(style='whitegrid')\n",
        "\n",
        "#Iniciando a figura\n",
        "fig,axes = plt.subplots(3,1, figsize=(16,10))\n",
        "\n",
        "#Primeiro grafico\n",
        "sns.violinplot(x='TotalMinutesAsleep', y='dia_semana', data = sleep_day,\n",
        "            ax = axes[0], order = dia_semana)\n",
        "#formatando as labels\n",
        "axes[0].set_ylabel('')\n",
        "axes[0].set_xlabel('Total de minutos dormidos.',fontproperties=fprop, color='grey')\n",
        "#formatando os ticks\n",
        "axes[0].set_yticklabels(dia_semana,fontproperties=fprop, color='grey')\n",
        "axes[0].set_xticklabels(range(-200,1200,200),fontproperties=fprop, color='grey')\n",
        "\n",
        "\n",
        "\n",
        "#segundo gráfico\n",
        "sns.violinplot(x='TotalTimeInBed', y='dia_semana', data = sleep_day,\n",
        "            ax = axes[1],order = dia_semana)\n",
        "#formatando as labels\n",
        "axes[1].set_ylabel('')\n",
        "axes[1].set_xlabel('Total de minutos na cama.',fontproperties=fprop, color='grey')\n",
        "#formatando os ticks\n",
        "axes[1].set_yticklabels(dia_semana,fontproperties=fprop, color='grey')\n",
        "axes[1].set_xticklabels(range(-200,1200,200),fontproperties=fprop, color='grey')\n",
        "\n",
        "\n",
        "\n",
        "#Terceiro gráfico\n",
        "sns.violinplot(x='JustBed', y='dia_semana', data = sleep_day,\n",
        "            ax = axes[2],order = dia_semana)\n",
        "#formatando as labels\n",
        "axes[2].set_ylabel('')\n",
        "axes[2].set_xlabel('Total de minutos acordado na cama.',fontproperties=fprop, color='grey')\n",
        "#formatando os ticks\n",
        "axes[2].set_yticklabels(dia_semana,fontproperties=fprop, color='grey')\n",
        "axes[2].set_xticklabels(range(-50,350,50),fontproperties=fprop, color='grey')\n",
        "\n",
        "\n",
        "\n",
        "#titulo\n",
        "axes[0].set_title('Boxplot de total de minutos dormidos, total de minutos na cama\\n e total de minutos acordado na cama.',\n",
        "                  fontproperties=fprop, fontsize=20, color=bella_colors[0])\n",
        "#Aumentando o espaço do rótulo do eixo y.\n",
        "fig.tight_layout()\n",
        "fig.show()"
      ],
      "metadata": {
        "colab": {
          "base_uri": "https://localhost:8080/",
          "height": 725
        },
        "id": "6cP1hthpaFuK",
        "outputId": "77a404be-a3ac-43ec-d964-70ed9b927adb"
      },
      "execution_count": null,
      "outputs": [
        {
          "output_type": "display_data",
          "data": {
            "text/plain": [
              "<Figure size 1152x720 with 3 Axes>"
            ],
            "image/png": "[encoded data removed]"
          },
          "metadata": {}
        }
      ]
    },
    {
      "cell_type": "code",
      "source": [
        "sleep_day.JustBed.median()"
      ],
      "metadata": {
        "colab": {
          "base_uri": "https://localhost:8080/"
        },
        "id": "SLKaaMaKsCK2",
        "outputId": "19900f85-1f5c-43f9-fb18-2271eaeaaf76"
      },
      "execution_count": null,
      "outputs": [
        {
          "output_type": "execute_result",
          "data": {
            "text/plain": [
              "25.5"
            ]
          },
          "metadata": {},
          "execution_count": 174
        }
      ]
    },
    {
      "cell_type": "code",
      "source": [
        "for dia in dia_semana:\n",
        "  print(f\"Dia: {dia}, média adormecido:{sleep_day.TotalMinutesAsleep[sleep_day.dia_semana==dia].median()}\")\n"
      ],
      "metadata": {
        "colab": {
          "base_uri": "https://localhost:8080/"
        },
        "id": "N6dlsa4jv_Av",
        "outputId": "ca2555c6-4e9e-4801-cc78-b330aed3c990"
      },
      "execution_count": null,
      "outputs": [
        {
          "output_type": "stream",
          "name": "stdout",
          "text": [
            "Dia: Sunday, média adormecido:481.0\n",
            "Dia: Monday, média adormecido:434.0\n",
            "Dia: Tuesday, média adormecido:417.0\n",
            "Dia: Wednesday, média adormecido:444.5\n",
            "Dia: Thursday, média adormecido:423.5\n",
            "Dia: Friday, média adormecido:405.0\n",
            "Dia: Saturday, média adormecido:426.0\n"
          ]
        }
      ]
    },
    {
      "cell_type": "markdown",
      "source": [
        "  \n",
        "  Domingo é dia em que os participantes mais dormem e sexta-ferita é o dia que menos dormem. Percebe-se uma redução drástica de minutos de sono de domingo para segunda, essa redução vai até terça, na quarta acontece um aumento relativamente pequeno de minutos dormidos em comparação ao dia anterior, porém existe uma redução de sono nos próximos dois dias quando no sábado existe um aumento repentino de minutos dormidos. \n",
        "  \n",
        "  Isso pode significar uma quebra de rotina do sono, pois a cada três dias, o primeiro dia de sono dia vai ter uma qualidade maior do que os próximos dois dias, até que se repete o ciclo, exceto para o períodos de sábado para domingo.\n",
        "\t\n",
        "  Vale ressaltar que os participantes ficam em mediana 25,5 minutos por dia acordados na cama (foi utilizada a mediana, pois existem muito outliers nesta feature), sendo que, domingo é o dia em que os participantes mais ficam na cama acordados. "
      ],
      "metadata": {
        "id": "d4ZqMPS9ZkO2"
      }
    },
    {
      "cell_type": "code",
      "source": [
        "#Gráfico de dispersão de tempo na cama e tempo dormido\n",
        "d =sns.scatterplot(x='TotalMinutesAsleep', y='TotalTimeInBed', data = sleep_day)\n",
        "d.set_title('Minutos totais na cama X Minutos dormindo.')\n",
        "plt.plot()"
      ],
      "metadata": {
        "id": "TMfrcckLlU4k",
        "colab": {
          "base_uri": "https://localhost:8080/",
          "height": 318
        },
        "outputId": "53c9476c-959e-48d8-81f0-4bf3f2b30311"
      },
      "execution_count": null,
      "outputs": [
        {
          "output_type": "execute_result",
          "data": {
            "text/plain": [
              "[]"
            ]
          },
          "metadata": {},
          "execution_count": 24
        },
        {
          "output_type": "display_data",
          "data": {
            "text/plain": [
              "<Figure size 432x288 with 1 Axes>"
            ],
            "image/png": "[encoded data removed]"
          },
          "metadata": {}
        }
      ]
    },
    {
      "cell_type": "code",
      "source": [
        "#Matriz de correlação \n",
        "sns.heatmap(sleep_day.corr(), annot=True)\n",
        "plt.plot()"
      ],
      "metadata": {
        "colab": {
          "base_uri": "https://localhost:8080/",
          "height": 385
        },
        "id": "siYDFoQmK64A",
        "outputId": "280b18d1-3620-406f-822d-7fb79e454382"
      },
      "execution_count": null,
      "outputs": [
        {
          "output_type": "execute_result",
          "data": {
            "text/plain": [
              "[]"
            ]
          },
          "metadata": {},
          "execution_count": 25
        },
        {
          "output_type": "display_data",
          "data": {
            "text/plain": [
              "<Figure size 432x288 with 2 Axes>"
            ],
            "image/png": "[encoded data removed]"
          },
          "metadata": {}
        }
      ]
    },
    {
      "cell_type": "markdown",
      "source": [
        "Existe uma correlação de 0.93 entre o tempo em que os usuários passam na cama e o tempo que eles estão adormecidos, o que faz muito sentido. Porem existem alguns pontos no gráfico de dispersão que indicam usuários passando um bom tempo na acordados na cama , seria interessante saber as causas desse fenômeno."
      ],
      "metadata": {
        "id": "eWekxOy56ME8"
      }
    },
    {
      "cell_type": "markdown",
      "source": [
        "### Quais são os horários de maior intensidade de exercicios, existe uma rotina?"
      ],
      "metadata": {
        "id": "eTjHwqy060IU"
      }
    },
    {
      "cell_type": "code",
      "source": [
        "hour_intensities.head()"
      ],
      "metadata": {
        "colab": {
          "base_uri": "https://localhost:8080/",
          "height": 206
        },
        "id": "JpFE_21m6z7d",
        "outputId": "bad600cb-899a-4129-f21a-e5fea1a3a16e"
      },
      "execution_count": null,
      "outputs": [
        {
          "output_type": "execute_result",
          "data": {
            "text/plain": [
              "        data dia_semana       hora  TotalIntensity  AverageIntensity\n",
              "0  4/12/2016    Tuesday  00:00:00               20          0.333333\n",
              "1  4/12/2016    Tuesday  01:00:00                8          0.133333\n",
              "2  4/12/2016    Tuesday  02:00:00                7          0.116667\n",
              "3  4/12/2016    Tuesday  03:00:00                0          0.000000\n",
              "4  4/12/2016    Tuesday  04:00:00                0          0.000000"
            ],
            "text/html": [
              "\n",
              "  <div id=\"df-71894d84-a3a2-42a0-8f3c-04cec7b63e2a\">\n",
              "    <div class=\"colab-df-container\">\n",
              "      <div>\n",
              "<style scoped>\n",
              "    .dataframe tbody tr th:only-of-type {\n",
              "        vertical-align: middle;\n",
              "    }\n",
              "\n",
              "    .dataframe tbody tr th {\n",
              "        vertical-align: top;\n",
              "    }\n",
              "\n",
              "    .dataframe thead th {\n",
              "        text-align: right;\n",
              "    }\n",
              "</style>\n",
              "<table border=\"1\" class=\"dataframe\">\n",
              "  <thead>\n",
              "    <tr style=\"text-align: right;\">\n",
              "      <th></th>\n",
              "      <th>data</th>\n",
              "      <th>dia_semana</th>\n",
              "      <th>hora</th>\n",
              "      <th>TotalIntensity</th>\n",
              "      <th>AverageIntensity</th>\n",
              "    </tr>\n",
              "  </thead>\n",
              "  <tbody>\n",
              "    <tr>\n",
              "      <th>0</th>\n",
              "      <td>4/12/2016</td>\n",
              "      <td>Tuesday</td>\n",
              "      <td>00:00:00</td>\n",
              "      <td>20</td>\n",
              "      <td>0.333333</td>\n",
              "    </tr>\n",
              "    <tr>\n",
              "      <th>1</th>\n",
              "      <td>4/12/2016</td>\n",
              "      <td>Tuesday</td>\n",
              "      <td>01:00:00</td>\n",
              "      <td>8</td>\n",
              "      <td>0.133333</td>\n",
              "    </tr>\n",
              "    <tr>\n",
              "      <th>2</th>\n",
              "      <td>4/12/2016</td>\n",
              "      <td>Tuesday</td>\n",
              "      <td>02:00:00</td>\n",
              "      <td>7</td>\n",
              "      <td>0.116667</td>\n",
              "    </tr>\n",
              "    <tr>\n",
              "      <th>3</th>\n",
              "      <td>4/12/2016</td>\n",
              "      <td>Tuesday</td>\n",
              "      <td>03:00:00</td>\n",
              "      <td>0</td>\n",
              "      <td>0.000000</td>\n",
              "    </tr>\n",
              "    <tr>\n",
              "      <th>4</th>\n",
              "      <td>4/12/2016</td>\n",
              "      <td>Tuesday</td>\n",
              "      <td>04:00:00</td>\n",
              "      <td>0</td>\n",
              "      <td>0.000000</td>\n",
              "    </tr>\n",
              "  </tbody>\n",
              "</table>\n",
              "</div>\n",
              "      <button class=\"colab-df-convert\" onclick=\"convertToInteractive('df-71894d84-a3a2-42a0-8f3c-04cec7b63e2a')\"\n",
              "              title=\"Convert this dataframe to an interactive table.\"\n",
              "              style=\"display:none;\">\n",
              "        \n",
              "  <svg xmlns=\"http://www.w3.org/2000/svg\" height=\"24px\"viewBox=\"0 0 24 24\"\n",
              "       width=\"24px\">\n",
              "    <path d=\"M0 0h24v24H0V0z\" fill=\"none\"/>\n",
              "    <path d=\"M18.56 5.44l.94 2.06.94-2.06 2.06-.94-2.06-.94-.94-2.06-.94 2.06-2.06.94zm-11 1L8.5 8.5l.94-2.06 2.06-.94-2.06-.94L8.5 2.5l-.94 2.06-2.06.94zm10 10l.94 2.06.94-2.06 2.06-.94-2.06-.94-.94-2.06-.94 2.06-2.06.94z\"/><path d=\"M17.41 7.96l-1.37-1.37c-.4-.4-.92-.59-1.43-.59-.52 0-1.04.2-1.43.59L10.3 9.45l-7.72 7.72c-.78.78-.78 2.05 0 2.83L4 21.41c.39.39.9.59 1.41.59.51 0 1.02-.2 1.41-.59l7.78-7.78 2.81-2.81c.8-.78.8-2.07 0-2.86zM5.41 20L4 18.59l7.72-7.72 1.47 1.35L5.41 20z\"/>\n",
              "  </svg>\n",
              "      </button>\n",
              "      \n",
              "  <style>\n",
              "    .colab-df-container {\n",
              "      display:flex;\n",
              "      flex-wrap:wrap;\n",
              "      gap: 12px;\n",
              "    }\n",
              "\n",
              "    .colab-df-convert {\n",
              "      background-color: #E8F0FE;\n",
              "      border: none;\n",
              "      border-radius: 50%;\n",
              "      cursor: pointer;\n",
              "      display: none;\n",
              "      fill: #1967D2;\n",
              "      height: 32px;\n",
              "      padding: 0 0 0 0;\n",
              "      width: 32px;\n",
              "    }\n",
              "\n",
              "    .colab-df-convert:hover {\n",
              "      background-color: #E2EBFA;\n",
              "      box-shadow: 0px 1px 2px rgba(60, 64, 67, 0.3), 0px 1px 3px 1px rgba(60, 64, 67, 0.15);\n",
              "      fill: #174EA6;\n",
              "    }\n",
              "\n",
              "    [theme=dark] .colab-df-convert {\n",
              "      background-color: #3B4455;\n",
              "      fill: #D2E3FC;\n",
              "    }\n",
              "\n",
              "    [theme=dark] .colab-df-convert:hover {\n",
              "      background-color: #434B5C;\n",
              "      box-shadow: 0px 1px 3px 1px rgba(0, 0, 0, 0.15);\n",
              "      filter: drop-shadow(0px 1px 2px rgba(0, 0, 0, 0.3));\n",
              "      fill: #FFFFFF;\n",
              "    }\n",
              "  </style>\n",
              "\n",
              "      <script>\n",
              "        const buttonEl =\n",
              "          document.querySelector('#df-71894d84-a3a2-42a0-8f3c-04cec7b63e2a button.colab-df-convert');\n",
              "        buttonEl.style.display =\n",
              "          google.colab.kernel.accessAllowed ? 'block' : 'none';\n",
              "\n",
              "        async function convertToInteractive(key) {\n",
              "          const element = document.querySelector('#df-71894d84-a3a2-42a0-8f3c-04cec7b63e2a');\n",
              "          const dataTable =\n",
              "            await google.colab.kernel.invokeFunction('convertToInteractive',\n",
              "                                                     [key], {});\n",
              "          if (!dataTable) return;\n",
              "\n",
              "          const docLinkHtml = 'Like what you see? Visit the ' +\n",
              "            '<a target=\"_blank\" href=https://colab.research.google.com/notebooks/data_table.ipynb>data table notebook</a>'\n",
              "            + ' to learn more about interactive tables.';\n",
              "          element.innerHTML = '';\n",
              "          dataTable['output_type'] = 'display_data';\n",
              "          await google.colab.output.renderOutput(dataTable, element);\n",
              "          const docLink = document.createElement('div');\n",
              "          docLink.innerHTML = docLinkHtml;\n",
              "          element.appendChild(docLink);\n",
              "        }\n",
              "      </script>\n",
              "    </div>\n",
              "  </div>\n",
              "  "
            ]
          },
          "metadata": {},
          "execution_count": 26
        }
      ]
    },
    {
      "cell_type": "code",
      "source": [
        "#Agrupamento da media total de intensidade por hora.\n",
        "grp_hour_intensities= hour_intensities.groupby(['hora']).mean()\n",
        "grp_hour_intensities.head()"
      ],
      "metadata": {
        "colab": {
          "base_uri": "https://localhost:8080/",
          "height": 238
        },
        "id": "HF8dWknhINWF",
        "outputId": "fe669360-4018-4cd3-b804-adcefe3d6e09"
      },
      "execution_count": null,
      "outputs": [
        {
          "output_type": "execute_result",
          "data": {
            "text/plain": [
              "           TotalIntensity  AverageIntensity\n",
              "hora                                       \n",
              "00:00:00         2.129550          0.035493\n",
              "01:00:00         1.419078          0.023651\n",
              "02:00:00         1.043944          0.017399\n",
              "03:00:00         0.443730          0.007396\n",
              "04:00:00         0.633047          0.010551"
            ],
            "text/html": [
              "\n",
              "  <div id=\"df-247a89e1-5777-4638-86f6-cb3ac90c1128\">\n",
              "    <div class=\"colab-df-container\">\n",
              "      <div>\n",
              "<style scoped>\n",
              "    .dataframe tbody tr th:only-of-type {\n",
              "        vertical-align: middle;\n",
              "    }\n",
              "\n",
              "    .dataframe tbody tr th {\n",
              "        vertical-align: top;\n",
              "    }\n",
              "\n",
              "    .dataframe thead th {\n",
              "        text-align: right;\n",
              "    }\n",
              "</style>\n",
              "<table border=\"1\" class=\"dataframe\">\n",
              "  <thead>\n",
              "    <tr style=\"text-align: right;\">\n",
              "      <th></th>\n",
              "      <th>TotalIntensity</th>\n",
              "      <th>AverageIntensity</th>\n",
              "    </tr>\n",
              "    <tr>\n",
              "      <th>hora</th>\n",
              "      <th></th>\n",
              "      <th></th>\n",
              "    </tr>\n",
              "  </thead>\n",
              "  <tbody>\n",
              "    <tr>\n",
              "      <th>00:00:00</th>\n",
              "      <td>2.129550</td>\n",
              "      <td>0.035493</td>\n",
              "    </tr>\n",
              "    <tr>\n",
              "      <th>01:00:00</th>\n",
              "      <td>1.419078</td>\n",
              "      <td>0.023651</td>\n",
              "    </tr>\n",
              "    <tr>\n",
              "      <th>02:00:00</th>\n",
              "      <td>1.043944</td>\n",
              "      <td>0.017399</td>\n",
              "    </tr>\n",
              "    <tr>\n",
              "      <th>03:00:00</th>\n",
              "      <td>0.443730</td>\n",
              "      <td>0.007396</td>\n",
              "    </tr>\n",
              "    <tr>\n",
              "      <th>04:00:00</th>\n",
              "      <td>0.633047</td>\n",
              "      <td>0.010551</td>\n",
              "    </tr>\n",
              "  </tbody>\n",
              "</table>\n",
              "</div>\n",
              "      <button class=\"colab-df-convert\" onclick=\"convertToInteractive('df-247a89e1-5777-4638-86f6-cb3ac90c1128')\"\n",
              "              title=\"Convert this dataframe to an interactive table.\"\n",
              "              style=\"display:none;\">\n",
              "        \n",
              "  <svg xmlns=\"http://www.w3.org/2000/svg\" height=\"24px\"viewBox=\"0 0 24 24\"\n",
              "       width=\"24px\">\n",
              "    <path d=\"M0 0h24v24H0V0z\" fill=\"none\"/>\n",
              "    <path d=\"M18.56 5.44l.94 2.06.94-2.06 2.06-.94-2.06-.94-.94-2.06-.94 2.06-2.06.94zm-11 1L8.5 8.5l.94-2.06 2.06-.94-2.06-.94L8.5 2.5l-.94 2.06-2.06.94zm10 10l.94 2.06.94-2.06 2.06-.94-2.06-.94-.94-2.06-.94 2.06-2.06.94z\"/><path d=\"M17.41 7.96l-1.37-1.37c-.4-.4-.92-.59-1.43-.59-.52 0-1.04.2-1.43.59L10.3 9.45l-7.72 7.72c-.78.78-.78 2.05 0 2.83L4 21.41c.39.39.9.59 1.41.59.51 0 1.02-.2 1.41-.59l7.78-7.78 2.81-2.81c.8-.78.8-2.07 0-2.86zM5.41 20L4 18.59l7.72-7.72 1.47 1.35L5.41 20z\"/>\n",
              "  </svg>\n",
              "      </button>\n",
              "      \n",
              "  <style>\n",
              "    .colab-df-container {\n",
              "      display:flex;\n",
              "      flex-wrap:wrap;\n",
              "      gap: 12px;\n",
              "    }\n",
              "\n",
              "    .colab-df-convert {\n",
              "      background-color: #E8F0FE;\n",
              "      border: none;\n",
              "      border-radius: 50%;\n",
              "      cursor: pointer;\n",
              "      display: none;\n",
              "      fill: #1967D2;\n",
              "      height: 32px;\n",
              "      padding: 0 0 0 0;\n",
              "      width: 32px;\n",
              "    }\n",
              "\n",
              "    .colab-df-convert:hover {\n",
              "      background-color: #E2EBFA;\n",
              "      box-shadow: 0px 1px 2px rgba(60, 64, 67, 0.3), 0px 1px 3px 1px rgba(60, 64, 67, 0.15);\n",
              "      fill: #174EA6;\n",
              "    }\n",
              "\n",
              "    [theme=dark] .colab-df-convert {\n",
              "      background-color: #3B4455;\n",
              "      fill: #D2E3FC;\n",
              "    }\n",
              "\n",
              "    [theme=dark] .colab-df-convert:hover {\n",
              "      background-color: #434B5C;\n",
              "      box-shadow: 0px 1px 3px 1px rgba(0, 0, 0, 0.15);\n",
              "      filter: drop-shadow(0px 1px 2px rgba(0, 0, 0, 0.3));\n",
              "      fill: #FFFFFF;\n",
              "    }\n",
              "  </style>\n",
              "\n",
              "      <script>\n",
              "        const buttonEl =\n",
              "          document.querySelector('#df-247a89e1-5777-4638-86f6-cb3ac90c1128 button.colab-df-convert');\n",
              "        buttonEl.style.display =\n",
              "          google.colab.kernel.accessAllowed ? 'block' : 'none';\n",
              "\n",
              "        async function convertToInteractive(key) {\n",
              "          const element = document.querySelector('#df-247a89e1-5777-4638-86f6-cb3ac90c1128');\n",
              "          const dataTable =\n",
              "            await google.colab.kernel.invokeFunction('convertToInteractive',\n",
              "                                                     [key], {});\n",
              "          if (!dataTable) return;\n",
              "\n",
              "          const docLinkHtml = 'Like what you see? Visit the ' +\n",
              "            '<a target=\"_blank\" href=https://colab.research.google.com/notebooks/data_table.ipynb>data table notebook</a>'\n",
              "            + ' to learn more about interactive tables.';\n",
              "          element.innerHTML = '';\n",
              "          dataTable['output_type'] = 'display_data';\n",
              "          await google.colab.output.renderOutput(dataTable, element);\n",
              "          const docLink = document.createElement('div');\n",
              "          docLink.innerHTML = docLinkHtml;\n",
              "          element.appendChild(docLink);\n",
              "        }\n",
              "      </script>\n",
              "    </div>\n",
              "  </div>\n",
              "  "
            ]
          },
          "metadata": {},
          "execution_count": 27
        }
      ]
    },
    {
      "cell_type": "code",
      "source": [
        "#gráfico de barras\n",
        "sns.barplot(data=grp_hour_intensities,x=grp_hour_intensities.index, y=\"TotalIntensity\",\n",
        "            color='blue')\n",
        "plt.xticks(rotation=90)\n",
        "plt.title('Média de intensidade total X hora.')\n",
        "\n",
        "plt.ylabel('Média total de intensidade')\n",
        "\n",
        "plt.plot()"
      ],
      "metadata": {
        "colab": {
          "base_uri": "https://localhost:8080/",
          "height": 361
        },
        "id": "svAz4jomEC9n",
        "outputId": "933dda8e-f546-492f-ec64-e0f2a4cacfb7"
      },
      "execution_count": null,
      "outputs": [
        {
          "output_type": "execute_result",
          "data": {
            "text/plain": [
              "[]"
            ]
          },
          "metadata": {},
          "execution_count": 28
        },
        {
          "output_type": "display_data",
          "data": {
            "text/plain": [
              "<Figure size 432x288 with 1 Axes>"
            ],
            "image/png": "[encoded data removed]"
          },
          "metadata": {}
        }
      ]
    },
    {
      "cell_type": "markdown",
      "source": [
        "Existe um pico de intensidade às 5 horas da manhã, possívelmente é nesse horário que os usuários estão acordando. Uma queda às 15 horas, possívelmente quando os usúarios vão almoçar. E uma queda às 20 horas, possívelmente quando eles vão dormir. O período ativo é das 5  às 19, com maior intensidade das 17 horas às 19 horas.  "
      ],
      "metadata": {
        "id": "EQ483kCSbkxP"
      }
    },
    {
      "cell_type": "code",
      "source": [
        "#Dia da semana agrupada pela média\n",
        "mon_hour_intensities = hour_intensities[hour_intensities.dia_semana == 'Monday'].groupby(['hora']).mean()\n",
        "sun_hour_intensities = hour_intensities[hour_intensities.dia_semana == 'Sunday'].groupby(['hora']).mean()\n",
        "tue_hour_intensities = hour_intensities[hour_intensities.dia_semana == 'Tuesday'].groupby(['hora']).mean()\n",
        "wed_hour_intensities = hour_intensities[hour_intensities.dia_semana == 'Wednesday'].groupby(['hora']).mean()\n",
        "thu_hour_intensities = hour_intensities[hour_intensities.dia_semana == 'Thursday'].groupby(['hora']).mean()\n",
        "fri_hour_intensities = hour_intensities[hour_intensities.dia_semana == 'Friday'].groupby(['hora']).mean()\n",
        "sar_hour_intensities = hour_intensities[hour_intensities.dia_semana == 'Saturday'].groupby(['hora']).mean()"
      ],
      "metadata": {
        "id": "YJ3jSSuBNryB"
      },
      "execution_count": null,
      "outputs": []
    },
    {
      "cell_type": "code",
      "source": [
        "plt.figure(figsize=(10,8))\n",
        "\n",
        "plt.plot(sun_hour_intensities.index,sun_hour_intensities.TotalIntensity, label='Domingo')\n",
        "plt.plot(mon_hour_intensities.index,mon_hour_intensities.TotalIntensity,label='Segunda' )\n",
        "plt.plot(tue_hour_intensities.index,tue_hour_intensities.TotalIntensity,label='Terça')\n",
        "plt.plot(wed_hour_intensities.index,wed_hour_intensities.TotalIntensity,label='Quarta')\n",
        "plt.plot(thu_hour_intensities.index,thu_hour_intensities.TotalIntensity,label='Quinta')\n",
        "plt.plot(fri_hour_intensities.index,fri_hour_intensities.TotalIntensity,label='Sexta')\n",
        "plt.plot(sar_hour_intensities.index,sar_hour_intensities.TotalIntensity,label='Sábado')\n",
        "\n",
        "plt.xticks(rotation=90)\n",
        "plt.title('Média de intensidade total X hora.')\n",
        "\n",
        "plt.legend()\n",
        "\n",
        "plt.plot()"
      ],
      "metadata": {
        "id": "LiOsygo6eMTg",
        "colab": {
          "base_uri": "https://localhost:8080/",
          "height": 561
        },
        "outputId": "fdf8a06d-c925-4f49-94c6-aa84e5daceaf"
      },
      "execution_count": null,
      "outputs": [
        {
          "output_type": "execute_result",
          "data": {
            "text/plain": [
              "[]"
            ]
          },
          "metadata": {},
          "execution_count": 30
        },
        {
          "output_type": "display_data",
          "data": {
            "text/plain": [
              "<Figure size 720x576 with 1 Axes>"
            ],
            "image/png": "[encoded data removed]"
          },
          "metadata": {}
        }
      ]
    },
    {
      "cell_type": "markdown",
      "source": [
        "Em média a intensidade total é bem parecida para todos os dias da semana, com exeção de sábado que apresenta um pico de intensidade superior aos outros dia da semana, esse pico acontece ao meio dia."
      ],
      "metadata": {
        "id": "QC6mGDWZXB5w"
      }
    },
    {
      "cell_type": "markdown",
      "source": [
        "## Tendência no uso do dispositivo."
      ],
      "metadata": {
        "id": "Fto58qPSYFhA"
      }
    },
    {
      "cell_type": "code",
      "source": [
        "day_activity.head()"
      ],
      "metadata": {
        "colab": {
          "base_uri": "https://localhost:8080/",
          "height": 270
        },
        "id": "KKa8MLL0YN0v",
        "outputId": "b8ae13d2-3c9a-47ea-ac86-e44e72bda6c1"
      },
      "execution_count": null,
      "outputs": [
        {
          "output_type": "execute_result",
          "data": {
            "text/plain": [
              "           Id       data dia_semana  TotalSteps  TotalDistance  \\\n",
              "0  1503960366  4/12/2016    Tuesday       13162           8.50   \n",
              "1  1503960366  4/13/2016  Wednesday       10735           6.97   \n",
              "2  1503960366  4/14/2016   Thursday       10460           6.74   \n",
              "3  1503960366  4/15/2016     Friday        9762           6.28   \n",
              "4  1503960366  4/16/2016   Saturday       12669           8.16   \n",
              "\n",
              "   TrackerDistance  LoggedActivitiesDistance  VeryActiveDistance  \\\n",
              "0             8.50                       0.0                1.88   \n",
              "1             6.97                       0.0                1.57   \n",
              "2             6.74                       0.0                2.44   \n",
              "3             6.28                       0.0                2.14   \n",
              "4             8.16                       0.0                2.71   \n",
              "\n",
              "   ModeratelyActiveDistance  LightActiveDistance  SedentaryActiveDistance  \\\n",
              "0                      0.55                 6.06                      0.0   \n",
              "1                      0.69                 4.71                      0.0   \n",
              "2                      0.40                 3.91                      0.0   \n",
              "3                      1.26                 2.83                      0.0   \n",
              "4                      0.41                 5.04                      0.0   \n",
              "\n",
              "   VeryActiveMinutes  FairlyActiveMinutes  LightlyActiveMinutes  \\\n",
              "0                 25                   13                   328   \n",
              "1                 21                   19                   217   \n",
              "2                 30                   11                   181   \n",
              "3                 29                   34                   209   \n",
              "4                 36                   10                   221   \n",
              "\n",
              "   SedentaryMinutes  Calories  \n",
              "0               728      1985  \n",
              "1               776      1797  \n",
              "2              1218      1776  \n",
              "3               726      1745  \n",
              "4               773      1863  "
            ],
            "text/html": [
              "\n",
              "  <div id=\"df-4dbd3d8b-2ebb-4f32-972f-c3eff8e1c864\">\n",
              "    <div class=\"colab-df-container\">\n",
              "      <div>\n",
              "<style scoped>\n",
              "    .dataframe tbody tr th:only-of-type {\n",
              "        vertical-align: middle;\n",
              "    }\n",
              "\n",
              "    .dataframe tbody tr th {\n",
              "        vertical-align: top;\n",
              "    }\n",
              "\n",
              "    .dataframe thead th {\n",
              "        text-align: right;\n",
              "    }\n",
              "</style>\n",
              "<table border=\"1\" class=\"dataframe\">\n",
              "  <thead>\n",
              "    <tr style=\"text-align: right;\">\n",
              "      <th></th>\n",
              "      <th>Id</th>\n",
              "      <th>data</th>\n",
              "      <th>dia_semana</th>\n",
              "      <th>TotalSteps</th>\n",
              "      <th>TotalDistance</th>\n",
              "      <th>TrackerDistance</th>\n",
              "      <th>LoggedActivitiesDistance</th>\n",
              "      <th>VeryActiveDistance</th>\n",
              "      <th>ModeratelyActiveDistance</th>\n",
              "      <th>LightActiveDistance</th>\n",
              "      <th>SedentaryActiveDistance</th>\n",
              "      <th>VeryActiveMinutes</th>\n",
              "      <th>FairlyActiveMinutes</th>\n",
              "      <th>LightlyActiveMinutes</th>\n",
              "      <th>SedentaryMinutes</th>\n",
              "      <th>Calories</th>\n",
              "    </tr>\n",
              "  </thead>\n",
              "  <tbody>\n",
              "    <tr>\n",
              "      <th>0</th>\n",
              "      <td>1503960366</td>\n",
              "      <td>4/12/2016</td>\n",
              "      <td>Tuesday</td>\n",
              "      <td>13162</td>\n",
              "      <td>8.50</td>\n",
              "      <td>8.50</td>\n",
              "      <td>0.0</td>\n",
              "      <td>1.88</td>\n",
              "      <td>0.55</td>\n",
              "      <td>6.06</td>\n",
              "      <td>0.0</td>\n",
              "      <td>25</td>\n",
              "      <td>13</td>\n",
              "      <td>328</td>\n",
              "      <td>728</td>\n",
              "      <td>1985</td>\n",
              "    </tr>\n",
              "    <tr>\n",
              "      <th>1</th>\n",
              "      <td>1503960366</td>\n",
              "      <td>4/13/2016</td>\n",
              "      <td>Wednesday</td>\n",
              "      <td>10735</td>\n",
              "      <td>6.97</td>\n",
              "      <td>6.97</td>\n",
              "      <td>0.0</td>\n",
              "      <td>1.57</td>\n",
              "      <td>0.69</td>\n",
              "      <td>4.71</td>\n",
              "      <td>0.0</td>\n",
              "      <td>21</td>\n",
              "      <td>19</td>\n",
              "      <td>217</td>\n",
              "      <td>776</td>\n",
              "      <td>1797</td>\n",
              "    </tr>\n",
              "    <tr>\n",
              "      <th>2</th>\n",
              "      <td>1503960366</td>\n",
              "      <td>4/14/2016</td>\n",
              "      <td>Thursday</td>\n",
              "      <td>10460</td>\n",
              "      <td>6.74</td>\n",
              "      <td>6.74</td>\n",
              "      <td>0.0</td>\n",
              "      <td>2.44</td>\n",
              "      <td>0.40</td>\n",
              "      <td>3.91</td>\n",
              "      <td>0.0</td>\n",
              "      <td>30</td>\n",
              "      <td>11</td>\n",
              "      <td>181</td>\n",
              "      <td>1218</td>\n",
              "      <td>1776</td>\n",
              "    </tr>\n",
              "    <tr>\n",
              "      <th>3</th>\n",
              "      <td>1503960366</td>\n",
              "      <td>4/15/2016</td>\n",
              "      <td>Friday</td>\n",
              "      <td>9762</td>\n",
              "      <td>6.28</td>\n",
              "      <td>6.28</td>\n",
              "      <td>0.0</td>\n",
              "      <td>2.14</td>\n",
              "      <td>1.26</td>\n",
              "      <td>2.83</td>\n",
              "      <td>0.0</td>\n",
              "      <td>29</td>\n",
              "      <td>34</td>\n",
              "      <td>209</td>\n",
              "      <td>726</td>\n",
              "      <td>1745</td>\n",
              "    </tr>\n",
              "    <tr>\n",
              "      <th>4</th>\n",
              "      <td>1503960366</td>\n",
              "      <td>4/16/2016</td>\n",
              "      <td>Saturday</td>\n",
              "      <td>12669</td>\n",
              "      <td>8.16</td>\n",
              "      <td>8.16</td>\n",
              "      <td>0.0</td>\n",
              "      <td>2.71</td>\n",
              "      <td>0.41</td>\n",
              "      <td>5.04</td>\n",
              "      <td>0.0</td>\n",
              "      <td>36</td>\n",
              "      <td>10</td>\n",
              "      <td>221</td>\n",
              "      <td>773</td>\n",
              "      <td>1863</td>\n",
              "    </tr>\n",
              "  </tbody>\n",
              "</table>\n",
              "</div>\n",
              "      <button class=\"colab-df-convert\" onclick=\"convertToInteractive('df-4dbd3d8b-2ebb-4f32-972f-c3eff8e1c864')\"\n",
              "              title=\"Convert this dataframe to an interactive table.\"\n",
              "              style=\"display:none;\">\n",
              "        \n",
              "  <svg xmlns=\"http://www.w3.org/2000/svg\" height=\"24px\"viewBox=\"0 0 24 24\"\n",
              "       width=\"24px\">\n",
              "    <path d=\"M0 0h24v24H0V0z\" fill=\"none\"/>\n",
              "    <path d=\"M18.56 5.44l.94 2.06.94-2.06 2.06-.94-2.06-.94-.94-2.06-.94 2.06-2.06.94zm-11 1L8.5 8.5l.94-2.06 2.06-.94-2.06-.94L8.5 2.5l-.94 2.06-2.06.94zm10 10l.94 2.06.94-2.06 2.06-.94-2.06-.94-.94-2.06-.94 2.06-2.06.94z\"/><path d=\"M17.41 7.96l-1.37-1.37c-.4-.4-.92-.59-1.43-.59-.52 0-1.04.2-1.43.59L10.3 9.45l-7.72 7.72c-.78.78-.78 2.05 0 2.83L4 21.41c.39.39.9.59 1.41.59.51 0 1.02-.2 1.41-.59l7.78-7.78 2.81-2.81c.8-.78.8-2.07 0-2.86zM5.41 20L4 18.59l7.72-7.72 1.47 1.35L5.41 20z\"/>\n",
              "  </svg>\n",
              "      </button>\n",
              "      \n",
              "  <style>\n",
              "    .colab-df-container {\n",
              "      display:flex;\n",
              "      flex-wrap:wrap;\n",
              "      gap: 12px;\n",
              "    }\n",
              "\n",
              "    .colab-df-convert {\n",
              "      background-color: #E8F0FE;\n",
              "      border: none;\n",
              "      border-radius: 50%;\n",
              "      cursor: pointer;\n",
              "      display: none;\n",
              "      fill: #1967D2;\n",
              "      height: 32px;\n",
              "      padding: 0 0 0 0;\n",
              "      width: 32px;\n",
              "    }\n",
              "\n",
              "    .colab-df-convert:hover {\n",
              "      background-color: #E2EBFA;\n",
              "      box-shadow: 0px 1px 2px rgba(60, 64, 67, 0.3), 0px 1px 3px 1px rgba(60, 64, 67, 0.15);\n",
              "      fill: #174EA6;\n",
              "    }\n",
              "\n",
              "    [theme=dark] .colab-df-convert {\n",
              "      background-color: #3B4455;\n",
              "      fill: #D2E3FC;\n",
              "    }\n",
              "\n",
              "    [theme=dark] .colab-df-convert:hover {\n",
              "      background-color: #434B5C;\n",
              "      box-shadow: 0px 1px 3px 1px rgba(0, 0, 0, 0.15);\n",
              "      filter: drop-shadow(0px 1px 2px rgba(0, 0, 0, 0.3));\n",
              "      fill: #FFFFFF;\n",
              "    }\n",
              "  </style>\n",
              "\n",
              "      <script>\n",
              "        const buttonEl =\n",
              "          document.querySelector('#df-4dbd3d8b-2ebb-4f32-972f-c3eff8e1c864 button.colab-df-convert');\n",
              "        buttonEl.style.display =\n",
              "          google.colab.kernel.accessAllowed ? 'block' : 'none';\n",
              "\n",
              "        async function convertToInteractive(key) {\n",
              "          const element = document.querySelector('#df-4dbd3d8b-2ebb-4f32-972f-c3eff8e1c864');\n",
              "          const dataTable =\n",
              "            await google.colab.kernel.invokeFunction('convertToInteractive',\n",
              "                                                     [key], {});\n",
              "          if (!dataTable) return;\n",
              "\n",
              "          const docLinkHtml = 'Like what you see? Visit the ' +\n",
              "            '<a target=\"_blank\" href=https://colab.research.google.com/notebooks/data_table.ipynb>data table notebook</a>'\n",
              "            + ' to learn more about interactive tables.';\n",
              "          element.innerHTML = '';\n",
              "          dataTable['output_type'] = 'display_data';\n",
              "          await google.colab.output.renderOutput(dataTable, element);\n",
              "          const docLink = document.createElement('div');\n",
              "          docLink.innerHTML = docLinkHtml;\n",
              "          element.appendChild(docLink);\n",
              "        }\n",
              "      </script>\n",
              "    </div>\n",
              "  </div>\n",
              "  "
            ]
          },
          "metadata": {},
          "execution_count": 31
        }
      ]
    },
    {
      "cell_type": "code",
      "source": [
        "#Agrupamento por dia da semana\n",
        "grp_d_actv = day_activity.groupby(['dia_semana']).mean()\n",
        "grp_d_actv.tail()"
      ],
      "metadata": {
        "colab": {
          "base_uri": "https://localhost:8080/",
          "height": 302
        },
        "id": "zQJ_7k2nZaWw",
        "outputId": "d0e95c3c-c7d0-4bc6-c9e3-f12e543f89b8"
      },
      "execution_count": null,
      "outputs": [
        {
          "output_type": "execute_result",
          "data": {
            "text/plain": [
              "                      Id   TotalSteps  TotalDistance  TrackerDistance  \\\n",
              "dia_semana                                                              \n",
              "Saturday    4.908075e+09  8152.975806       5.854677         5.854677   \n",
              "Sunday      4.847640e+09  6933.231405       5.027190         5.027190   \n",
              "Thursday    4.837277e+09  7405.836735       5.312245         5.287415   \n",
              "Tuesday     4.851063e+09  8125.006579       5.832237         5.812829   \n",
              "Wednesday   4.815191e+09  7559.373333       5.488333         5.467600   \n",
              "\n",
              "            LoggedActivitiesDistance  VeryActiveDistance  \\\n",
              "dia_semana                                                 \n",
              "Saturday                    0.000000            1.514597   \n",
              "Sunday                      0.000000            1.488926   \n",
              "Thursday                    0.129283            1.390476   \n",
              "Tuesday                     0.169054            1.613289   \n",
              "Wednesday                   0.139588            1.633467   \n",
              "\n",
              "            ModeratelyActiveDistance  LightActiveDistance  \\\n",
              "dia_semana                                                  \n",
              "Saturday                    0.677339             3.617177   \n",
              "Sunday                      0.618017             2.892314   \n",
              "Thursday                    0.505170             3.283129   \n",
              "Tuesday                     0.593026             3.471053   \n",
              "Wednesday                   0.527067             3.256333   \n",
              "\n",
              "            SedentaryActiveDistance  VeryActiveMinutes  FairlyActiveMinutes  \\\n",
              "dia_semana                                                                    \n",
              "Saturday                   0.001048          21.919355            15.201613   \n",
              "Sunday                     0.000661          19.983471            14.528926   \n",
              "Thursday                   0.002313          19.408163            11.959184   \n",
              "Tuesday                    0.001447          22.953947            14.335526   \n",
              "Wednesday                  0.001333          20.780000            13.100000   \n",
              "\n",
              "            LightlyActiveMinutes  SedentaryMinutes     Calories  \n",
              "dia_semana                                                       \n",
              "Saturday              207.145161        964.282258  2354.967742  \n",
              "Sunday                173.975207        990.256198  2263.000000  \n",
              "Thursday              185.421769        961.993197  2199.571429  \n",
              "Tuesday               197.342105       1007.361842  2356.013158  \n",
              "Wednesday             189.853333        989.480000  2302.620000  "
            ],
            "text/html": [
              "\n",
              "  <div id=\"df-b7b5d96d-8603-45f2-afd0-8da169cc413a\">\n",
              "    <div class=\"colab-df-container\">\n",
              "      <div>\n",
              "<style scoped>\n",
              "    .dataframe tbody tr th:only-of-type {\n",
              "        vertical-align: middle;\n",
              "    }\n",
              "\n",
              "    .dataframe tbody tr th {\n",
              "        vertical-align: top;\n",
              "    }\n",
              "\n",
              "    .dataframe thead th {\n",
              "        text-align: right;\n",
              "    }\n",
              "</style>\n",
              "<table border=\"1\" class=\"dataframe\">\n",
              "  <thead>\n",
              "    <tr style=\"text-align: right;\">\n",
              "      <th></th>\n",
              "      <th>Id</th>\n",
              "      <th>TotalSteps</th>\n",
              "      <th>TotalDistance</th>\n",
              "      <th>TrackerDistance</th>\n",
              "      <th>LoggedActivitiesDistance</th>\n",
              "      <th>VeryActiveDistance</th>\n",
              "      <th>ModeratelyActiveDistance</th>\n",
              "      <th>LightActiveDistance</th>\n",
              "      <th>SedentaryActiveDistance</th>\n",
              "      <th>VeryActiveMinutes</th>\n",
              "      <th>FairlyActiveMinutes</th>\n",
              "      <th>LightlyActiveMinutes</th>\n",
              "      <th>SedentaryMinutes</th>\n",
              "      <th>Calories</th>\n",
              "    </tr>\n",
              "    <tr>\n",
              "      <th>dia_semana</th>\n",
              "      <th></th>\n",
              "      <th></th>\n",
              "      <th></th>\n",
              "      <th></th>\n",
              "      <th></th>\n",
              "      <th></th>\n",
              "      <th></th>\n",
              "      <th></th>\n",
              "      <th></th>\n",
              "      <th></th>\n",
              "      <th></th>\n",
              "      <th></th>\n",
              "      <th></th>\n",
              "      <th></th>\n",
              "    </tr>\n",
              "  </thead>\n",
              "  <tbody>\n",
              "    <tr>\n",
              "      <th>Saturday</th>\n",
              "      <td>4.908075e+09</td>\n",
              "      <td>8152.975806</td>\n",
              "      <td>5.854677</td>\n",
              "      <td>5.854677</td>\n",
              "      <td>0.000000</td>\n",
              "      <td>1.514597</td>\n",
              "      <td>0.677339</td>\n",
              "      <td>3.617177</td>\n",
              "      <td>0.001048</td>\n",
              "      <td>21.919355</td>\n",
              "      <td>15.201613</td>\n",
              "      <td>207.145161</td>\n",
              "      <td>964.282258</td>\n",
              "      <td>2354.967742</td>\n",
              "    </tr>\n",
              "    <tr>\n",
              "      <th>Sunday</th>\n",
              "      <td>4.847640e+09</td>\n",
              "      <td>6933.231405</td>\n",
              "      <td>5.027190</td>\n",
              "      <td>5.027190</td>\n",
              "      <td>0.000000</td>\n",
              "      <td>1.488926</td>\n",
              "      <td>0.618017</td>\n",
              "      <td>2.892314</td>\n",
              "      <td>0.000661</td>\n",
              "      <td>19.983471</td>\n",
              "      <td>14.528926</td>\n",
              "      <td>173.975207</td>\n",
              "      <td>990.256198</td>\n",
              "      <td>2263.000000</td>\n",
              "    </tr>\n",
              "    <tr>\n",
              "      <th>Thursday</th>\n",
              "      <td>4.837277e+09</td>\n",
              "      <td>7405.836735</td>\n",
              "      <td>5.312245</td>\n",
              "      <td>5.287415</td>\n",
              "      <td>0.129283</td>\n",
              "      <td>1.390476</td>\n",
              "      <td>0.505170</td>\n",
              "      <td>3.283129</td>\n",
              "      <td>0.002313</td>\n",
              "      <td>19.408163</td>\n",
              "      <td>11.959184</td>\n",
              "      <td>185.421769</td>\n",
              "      <td>961.993197</td>\n",
              "      <td>2199.571429</td>\n",
              "    </tr>\n",
              "    <tr>\n",
              "      <th>Tuesday</th>\n",
              "      <td>4.851063e+09</td>\n",
              "      <td>8125.006579</td>\n",
              "      <td>5.832237</td>\n",
              "      <td>5.812829</td>\n",
              "      <td>0.169054</td>\n",
              "      <td>1.613289</td>\n",
              "      <td>0.593026</td>\n",
              "      <td>3.471053</td>\n",
              "      <td>0.001447</td>\n",
              "      <td>22.953947</td>\n",
              "      <td>14.335526</td>\n",
              "      <td>197.342105</td>\n",
              "      <td>1007.361842</td>\n",
              "      <td>2356.013158</td>\n",
              "    </tr>\n",
              "    <tr>\n",
              "      <th>Wednesday</th>\n",
              "      <td>4.815191e+09</td>\n",
              "      <td>7559.373333</td>\n",
              "      <td>5.488333</td>\n",
              "      <td>5.467600</td>\n",
              "      <td>0.139588</td>\n",
              "      <td>1.633467</td>\n",
              "      <td>0.527067</td>\n",
              "      <td>3.256333</td>\n",
              "      <td>0.001333</td>\n",
              "      <td>20.780000</td>\n",
              "      <td>13.100000</td>\n",
              "      <td>189.853333</td>\n",
              "      <td>989.480000</td>\n",
              "      <td>2302.620000</td>\n",
              "    </tr>\n",
              "  </tbody>\n",
              "</table>\n",
              "</div>\n",
              "      <button class=\"colab-df-convert\" onclick=\"convertToInteractive('df-b7b5d96d-8603-45f2-afd0-8da169cc413a')\"\n",
              "              title=\"Convert this dataframe to an interactive table.\"\n",
              "              style=\"display:none;\">\n",
              "        \n",
              "  <svg xmlns=\"http://www.w3.org/2000/svg\" height=\"24px\"viewBox=\"0 0 24 24\"\n",
              "       width=\"24px\">\n",
              "    <path d=\"M0 0h24v24H0V0z\" fill=\"none\"/>\n",
              "    <path d=\"M18.56 5.44l.94 2.06.94-2.06 2.06-.94-2.06-.94-.94-2.06-.94 2.06-2.06.94zm-11 1L8.5 8.5l.94-2.06 2.06-.94-2.06-.94L8.5 2.5l-.94 2.06-2.06.94zm10 10l.94 2.06.94-2.06 2.06-.94-2.06-.94-.94-2.06-.94 2.06-2.06.94z\"/><path d=\"M17.41 7.96l-1.37-1.37c-.4-.4-.92-.59-1.43-.59-.52 0-1.04.2-1.43.59L10.3 9.45l-7.72 7.72c-.78.78-.78 2.05 0 2.83L4 21.41c.39.39.9.59 1.41.59.51 0 1.02-.2 1.41-.59l7.78-7.78 2.81-2.81c.8-.78.8-2.07 0-2.86zM5.41 20L4 18.59l7.72-7.72 1.47 1.35L5.41 20z\"/>\n",
              "  </svg>\n",
              "      </button>\n",
              "      \n",
              "  <style>\n",
              "    .colab-df-container {\n",
              "      display:flex;\n",
              "      flex-wrap:wrap;\n",
              "      gap: 12px;\n",
              "    }\n",
              "\n",
              "    .colab-df-convert {\n",
              "      background-color: #E8F0FE;\n",
              "      border: none;\n",
              "      border-radius: 50%;\n",
              "      cursor: pointer;\n",
              "      display: none;\n",
              "      fill: #1967D2;\n",
              "      height: 32px;\n",
              "      padding: 0 0 0 0;\n",
              "      width: 32px;\n",
              "    }\n",
              "\n",
              "    .colab-df-convert:hover {\n",
              "      background-color: #E2EBFA;\n",
              "      box-shadow: 0px 1px 2px rgba(60, 64, 67, 0.3), 0px 1px 3px 1px rgba(60, 64, 67, 0.15);\n",
              "      fill: #174EA6;\n",
              "    }\n",
              "\n",
              "    [theme=dark] .colab-df-convert {\n",
              "      background-color: #3B4455;\n",
              "      fill: #D2E3FC;\n",
              "    }\n",
              "\n",
              "    [theme=dark] .colab-df-convert:hover {\n",
              "      background-color: #434B5C;\n",
              "      box-shadow: 0px 1px 3px 1px rgba(0, 0, 0, 0.15);\n",
              "      filter: drop-shadow(0px 1px 2px rgba(0, 0, 0, 0.3));\n",
              "      fill: #FFFFFF;\n",
              "    }\n",
              "  </style>\n",
              "\n",
              "      <script>\n",
              "        const buttonEl =\n",
              "          document.querySelector('#df-b7b5d96d-8603-45f2-afd0-8da169cc413a button.colab-df-convert');\n",
              "        buttonEl.style.display =\n",
              "          google.colab.kernel.accessAllowed ? 'block' : 'none';\n",
              "\n",
              "        async function convertToInteractive(key) {\n",
              "          const element = document.querySelector('#df-b7b5d96d-8603-45f2-afd0-8da169cc413a');\n",
              "          const dataTable =\n",
              "            await google.colab.kernel.invokeFunction('convertToInteractive',\n",
              "                                                     [key], {});\n",
              "          if (!dataTable) return;\n",
              "\n",
              "          const docLinkHtml = 'Like what you see? Visit the ' +\n",
              "            '<a target=\"_blank\" href=https://colab.research.google.com/notebooks/data_table.ipynb>data table notebook</a>'\n",
              "            + ' to learn more about interactive tables.';\n",
              "          element.innerHTML = '';\n",
              "          dataTable['output_type'] = 'display_data';\n",
              "          await google.colab.output.renderOutput(dataTable, element);\n",
              "          const docLink = document.createElement('div');\n",
              "          docLink.innerHTML = docLinkHtml;\n",
              "          element.appendChild(docLink);\n",
              "        }\n",
              "      </script>\n",
              "    </div>\n",
              "  </div>\n",
              "  "
            ]
          },
          "metadata": {},
          "execution_count": 32
        }
      ]
    },
    {
      "cell_type": "code",
      "source": [
        "#passos dados por dia da semana\n",
        "sns.barplot(data=grp_d_actv, x=grp_d_actv.index, y=grp_d_actv.TotalSteps, \n",
        "            order=['Sunday','Monday', 'Tuesday', 'Wednesday','Thursday','Friday','Saturday'])\n",
        "\n",
        "plt.xticks(rotation=45)\n",
        "plt.title(\"Média de passos por dia da semana.\")\n",
        "plt.plot()"
      ],
      "metadata": {
        "colab": {
          "base_uri": "https://localhost:8080/",
          "height": 360
        },
        "id": "xLbdgrV8fRsG",
        "outputId": "afb84f8c-6592-4d70-c5f4-1ada6b885ede"
      },
      "execution_count": null,
      "outputs": [
        {
          "output_type": "execute_result",
          "data": {
            "text/plain": [
              "[]"
            ]
          },
          "metadata": {},
          "execution_count": 33
        },
        {
          "output_type": "display_data",
          "data": {
            "text/plain": [
              "<Figure size 432x288 with 1 Axes>"
            ],
            "image/png": "[encoded data removed]"
          },
          "metadata": {}
        }
      ]
    },
    {
      "cell_type": "code",
      "source": [
        "#scatter calorias e passos\n",
        "sns.scatterplot(data=day_activity, y=day_activity.Calories, x=day_activity.TotalSteps)\n",
        "plt.plot()"
      ],
      "metadata": {
        "colab": {
          "base_uri": "https://localhost:8080/",
          "height": 302
        },
        "id": "Y1KTlfRTwYaB",
        "outputId": "fc5629ad-8f65-4d88-cbe9-8380d30c6664"
      },
      "execution_count": null,
      "outputs": [
        {
          "output_type": "execute_result",
          "data": {
            "text/plain": [
              "[]"
            ]
          },
          "metadata": {},
          "execution_count": 34
        },
        {
          "output_type": "display_data",
          "data": {
            "text/plain": [
              "<Figure size 432x288 with 1 Axes>"
            ],
            "image/png": "[encoded data removed]"
          },
          "metadata": {}
        }
      ]
    },
    {
      "cell_type": "code",
      "source": [
        "# correlação entre calorias e total de passos\n",
        "print(day_activity.Calories.corr(day_activity.TotalSteps))"
      ],
      "metadata": {
        "colab": {
          "base_uri": "https://localhost:8080/"
        },
        "id": "JJw8nVKdwqh3",
        "outputId": "c2490f51-630d-4733-8d8f-f02fd70347dc"
      },
      "execution_count": null,
      "outputs": [
        {
          "output_type": "stream",
          "name": "stdout",
          "text": [
            "0.5915680862453355\n"
          ]
        }
      ]
    },
    {
      "cell_type": "markdown",
      "source": [
        "Existe uma correlação moderada em relação ao tempo dormido e o total de passos por dia, o que significa que a quantidade de passos influencia parcialmente na quantidade de sono."
      ],
      "metadata": {
        "id": "rc96bTlYxV8i"
      }
    },
    {
      "cell_type": "code",
      "source": [
        "#scatter sono e sedentárismo\n",
        "sns.scatterplot(data=merge_sleep_activity, x=merge_sleep_activity.TotalMinutesAsleep, y=merge_sleep_activity.SedentaryMinutes)"
      ],
      "metadata": {
        "colab": {
          "base_uri": "https://localhost:8080/",
          "height": 302
        },
        "id": "zW-tRsjUgfzc",
        "outputId": "9adef583-9961-4a52-813e-1e9a915674bb"
      },
      "execution_count": null,
      "outputs": [
        {
          "output_type": "execute_result",
          "data": {
            "text/plain": [
              "<matplotlib.axes._subplots.AxesSubplot at 0x7f4acceaeb80>"
            ]
          },
          "metadata": {},
          "execution_count": 36
        },
        {
          "output_type": "display_data",
          "data": {
            "text/plain": [
              "<Figure size 432x288 with 1 Axes>"
            ],
            "image/png": "[encoded data removed]"
          },
          "metadata": {}
        }
      ]
    },
    {
      "cell_type": "code",
      "source": [
        "# correlação entre calorias e total de passos\n",
        "print(merge_sleep_activity.SedentaryMinutes.corr(merge_sleep_activity.TotalMinutesAsleep))"
      ],
      "metadata": {
        "colab": {
          "base_uri": "https://localhost:8080/"
        },
        "id": "G56KzjbV5OIW",
        "outputId": "1c006354-7b6f-436f-faad-c0e97861ca85"
      },
      "execution_count": null,
      "outputs": [
        {
          "output_type": "stream",
          "name": "stdout",
          "text": [
            "-0.6010731396971011\n"
          ]
        }
      ]
    },
    {
      "cell_type": "markdown",
      "source": [
        "Existe uma correlação negativa moderada entre o tempo sedentário no da e quantidade de sono, ou seja o maior tempo sedentário no dia influencia parcialmente numa menor quantidade de tempo adormecido."
      ],
      "metadata": {
        "id": "fuwdc3775fy7"
      }
    },
    {
      "cell_type": "code",
      "source": [
        "#scatter calorias e sono.\n",
        "sns.scatterplot(data=merge_sleep_activity, x=merge_sleep_activity.TotalMinutesAsleep, y=merge_sleep_activity.Calories)"
      ],
      "metadata": {
        "colab": {
          "base_uri": "https://localhost:8080/",
          "height": 302
        },
        "id": "tQ__nCnjnyos",
        "outputId": "e0e44b60-229e-4c42-f891-27fbae28fb4b"
      },
      "execution_count": null,
      "outputs": [
        {
          "output_type": "execute_result",
          "data": {
            "text/plain": [
              "<matplotlib.axes._subplots.AxesSubplot at 0x7f4ac9f71ee0>"
            ]
          },
          "metadata": {},
          "execution_count": 38
        },
        {
          "output_type": "display_data",
          "data": {
            "text/plain": [
              "<Figure size 432x288 with 1 Axes>"
            ],
            "image/png": "[encoded data removed]"
          },
          "metadata": {}
        }
      ]
    },
    {
      "cell_type": "code",
      "source": [
        "# correlação entre calorias e sono\n",
        "print(merge_sleep_activity.Calories.corr(merge_sleep_activity.TotalMinutesAsleep))"
      ],
      "metadata": {
        "colab": {
          "base_uri": "https://localhost:8080/"
        },
        "id": "XeWo9pRx6lYo",
        "outputId": "5fa2bdaa-c009-4dfb-d30b-b4cd14d6e383"
      },
      "execution_count": null,
      "outputs": [
        {
          "output_type": "stream",
          "name": "stdout",
          "text": [
            "-0.03169899182029161\n"
          ]
        }
      ]
    },
    {
      "cell_type": "markdown",
      "source": [
        "Não existe correlação entre a quantidade de tempo adormecido e e o gasto calórico."
      ],
      "metadata": {
        "id": "alD1YpDYv6DP"
      }
    },
    {
      "cell_type": "code",
      "source": [
        "sns.scatterplot(data=merge_sleep_activity, y=merge_sleep_activity.TotalMinutesAsleep, x=merge_sleep_activity.TotalSteps)"
      ],
      "metadata": {
        "colab": {
          "base_uri": "https://localhost:8080/",
          "height": 302
        },
        "id": "S8pZMl68oCy8",
        "outputId": "690b4175-d3d3-4626-8778-2a0bf54dbdb7"
      },
      "execution_count": null,
      "outputs": [
        {
          "output_type": "execute_result",
          "data": {
            "text/plain": [
              "<matplotlib.axes._subplots.AxesSubplot at 0x7f4ac9e431f0>"
            ]
          },
          "metadata": {},
          "execution_count": 40
        },
        {
          "output_type": "display_data",
          "data": {
            "text/plain": [
              "<Figure size 432x288 with 1 Axes>"
            ],
            "image/png": "[encoded data removed]"
          },
          "metadata": {}
        }
      ]
    },
    {
      "cell_type": "code",
      "source": [
        "# correlação entre calorias e sono\n",
        "print(merge_sleep_activity.TotalSteps.corr(merge_sleep_activity.TotalMinutesAsleep))"
      ],
      "metadata": {
        "colab": {
          "base_uri": "https://localhost:8080/"
        },
        "id": "_ra9iLNk5JYD",
        "outputId": "d7154af8-e488-4df3-d9de-8d8e9881f413"
      },
      "execution_count": null,
      "outputs": [
        {
          "output_type": "stream",
          "name": "stdout",
          "text": [
            "-0.1903439166676316\n"
          ]
        }
      ]
    },
    {
      "cell_type": "markdown",
      "source": [
        "Não existe correção entre passos dados por dia e minutos de sono dormidos, ou seja, andar mais não vai alterar a quantidade de sono."
      ],
      "metadata": {
        "id": "94Ngclmlv92y"
      }
    },
    {
      "cell_type": "markdown",
      "source": [
        "# Relatório."
      ],
      "metadata": {
        "id": "kQObAlYpG7K3"
      }
    },
    {
      "cell_type": "code",
      "source": [
        "#Instalando biblioteca para geração de relatório.\n",
        "!pip install reportlab"
      ],
      "metadata": {
        "colab": {
          "base_uri": "https://localhost:8080/"
        },
        "id": "q_CZFNvdHh1-",
        "outputId": "e0085efe-54f1-4c4a-f829-3ed1a283a970"
      },
      "execution_count": null,
      "outputs": [
        {
          "output_type": "stream",
          "name": "stdout",
          "text": [
            "Looking in indexes: https://pypi.org/simple, https://us-python.pkg.dev/colab-wheels/public/simple/\n",
            "Requirement already satisfied: reportlab in /usr/local/lib/python3.8/dist-packages (3.6.12)\n",
            "Requirement already satisfied: pillow>=9.0.0 in /usr/local/lib/python3.8/dist-packages (from reportlab) (9.4.0)\n"
          ]
        }
      ]
    },
    {
      "cell_type": "code",
      "source": [
        "from reportlab.pdfgen import canvas\n",
        "from reportlab.lib.pagesizes import A4"
      ],
      "metadata": {
        "id": "Z10TyKVvHCv3"
      },
      "execution_count": null,
      "outputs": []
    },
    {
      "cell_type": "code",
      "source": [
        "cnv = canvas.Canvas(\"meu_pdf.pdf\")\n",
        "cnv.drawString()\n",
        "cnv.save()"
      ],
      "metadata": {
        "colab": {
          "base_uri": "https://localhost:8080/",
          "height": 200
        },
        "id": "MIMDVjunII64",
        "outputId": "37bf391f-9bb4-496e-b54a-e85b48a6b45d"
      },
      "execution_count": null,
      "outputs": [
        {
          "output_type": "error",
          "ename": "TypeError",
          "evalue": "ignored",
          "traceback": [
            "\u001b[0;31m---------------------------------------------------------------------------\u001b[0m",
            "\u001b[0;31mTypeError\u001b[0m                                 Traceback (most recent call last)",
            "\u001b[0;32m<ipython-input-44-291d50cfd0fb>\u001b[0m in \u001b[0;36m<module>\u001b[0;34m\u001b[0m\n\u001b[1;32m      1\u001b[0m \u001b[0mcnv\u001b[0m \u001b[0;34m=\u001b[0m \u001b[0mcanvas\u001b[0m\u001b[0;34m.\u001b[0m\u001b[0mCanvas\u001b[0m\u001b[0;34m(\u001b[0m\u001b[0;34m\"meu_pdf.pdf\"\u001b[0m\u001b[0;34m)\u001b[0m\u001b[0;34m\u001b[0m\u001b[0;34m\u001b[0m\u001b[0m\n\u001b[0;32m----> 2\u001b[0;31m \u001b[0mcnv\u001b[0m\u001b[0;34m.\u001b[0m\u001b[0mdrawString\u001b[0m\u001b[0;34m(\u001b[0m\u001b[0;34m)\u001b[0m\u001b[0;34m\u001b[0m\u001b[0;34m\u001b[0m\u001b[0m\n\u001b[0m\u001b[1;32m      3\u001b[0m \u001b[0mcnv\u001b[0m\u001b[0;34m.\u001b[0m\u001b[0msave\u001b[0m\u001b[0;34m(\u001b[0m\u001b[0;34m)\u001b[0m\u001b[0;34m\u001b[0m\u001b[0;34m\u001b[0m\u001b[0m\n",
            "\u001b[0;31mTypeError\u001b[0m: drawString() missing 3 required positional arguments: 'x', 'y', and 'text'"
          ]
        }
      ]
    },
    {
      "cell_type": "code",
      "source": [],
      "metadata": {
        "id": "r8GgZ-LHII1X"
      },
      "execution_count": null,
      "outputs": []
    },
    {
      "cell_type": "code",
      "source": [],
      "metadata": {
        "id": "_rsbUrPXIIlw"
      },
      "execution_count": null,
      "outputs": []
    }
  ]
}