{
  "nbformat": 4,
  "nbformat_minor": 0,
  "metadata": {
    "colab": {
      "provenance": [],
      "collapsed_sections": [
        "ag9elbnlC0cG",
        "A2B2THNnC7gr"
      ],
      "authorship_tag": "ABX9TyP8mntSBTd+3qbPTDmnotYa",
      "include_colab_link": true
    },
    "kernelspec": {
      "name": "python3",
      "display_name": "Python 3"
    },
    "language_info": {
      "name": "python"
    }
  },
  "cells": [
    {
      "cell_type": "markdown",
      "metadata": {
        "id": "view-in-github",
        "colab_type": "text"
      },
      "source": [
        "<a href=\"https://colab.research.google.com/github/TutuBraz/bellabeat-custumer-behavior/blob/main/bellabeat_case.ipynb\" target=\"_parent\"><img src=\"https://colab.research.google.com/assets/colab-badge.svg\" alt=\"Open In Colab\"/></a>"
      ]
    },
    {
      "cell_type": "markdown",
      "source": [
        "#Problema.\n",
        "A Urška solicita que você analise os dados de uso de dispositivos inteligentes para obter informações sobre como os consumidores usam dispositivos inteligentes que não são da Bellabeat. Em seguida, ela quer que você selecione um produto da Bellabeat para aplicar esses insights em sua apresentação.\n",
        "\n",
        "Perguntas: \n",
        "1. Como os usuários dormem?\n",
        "2. Quais são os horários de maior intensidade de exercicios, existe uma rotina?\n",
        "3. Tendência no uso do dispositivo.\n",
        "\n",
        "**Tarefe de negócio:**\n",
        "Identificar o comportamento de cliente que utilizam dispositivos inteligentes que não são Bellabeat, e aplicar esse conhecimento para melhorar o aplicativo da Bellbeat\n",
        "\n",
        "*Aplicativo Bellabeat:* O aplicativo Bellabeat fornece aos usuários dados de saúde relacionados à sua atividade, sono, estresse, ciclo menstrual e hábitos de atenção plena. Esses dados podem ajudar os usuários a entender melhor seus hábitos atuais e tomar decisões saudáveis. O aplicativo Bellabeat se conecta à sua linha de produtos inteligentes de bem-estar."
      ],
      "metadata": {
        "id": "r1bBD8CZWe8r"
      }
    },
    {
      "cell_type": "markdown",
      "source": [
        "#Preparar."
      ],
      "metadata": {
        "id": "ag9elbnlC0cG"
      }
    },
    {
      "cell_type": "markdown",
      "source": [
        "Meta dados: https://www.fitabase.com/media/1930/fitabasedatadictionary102320.pdf\n",
        "\n",
        "O conjunto de dados foi obtido através do Kaggle e contém um rastreador de condicionamento físico pessoal de trinta usuários do Fitbit, uma empresa estadunidense de eletrônicos e fitness. Trinta usuários elegíveis do Fitbit consentiram com o envio de dados pessoais do rastreador, incluindo os resultados a cada minuto de atividade física, frequência cardíaca e monitoramento do sono. São abrangidas informações sobre atividades diárias, passos e frequência cardíaca que podem ser usadas para explorar os hábitos dos usuários.\n",
        "\n",
        "Os data frames utilizados são:\n",
        "* dailyActivity_merged.csv\n",
        "* sleepDay_merged.csv\n",
        "* hourlyIntensities_merged.csv\n",
        "\n",
        "Obs: A única tabela no formato longo é a  \"dailyActivity_merged.csv\"."
      ],
      "metadata": {
        "id": "SKmqkiqW5ZBl"
      }
    },
    {
      "cell_type": "markdown",
      "source": [
        "**Integridade:** \n",
        ">Verificar se os dados estão completos, duplicados ou faltando. Para verificação criei uma função que verifica a quantidade de usúarios, a quantidade de dados duplicados e a quantidade de dados faltantes.  \n",
        "\n",
        ">A tabela sleep_day possui 24 usúarios, como ela é vital para análise e possui uma quantidade relativamente próximado total não irei descarta-la."
      ],
      "metadata": {
        "id": "HB5p4wTPV98e"
      }
    },
    {
      "cell_type": "code",
      "source": [
        "#manipulacao\n",
        "import pandas as pd\n",
        "\n",
        "#datas\n",
        "from datetime import datetime\n",
        "\n",
        "#vizualizacao\n",
        "import matplotlib.pyplot as plt\n",
        "import seaborn as sns\n"
      ],
      "metadata": {
        "id": "mrDN7B76Qfyj"
      },
      "execution_count": null,
      "outputs": []
    },
    {
      "cell_type": "code",
      "source": [
        "#Funcao para verificaar a integridade dos dados\n",
        "def Integridade(dataset, col='Id', col2='Time'):\n",
        "  print(f'Quantidade de usuários: {len(dataset[col].unique())}')\n",
        "  print(f'Valors duplicados: {dataset.duplicated().sum()}')\n",
        "  print(f'Valores ausentes:{dataset.isnull().sum()}')"
      ],
      "metadata": {
        "id": "MXKyk6Ly3eIc"
      },
      "execution_count": null,
      "outputs": []
    },
    {
      "cell_type": "code",
      "source": [
        "#resumo das atividades dos usúarios\n",
        "day_activity = pd.read_csv('/content/dailyActivity_merged.csv')\n",
        "Integridade(day_activity)"
      ],
      "metadata": {
        "colab": {
          "base_uri": "https://localhost:8080/"
        },
        "id": "IqWNN7qqQ0PE",
        "outputId": "13482fe0-fba5-459c-8368-50ba5f9c1b0e"
      },
      "execution_count": null,
      "outputs": [
        {
          "output_type": "stream",
          "name": "stdout",
          "text": [
            "Quantidade de usuários: 33\n",
            "Valors duplicados: 0\n",
            "Valores ausentes:Id                          0\n",
            "ActivityDate                0\n",
            "TotalSteps                  0\n",
            "TotalDistance               0\n",
            "TrackerDistance             0\n",
            "LoggedActivitiesDistance    0\n",
            "VeryActiveDistance          0\n",
            "ModeratelyActiveDistance    0\n",
            "LightActiveDistance         0\n",
            "SedentaryActiveDistance     0\n",
            "VeryActiveMinutes           0\n",
            "FairlyActiveMinutes         0\n",
            "LightlyActiveMinutes        0\n",
            "SedentaryMinutes            0\n",
            "Calories                    0\n",
            "dtype: int64\n"
          ]
        }
      ]
    },
    {
      "cell_type": "code",
      "source": [
        "day_activity.head()"
      ],
      "metadata": {
        "colab": {
          "base_uri": "https://localhost:8080/",
          "height": 270
        },
        "id": "MSloHpdr65Tp",
        "outputId": "e86635cf-84d5-4405-89a3-dccacdac69ca"
      },
      "execution_count": null,
      "outputs": [
        {
          "output_type": "execute_result",
          "data": {
            "text/plain": [
              "           Id ActivityDate  TotalSteps  TotalDistance  TrackerDistance  \\\n",
              "0  1503960366    4/12/2016       13162           8.50             8.50   \n",
              "1  1503960366    4/13/2016       10735           6.97             6.97   \n",
              "2  1503960366    4/14/2016       10460           6.74             6.74   \n",
              "3  1503960366    4/15/2016        9762           6.28             6.28   \n",
              "4  1503960366    4/16/2016       12669           8.16             8.16   \n",
              "\n",
              "   LoggedActivitiesDistance  VeryActiveDistance  ModeratelyActiveDistance  \\\n",
              "0                       0.0                1.88                      0.55   \n",
              "1                       0.0                1.57                      0.69   \n",
              "2                       0.0                2.44                      0.40   \n",
              "3                       0.0                2.14                      1.26   \n",
              "4                       0.0                2.71                      0.41   \n",
              "\n",
              "   LightActiveDistance  SedentaryActiveDistance  VeryActiveMinutes  \\\n",
              "0                 6.06                      0.0                 25   \n",
              "1                 4.71                      0.0                 21   \n",
              "2                 3.91                      0.0                 30   \n",
              "3                 2.83                      0.0                 29   \n",
              "4                 5.04                      0.0                 36   \n",
              "\n",
              "   FairlyActiveMinutes  LightlyActiveMinutes  SedentaryMinutes  Calories  \n",
              "0                   13                   328               728      1985  \n",
              "1                   19                   217               776      1797  \n",
              "2                   11                   181              1218      1776  \n",
              "3                   34                   209               726      1745  \n",
              "4                   10                   221               773      1863  "
            ],
            "text/html": [
              "\n",
              "  <div id=\"df-3faa421c-7129-4b5f-832d-32922810117d\">\n",
              "    <div class=\"colab-df-container\">\n",
              "      <div>\n",
              "<style scoped>\n",
              "    .dataframe tbody tr th:only-of-type {\n",
              "        vertical-align: middle;\n",
              "    }\n",
              "\n",
              "    .dataframe tbody tr th {\n",
              "        vertical-align: top;\n",
              "    }\n",
              "\n",
              "    .dataframe thead th {\n",
              "        text-align: right;\n",
              "    }\n",
              "</style>\n",
              "<table border=\"1\" class=\"dataframe\">\n",
              "  <thead>\n",
              "    <tr style=\"text-align: right;\">\n",
              "      <th></th>\n",
              "      <th>Id</th>\n",
              "      <th>ActivityDate</th>\n",
              "      <th>TotalSteps</th>\n",
              "      <th>TotalDistance</th>\n",
              "      <th>TrackerDistance</th>\n",
              "      <th>LoggedActivitiesDistance</th>\n",
              "      <th>VeryActiveDistance</th>\n",
              "      <th>ModeratelyActiveDistance</th>\n",
              "      <th>LightActiveDistance</th>\n",
              "      <th>SedentaryActiveDistance</th>\n",
              "      <th>VeryActiveMinutes</th>\n",
              "      <th>FairlyActiveMinutes</th>\n",
              "      <th>LightlyActiveMinutes</th>\n",
              "      <th>SedentaryMinutes</th>\n",
              "      <th>Calories</th>\n",
              "    </tr>\n",
              "  </thead>\n",
              "  <tbody>\n",
              "    <tr>\n",
              "      <th>0</th>\n",
              "      <td>1503960366</td>\n",
              "      <td>4/12/2016</td>\n",
              "      <td>13162</td>\n",
              "      <td>8.50</td>\n",
              "      <td>8.50</td>\n",
              "      <td>0.0</td>\n",
              "      <td>1.88</td>\n",
              "      <td>0.55</td>\n",
              "      <td>6.06</td>\n",
              "      <td>0.0</td>\n",
              "      <td>25</td>\n",
              "      <td>13</td>\n",
              "      <td>328</td>\n",
              "      <td>728</td>\n",
              "      <td>1985</td>\n",
              "    </tr>\n",
              "    <tr>\n",
              "      <th>1</th>\n",
              "      <td>1503960366</td>\n",
              "      <td>4/13/2016</td>\n",
              "      <td>10735</td>\n",
              "      <td>6.97</td>\n",
              "      <td>6.97</td>\n",
              "      <td>0.0</td>\n",
              "      <td>1.57</td>\n",
              "      <td>0.69</td>\n",
              "      <td>4.71</td>\n",
              "      <td>0.0</td>\n",
              "      <td>21</td>\n",
              "      <td>19</td>\n",
              "      <td>217</td>\n",
              "      <td>776</td>\n",
              "      <td>1797</td>\n",
              "    </tr>\n",
              "    <tr>\n",
              "      <th>2</th>\n",
              "      <td>1503960366</td>\n",
              "      <td>4/14/2016</td>\n",
              "      <td>10460</td>\n",
              "      <td>6.74</td>\n",
              "      <td>6.74</td>\n",
              "      <td>0.0</td>\n",
              "      <td>2.44</td>\n",
              "      <td>0.40</td>\n",
              "      <td>3.91</td>\n",
              "      <td>0.0</td>\n",
              "      <td>30</td>\n",
              "      <td>11</td>\n",
              "      <td>181</td>\n",
              "      <td>1218</td>\n",
              "      <td>1776</td>\n",
              "    </tr>\n",
              "    <tr>\n",
              "      <th>3</th>\n",
              "      <td>1503960366</td>\n",
              "      <td>4/15/2016</td>\n",
              "      <td>9762</td>\n",
              "      <td>6.28</td>\n",
              "      <td>6.28</td>\n",
              "      <td>0.0</td>\n",
              "      <td>2.14</td>\n",
              "      <td>1.26</td>\n",
              "      <td>2.83</td>\n",
              "      <td>0.0</td>\n",
              "      <td>29</td>\n",
              "      <td>34</td>\n",
              "      <td>209</td>\n",
              "      <td>726</td>\n",
              "      <td>1745</td>\n",
              "    </tr>\n",
              "    <tr>\n",
              "      <th>4</th>\n",
              "      <td>1503960366</td>\n",
              "      <td>4/16/2016</td>\n",
              "      <td>12669</td>\n",
              "      <td>8.16</td>\n",
              "      <td>8.16</td>\n",
              "      <td>0.0</td>\n",
              "      <td>2.71</td>\n",
              "      <td>0.41</td>\n",
              "      <td>5.04</td>\n",
              "      <td>0.0</td>\n",
              "      <td>36</td>\n",
              "      <td>10</td>\n",
              "      <td>221</td>\n",
              "      <td>773</td>\n",
              "      <td>1863</td>\n",
              "    </tr>\n",
              "  </tbody>\n",
              "</table>\n",
              "</div>\n",
              "      <button class=\"colab-df-convert\" onclick=\"convertToInteractive('df-3faa421c-7129-4b5f-832d-32922810117d')\"\n",
              "              title=\"Convert this dataframe to an interactive table.\"\n",
              "              style=\"display:none;\">\n",
              "        \n",
              "  <svg xmlns=\"http://www.w3.org/2000/svg\" height=\"24px\"viewBox=\"0 0 24 24\"\n",
              "       width=\"24px\">\n",
              "    <path d=\"M0 0h24v24H0V0z\" fill=\"none\"/>\n",
              "    <path d=\"M18.56 5.44l.94 2.06.94-2.06 2.06-.94-2.06-.94-.94-2.06-.94 2.06-2.06.94zm-11 1L8.5 8.5l.94-2.06 2.06-.94-2.06-.94L8.5 2.5l-.94 2.06-2.06.94zm10 10l.94 2.06.94-2.06 2.06-.94-2.06-.94-.94-2.06-.94 2.06-2.06.94z\"/><path d=\"M17.41 7.96l-1.37-1.37c-.4-.4-.92-.59-1.43-.59-.52 0-1.04.2-1.43.59L10.3 9.45l-7.72 7.72c-.78.78-.78 2.05 0 2.83L4 21.41c.39.39.9.59 1.41.59.51 0 1.02-.2 1.41-.59l7.78-7.78 2.81-2.81c.8-.78.8-2.07 0-2.86zM5.41 20L4 18.59l7.72-7.72 1.47 1.35L5.41 20z\"/>\n",
              "  </svg>\n",
              "      </button>\n",
              "      \n",
              "  <style>\n",
              "    .colab-df-container {\n",
              "      display:flex;\n",
              "      flex-wrap:wrap;\n",
              "      gap: 12px;\n",
              "    }\n",
              "\n",
              "    .colab-df-convert {\n",
              "      background-color: #E8F0FE;\n",
              "      border: none;\n",
              "      border-radius: 50%;\n",
              "      cursor: pointer;\n",
              "      display: none;\n",
              "      fill: #1967D2;\n",
              "      height: 32px;\n",
              "      padding: 0 0 0 0;\n",
              "      width: 32px;\n",
              "    }\n",
              "\n",
              "    .colab-df-convert:hover {\n",
              "      background-color: #E2EBFA;\n",
              "      box-shadow: 0px 1px 2px rgba(60, 64, 67, 0.3), 0px 1px 3px 1px rgba(60, 64, 67, 0.15);\n",
              "      fill: #174EA6;\n",
              "    }\n",
              "\n",
              "    [theme=dark] .colab-df-convert {\n",
              "      background-color: #3B4455;\n",
              "      fill: #D2E3FC;\n",
              "    }\n",
              "\n",
              "    [theme=dark] .colab-df-convert:hover {\n",
              "      background-color: #434B5C;\n",
              "      box-shadow: 0px 1px 3px 1px rgba(0, 0, 0, 0.15);\n",
              "      filter: drop-shadow(0px 1px 2px rgba(0, 0, 0, 0.3));\n",
              "      fill: #FFFFFF;\n",
              "    }\n",
              "  </style>\n",
              "\n",
              "      <script>\n",
              "        const buttonEl =\n",
              "          document.querySelector('#df-3faa421c-7129-4b5f-832d-32922810117d button.colab-df-convert');\n",
              "        buttonEl.style.display =\n",
              "          google.colab.kernel.accessAllowed ? 'block' : 'none';\n",
              "\n",
              "        async function convertToInteractive(key) {\n",
              "          const element = document.querySelector('#df-3faa421c-7129-4b5f-832d-32922810117d');\n",
              "          const dataTable =\n",
              "            await google.colab.kernel.invokeFunction('convertToInteractive',\n",
              "                                                     [key], {});\n",
              "          if (!dataTable) return;\n",
              "\n",
              "          const docLinkHtml = 'Like what you see? Visit the ' +\n",
              "            '<a target=\"_blank\" href=https://colab.research.google.com/notebooks/data_table.ipynb>data table notebook</a>'\n",
              "            + ' to learn more about interactive tables.';\n",
              "          element.innerHTML = '';\n",
              "          dataTable['output_type'] = 'display_data';\n",
              "          await google.colab.output.renderOutput(dataTable, element);\n",
              "          const docLink = document.createElement('div');\n",
              "          docLink.innerHTML = docLinkHtml;\n",
              "          element.appendChild(docLink);\n",
              "        }\n",
              "      </script>\n",
              "    </div>\n",
              "  </div>\n",
              "  "
            ]
          },
          "metadata": {},
          "execution_count": 4
        }
      ]
    },
    {
      "cell_type": "code",
      "source": [
        "#minutos dormidos por dia\n",
        "sleep_day =pd.read_csv('/content/sleepDay_merged.csv')\n",
        "Integridade(sleep_day)"
      ],
      "metadata": {
        "id": "MwjyqZK2RxX_",
        "colab": {
          "base_uri": "https://localhost:8080/"
        },
        "outputId": "cde92366-c331-438b-90d5-20a367c29135"
      },
      "execution_count": null,
      "outputs": [
        {
          "output_type": "stream",
          "name": "stdout",
          "text": [
            "Quantidade de usuários: 24\n",
            "Valors duplicados: 3\n",
            "Valores ausentes:Id                    0\n",
            "SleepDay              0\n",
            "TotalSleepRecords     0\n",
            "TotalMinutesAsleep    0\n",
            "TotalTimeInBed        0\n",
            "dtype: int64\n"
          ]
        }
      ]
    },
    {
      "cell_type": "code",
      "source": [
        "sleep_day.head()"
      ],
      "metadata": {
        "id": "HjrnP9Ko7VST",
        "colab": {
          "base_uri": "https://localhost:8080/",
          "height": 206
        },
        "outputId": "29069fdc-3cf9-47a5-bc3f-80a428092370"
      },
      "execution_count": null,
      "outputs": [
        {
          "output_type": "execute_result",
          "data": {
            "text/plain": [
              "           Id               SleepDay  TotalSleepRecords  TotalMinutesAsleep  \\\n",
              "0  1503960366  4/12/2016 12:00:00 AM                  1                 327   \n",
              "1  1503960366  4/13/2016 12:00:00 AM                  2                 384   \n",
              "2  1503960366  4/15/2016 12:00:00 AM                  1                 412   \n",
              "3  1503960366  4/16/2016 12:00:00 AM                  2                 340   \n",
              "4  1503960366  4/17/2016 12:00:00 AM                  1                 700   \n",
              "\n",
              "   TotalTimeInBed  \n",
              "0             346  \n",
              "1             407  \n",
              "2             442  \n",
              "3             367  \n",
              "4             712  "
            ],
            "text/html": [
              "\n",
              "  <div id=\"df-5c5e9d0b-c32d-4f82-9b37-9badb1f5e23e\">\n",
              "    <div class=\"colab-df-container\">\n",
              "      <div>\n",
              "<style scoped>\n",
              "    .dataframe tbody tr th:only-of-type {\n",
              "        vertical-align: middle;\n",
              "    }\n",
              "\n",
              "    .dataframe tbody tr th {\n",
              "        vertical-align: top;\n",
              "    }\n",
              "\n",
              "    .dataframe thead th {\n",
              "        text-align: right;\n",
              "    }\n",
              "</style>\n",
              "<table border=\"1\" class=\"dataframe\">\n",
              "  <thead>\n",
              "    <tr style=\"text-align: right;\">\n",
              "      <th></th>\n",
              "      <th>Id</th>\n",
              "      <th>SleepDay</th>\n",
              "      <th>TotalSleepRecords</th>\n",
              "      <th>TotalMinutesAsleep</th>\n",
              "      <th>TotalTimeInBed</th>\n",
              "    </tr>\n",
              "  </thead>\n",
              "  <tbody>\n",
              "    <tr>\n",
              "      <th>0</th>\n",
              "      <td>1503960366</td>\n",
              "      <td>4/12/2016 12:00:00 AM</td>\n",
              "      <td>1</td>\n",
              "      <td>327</td>\n",
              "      <td>346</td>\n",
              "    </tr>\n",
              "    <tr>\n",
              "      <th>1</th>\n",
              "      <td>1503960366</td>\n",
              "      <td>4/13/2016 12:00:00 AM</td>\n",
              "      <td>2</td>\n",
              "      <td>384</td>\n",
              "      <td>407</td>\n",
              "    </tr>\n",
              "    <tr>\n",
              "      <th>2</th>\n",
              "      <td>1503960366</td>\n",
              "      <td>4/15/2016 12:00:00 AM</td>\n",
              "      <td>1</td>\n",
              "      <td>412</td>\n",
              "      <td>442</td>\n",
              "    </tr>\n",
              "    <tr>\n",
              "      <th>3</th>\n",
              "      <td>1503960366</td>\n",
              "      <td>4/16/2016 12:00:00 AM</td>\n",
              "      <td>2</td>\n",
              "      <td>340</td>\n",
              "      <td>367</td>\n",
              "    </tr>\n",
              "    <tr>\n",
              "      <th>4</th>\n",
              "      <td>1503960366</td>\n",
              "      <td>4/17/2016 12:00:00 AM</td>\n",
              "      <td>1</td>\n",
              "      <td>700</td>\n",
              "      <td>712</td>\n",
              "    </tr>\n",
              "  </tbody>\n",
              "</table>\n",
              "</div>\n",
              "      <button class=\"colab-df-convert\" onclick=\"convertToInteractive('df-5c5e9d0b-c32d-4f82-9b37-9badb1f5e23e')\"\n",
              "              title=\"Convert this dataframe to an interactive table.\"\n",
              "              style=\"display:none;\">\n",
              "        \n",
              "  <svg xmlns=\"http://www.w3.org/2000/svg\" height=\"24px\"viewBox=\"0 0 24 24\"\n",
              "       width=\"24px\">\n",
              "    <path d=\"M0 0h24v24H0V0z\" fill=\"none\"/>\n",
              "    <path d=\"M18.56 5.44l.94 2.06.94-2.06 2.06-.94-2.06-.94-.94-2.06-.94 2.06-2.06.94zm-11 1L8.5 8.5l.94-2.06 2.06-.94-2.06-.94L8.5 2.5l-.94 2.06-2.06.94zm10 10l.94 2.06.94-2.06 2.06-.94-2.06-.94-.94-2.06-.94 2.06-2.06.94z\"/><path d=\"M17.41 7.96l-1.37-1.37c-.4-.4-.92-.59-1.43-.59-.52 0-1.04.2-1.43.59L10.3 9.45l-7.72 7.72c-.78.78-.78 2.05 0 2.83L4 21.41c.39.39.9.59 1.41.59.51 0 1.02-.2 1.41-.59l7.78-7.78 2.81-2.81c.8-.78.8-2.07 0-2.86zM5.41 20L4 18.59l7.72-7.72 1.47 1.35L5.41 20z\"/>\n",
              "  </svg>\n",
              "      </button>\n",
              "      \n",
              "  <style>\n",
              "    .colab-df-container {\n",
              "      display:flex;\n",
              "      flex-wrap:wrap;\n",
              "      gap: 12px;\n",
              "    }\n",
              "\n",
              "    .colab-df-convert {\n",
              "      background-color: #E8F0FE;\n",
              "      border: none;\n",
              "      border-radius: 50%;\n",
              "      cursor: pointer;\n",
              "      display: none;\n",
              "      fill: #1967D2;\n",
              "      height: 32px;\n",
              "      padding: 0 0 0 0;\n",
              "      width: 32px;\n",
              "    }\n",
              "\n",
              "    .colab-df-convert:hover {\n",
              "      background-color: #E2EBFA;\n",
              "      box-shadow: 0px 1px 2px rgba(60, 64, 67, 0.3), 0px 1px 3px 1px rgba(60, 64, 67, 0.15);\n",
              "      fill: #174EA6;\n",
              "    }\n",
              "\n",
              "    [theme=dark] .colab-df-convert {\n",
              "      background-color: #3B4455;\n",
              "      fill: #D2E3FC;\n",
              "    }\n",
              "\n",
              "    [theme=dark] .colab-df-convert:hover {\n",
              "      background-color: #434B5C;\n",
              "      box-shadow: 0px 1px 3px 1px rgba(0, 0, 0, 0.15);\n",
              "      filter: drop-shadow(0px 1px 2px rgba(0, 0, 0, 0.3));\n",
              "      fill: #FFFFFF;\n",
              "    }\n",
              "  </style>\n",
              "\n",
              "      <script>\n",
              "        const buttonEl =\n",
              "          document.querySelector('#df-5c5e9d0b-c32d-4f82-9b37-9badb1f5e23e button.colab-df-convert');\n",
              "        buttonEl.style.display =\n",
              "          google.colab.kernel.accessAllowed ? 'block' : 'none';\n",
              "\n",
              "        async function convertToInteractive(key) {\n",
              "          const element = document.querySelector('#df-5c5e9d0b-c32d-4f82-9b37-9badb1f5e23e');\n",
              "          const dataTable =\n",
              "            await google.colab.kernel.invokeFunction('convertToInteractive',\n",
              "                                                     [key], {});\n",
              "          if (!dataTable) return;\n",
              "\n",
              "          const docLinkHtml = 'Like what you see? Visit the ' +\n",
              "            '<a target=\"_blank\" href=https://colab.research.google.com/notebooks/data_table.ipynb>data table notebook</a>'\n",
              "            + ' to learn more about interactive tables.';\n",
              "          element.innerHTML = '';\n",
              "          dataTable['output_type'] = 'display_data';\n",
              "          await google.colab.output.renderOutput(dataTable, element);\n",
              "          const docLink = document.createElement('div');\n",
              "          docLink.innerHTML = docLinkHtml;\n",
              "          element.appendChild(docLink);\n",
              "        }\n",
              "      </script>\n",
              "    </div>\n",
              "  </div>\n",
              "  "
            ]
          },
          "metadata": {},
          "execution_count": 6
        }
      ]
    },
    {
      "cell_type": "code",
      "source": [
        "#Intensidade dos usúarios\n",
        "hour_intensities = pd.read_csv('/content/hourlyIntensities_merged.csv')\n",
        "Integridade(hour_intensities)"
      ],
      "metadata": {
        "colab": {
          "base_uri": "https://localhost:8080/"
        },
        "id": "_u0CSf6ZAwS5",
        "outputId": "4b7bd184-abad-4cb7-a689-0d333774e8f7"
      },
      "execution_count": null,
      "outputs": [
        {
          "output_type": "stream",
          "name": "stdout",
          "text": [
            "Quantidade de usuários: 33\n",
            "Valors duplicados: 0\n",
            "Valores ausentes:Id                  0\n",
            "ActivityHour        0\n",
            "TotalIntensity      0\n",
            "AverageIntensity    0\n",
            "dtype: int64\n"
          ]
        }
      ]
    },
    {
      "cell_type": "code",
      "source": [
        "hour_intensities.head()"
      ],
      "metadata": {
        "id": "bKeQcJMbA-89",
        "colab": {
          "base_uri": "https://localhost:8080/",
          "height": 206
        },
        "outputId": "3a064feb-3951-4c17-f209-99c0bb3f1fd6"
      },
      "execution_count": null,
      "outputs": [
        {
          "output_type": "execute_result",
          "data": {
            "text/plain": [
              "           Id           ActivityHour  TotalIntensity  AverageIntensity\n",
              "0  1503960366  4/12/2016 12:00:00 AM              20          0.333333\n",
              "1  1503960366   4/12/2016 1:00:00 AM               8          0.133333\n",
              "2  1503960366   4/12/2016 2:00:00 AM               7          0.116667\n",
              "3  1503960366   4/12/2016 3:00:00 AM               0          0.000000\n",
              "4  1503960366   4/12/2016 4:00:00 AM               0          0.000000"
            ],
            "text/html": [
              "\n",
              "  <div id=\"df-900af737-0088-4c99-9494-82cf0d73188a\">\n",
              "    <div class=\"colab-df-container\">\n",
              "      <div>\n",
              "<style scoped>\n",
              "    .dataframe tbody tr th:only-of-type {\n",
              "        vertical-align: middle;\n",
              "    }\n",
              "\n",
              "    .dataframe tbody tr th {\n",
              "        vertical-align: top;\n",
              "    }\n",
              "\n",
              "    .dataframe thead th {\n",
              "        text-align: right;\n",
              "    }\n",
              "</style>\n",
              "<table border=\"1\" class=\"dataframe\">\n",
              "  <thead>\n",
              "    <tr style=\"text-align: right;\">\n",
              "      <th></th>\n",
              "      <th>Id</th>\n",
              "      <th>ActivityHour</th>\n",
              "      <th>TotalIntensity</th>\n",
              "      <th>AverageIntensity</th>\n",
              "    </tr>\n",
              "  </thead>\n",
              "  <tbody>\n",
              "    <tr>\n",
              "      <th>0</th>\n",
              "      <td>1503960366</td>\n",
              "      <td>4/12/2016 12:00:00 AM</td>\n",
              "      <td>20</td>\n",
              "      <td>0.333333</td>\n",
              "    </tr>\n",
              "    <tr>\n",
              "      <th>1</th>\n",
              "      <td>1503960366</td>\n",
              "      <td>4/12/2016 1:00:00 AM</td>\n",
              "      <td>8</td>\n",
              "      <td>0.133333</td>\n",
              "    </tr>\n",
              "    <tr>\n",
              "      <th>2</th>\n",
              "      <td>1503960366</td>\n",
              "      <td>4/12/2016 2:00:00 AM</td>\n",
              "      <td>7</td>\n",
              "      <td>0.116667</td>\n",
              "    </tr>\n",
              "    <tr>\n",
              "      <th>3</th>\n",
              "      <td>1503960366</td>\n",
              "      <td>4/12/2016 3:00:00 AM</td>\n",
              "      <td>0</td>\n",
              "      <td>0.000000</td>\n",
              "    </tr>\n",
              "    <tr>\n",
              "      <th>4</th>\n",
              "      <td>1503960366</td>\n",
              "      <td>4/12/2016 4:00:00 AM</td>\n",
              "      <td>0</td>\n",
              "      <td>0.000000</td>\n",
              "    </tr>\n",
              "  </tbody>\n",
              "</table>\n",
              "</div>\n",
              "      <button class=\"colab-df-convert\" onclick=\"convertToInteractive('df-900af737-0088-4c99-9494-82cf0d73188a')\"\n",
              "              title=\"Convert this dataframe to an interactive table.\"\n",
              "              style=\"display:none;\">\n",
              "        \n",
              "  <svg xmlns=\"http://www.w3.org/2000/svg\" height=\"24px\"viewBox=\"0 0 24 24\"\n",
              "       width=\"24px\">\n",
              "    <path d=\"M0 0h24v24H0V0z\" fill=\"none\"/>\n",
              "    <path d=\"M18.56 5.44l.94 2.06.94-2.06 2.06-.94-2.06-.94-.94-2.06-.94 2.06-2.06.94zm-11 1L8.5 8.5l.94-2.06 2.06-.94-2.06-.94L8.5 2.5l-.94 2.06-2.06.94zm10 10l.94 2.06.94-2.06 2.06-.94-2.06-.94-.94-2.06-.94 2.06-2.06.94z\"/><path d=\"M17.41 7.96l-1.37-1.37c-.4-.4-.92-.59-1.43-.59-.52 0-1.04.2-1.43.59L10.3 9.45l-7.72 7.72c-.78.78-.78 2.05 0 2.83L4 21.41c.39.39.9.59 1.41.59.51 0 1.02-.2 1.41-.59l7.78-7.78 2.81-2.81c.8-.78.8-2.07 0-2.86zM5.41 20L4 18.59l7.72-7.72 1.47 1.35L5.41 20z\"/>\n",
              "  </svg>\n",
              "      </button>\n",
              "      \n",
              "  <style>\n",
              "    .colab-df-container {\n",
              "      display:flex;\n",
              "      flex-wrap:wrap;\n",
              "      gap: 12px;\n",
              "    }\n",
              "\n",
              "    .colab-df-convert {\n",
              "      background-color: #E8F0FE;\n",
              "      border: none;\n",
              "      border-radius: 50%;\n",
              "      cursor: pointer;\n",
              "      display: none;\n",
              "      fill: #1967D2;\n",
              "      height: 32px;\n",
              "      padding: 0 0 0 0;\n",
              "      width: 32px;\n",
              "    }\n",
              "\n",
              "    .colab-df-convert:hover {\n",
              "      background-color: #E2EBFA;\n",
              "      box-shadow: 0px 1px 2px rgba(60, 64, 67, 0.3), 0px 1px 3px 1px rgba(60, 64, 67, 0.15);\n",
              "      fill: #174EA6;\n",
              "    }\n",
              "\n",
              "    [theme=dark] .colab-df-convert {\n",
              "      background-color: #3B4455;\n",
              "      fill: #D2E3FC;\n",
              "    }\n",
              "\n",
              "    [theme=dark] .colab-df-convert:hover {\n",
              "      background-color: #434B5C;\n",
              "      box-shadow: 0px 1px 3px 1px rgba(0, 0, 0, 0.15);\n",
              "      filter: drop-shadow(0px 1px 2px rgba(0, 0, 0, 0.3));\n",
              "      fill: #FFFFFF;\n",
              "    }\n",
              "  </style>\n",
              "\n",
              "      <script>\n",
              "        const buttonEl =\n",
              "          document.querySelector('#df-900af737-0088-4c99-9494-82cf0d73188a button.colab-df-convert');\n",
              "        buttonEl.style.display =\n",
              "          google.colab.kernel.accessAllowed ? 'block' : 'none';\n",
              "\n",
              "        async function convertToInteractive(key) {\n",
              "          const element = document.querySelector('#df-900af737-0088-4c99-9494-82cf0d73188a');\n",
              "          const dataTable =\n",
              "            await google.colab.kernel.invokeFunction('convertToInteractive',\n",
              "                                                     [key], {});\n",
              "          if (!dataTable) return;\n",
              "\n",
              "          const docLinkHtml = 'Like what you see? Visit the ' +\n",
              "            '<a target=\"_blank\" href=https://colab.research.google.com/notebooks/data_table.ipynb>data table notebook</a>'\n",
              "            + ' to learn more about interactive tables.';\n",
              "          element.innerHTML = '';\n",
              "          dataTable['output_type'] = 'display_data';\n",
              "          await google.colab.output.renderOutput(dataTable, element);\n",
              "          const docLink = document.createElement('div');\n",
              "          docLink.innerHTML = docLinkHtml;\n",
              "          element.appendChild(docLink);\n",
              "        }\n",
              "      </script>\n",
              "    </div>\n",
              "  </div>\n",
              "  "
            ]
          },
          "metadata": {},
          "execution_count": 8
        }
      ]
    },
    {
      "cell_type": "markdown",
      "source": [
        "#Processar."
      ],
      "metadata": {
        "id": "A2B2THNnC7gr"
      }
    },
    {
      "cell_type": "markdown",
      "source": [
        " Existem valores duplicados na tabela sleep_day, estes valores serão excluidos. \n",
        " \n",
        "Criei duas funções para expandir os valores da coluna que marcar o dia e a hora nos data frames sleep_day e hour_intensities. A partir desta coluna foram criadas três nova colunas, uma que marca a data, outra o dia e por último a hora. E para o data frame day_activity foram criadas apenas duas coluna, data e dia_semana.\n",
        "\n",
        "Foi criado um novo data frame com uma junção entre sleep_day e day_activity chamado de merge_sleep_activity.\n",
        "\n",
        "A coluna que horiginalmente marcava a data e a hora foi excluída.\n",
        "\n",
        "\n",
        "\n"
      ],
      "metadata": {
        "id": "xMAuTWIuYRhw"
      }
    },
    {
      "cell_type": "code",
      "source": [
        "#Removendo duplicatas do dataset sleep_day\n",
        "sleep_day = sleep_day.drop_duplicates()\n",
        "\n",
        "#Verificando a integridade\n",
        "Integridade(sleep_day)"
      ],
      "metadata": {
        "id": "CnpKnZjVC7PL",
        "colab": {
          "base_uri": "https://localhost:8080/"
        },
        "outputId": "f261b245-9267-4c02-a9a9-bb8c55273369"
      },
      "execution_count": null,
      "outputs": [
        {
          "output_type": "stream",
          "name": "stdout",
          "text": [
            "Quantidade de usuários: 24\n",
            "Valors duplicados: 0\n",
            "Valores ausentes:Id                    0\n",
            "SleepDay              0\n",
            "TotalSleepRecords     0\n",
            "TotalMinutesAsleep    0\n",
            "TotalTimeInBed        0\n",
            "dtype: int64\n"
          ]
        }
      ]
    },
    {
      "cell_type": "code",
      "source": [
        "def DiasSemana(dataset, col):\n",
        "  #transformando a coluna para tipo date\n",
        "  dataset.ActivityDate = pd.to_datetime(dataset[col], format=\"%m/%d/%Y\")\n",
        "  \n",
        "  #Criando coluna dias da semana\n",
        "  dia_semana = pd.to_datetime(dataset[col]).dt.strftime('%A')\n",
        "\n",
        "  #Inserir dia da semana como uma nova coluna no dataframe\n",
        "  dataset.insert(2, 'dia_semana', dia_semana)\n",
        "\n",
        "  return dataset.head()"
      ],
      "metadata": {
        "id": "5-w2PaSJs1-B"
      },
      "execution_count": null,
      "outputs": []
    },
    {
      "cell_type": "code",
      "source": [
        "#Funcao para transformar o formato de 12 horas e 24 horas\n",
        "def convert24(str1): \n",
        "    if str1[-2:] == \"AM\" and str1[:2] == \"12\": \n",
        "        return \"00\" + str1[2:-2] \n",
        "          \n",
        "    elif str1[-2:] == \"AM\": \n",
        "        if str1[:2] == '10' or str1[:2] == '11':\n",
        "          return str1[:-2] \n",
        "        else: \n",
        "          return '0'+str1[:-2] \n",
        "    \n",
        "    elif str1[-2:] == \"PM\" and str1[:2] == \"12\": \n",
        "        return str1[:-2] \n",
        "          \n",
        "    else: \n",
        "        if ':' not in str1[:2]:\n",
        "          return str(int(str1[:2]) + 12) + str1[2:8]\n",
        "        \n",
        "        else:\n",
        "          hora =  str(int(str1[:1]) + 12) + str1[2:8] \n",
        "          return hora[:2]+':'+hora[2:]\n",
        "\n",
        "def separa(df, col):\n",
        "  df['data'], df['hora'] = df[col].str.split(' ', 1).str"
      ],
      "metadata": {
        "id": "KZUmDkWf1GXJ"
      },
      "execution_count": null,
      "outputs": []
    },
    {
      "cell_type": "code",
      "source": [
        "#Criando colunas data e hora\n",
        "separa(hour_intensities, 'ActivityHour')\n",
        "separa(sleep_day, 'SleepDay')\n",
        "\n",
        "\n",
        "#Aplicando a função em todas as linhas\n",
        "hour_intensities['hora'] = hour_intensities['hora'].apply(convert24)\n",
        "sleep_day['hora'] = sleep_day['hora'].apply(convert24)\n",
        "\n",
        "\n",
        "#renomeando coluna\n",
        "day_activity.rename(columns={'ActivityDate': 'data'}, inplace=True)\n",
        "\n",
        "#criando coluna dias da semana\n",
        "DiasSemana(hour_intensities, 'data')\n",
        "DiasSemana(sleep_day, 'data')\n",
        "DiasSemana(day_activity, 'data')\n",
        "\n",
        "\n",
        "#removendo coluna\n",
        "hour_intensities.drop(['ActivityHour'], axis=1, inplace = True)\n",
        "sleep_day.drop(['SleepDay'], axis=1, inplace = True)\n",
        "\n",
        "\n",
        "#reorganizando as colunas\n",
        "hour_intensities = hour_intensities[['data','dia_semana' ,'hora','TotalIntensity',\t'AverageIntensity']]\n",
        "sleep_day = sleep_day[['Id','data','dia_semana','TotalSleepRecords', 'TotalMinutesAsleep',\t'TotalTimeInBed']]"
      ],
      "metadata": {
        "colab": {
          "base_uri": "https://localhost:8080/"
        },
        "id": "RVsDWrTBDl99",
        "outputId": "ff05f209-e2cd-4b6e-da23-426db92d9d08"
      },
      "execution_count": null,
      "outputs": [
        {
          "output_type": "stream",
          "name": "stderr",
          "text": [
            "<ipython-input-13-11371d2045dd>:24: FutureWarning: Columnar iteration over characters will be deprecated in future releases.\n",
            "  df['data'], df['hora'] = df[col].str.split(' ', 1).str\n",
            "<ipython-input-13-11371d2045dd>:24: SettingWithCopyWarning: \n",
            "A value is trying to be set on a copy of a slice from a DataFrame.\n",
            "Try using .loc[row_indexer,col_indexer] = value instead\n",
            "\n",
            "See the caveats in the documentation: https://pandas.pydata.org/pandas-docs/stable/user_guide/indexing.html#returning-a-view-versus-a-copy\n",
            "  df['data'], df['hora'] = df[col].str.split(' ', 1).str\n",
            "<ipython-input-12-733d16e72ccc>:3: UserWarning: Pandas doesn't allow columns to be created via a new attribute name - see https://pandas.pydata.org/pandas-docs/stable/indexing.html#attribute-access\n",
            "  dataset.ActivityDate = pd.to_datetime(dataset[col], format=\"%m/%d/%Y\")\n"
          ]
        }
      ]
    },
    {
      "cell_type": "code",
      "source": [
        "#merge\n",
        "merge_sleep_activity= pd.merge(sleep_day,day_activity, on = ['Id', 'data'],  \n",
        "                  )\n",
        "merge_sleep_activity.head()"
      ],
      "metadata": {
        "colab": {
          "base_uri": "https://localhost:8080/",
          "height": 270
        },
        "id": "UskrdPSQ4Ue1",
        "outputId": "4a6f092b-5605-43a9-ef2a-8b0803b8869a"
      },
      "execution_count": null,
      "outputs": [
        {
          "output_type": "execute_result",
          "data": {
            "text/plain": [
              "           Id       data dia_semana_x  TotalSleepRecords  TotalMinutesAsleep  \\\n",
              "0  1503960366  4/12/2016      Tuesday                  1                 327   \n",
              "1  1503960366  4/13/2016    Wednesday                  2                 384   \n",
              "2  1503960366  4/15/2016       Friday                  1                 412   \n",
              "3  1503960366  4/16/2016     Saturday                  2                 340   \n",
              "4  1503960366  4/17/2016       Sunday                  1                 700   \n",
              "\n",
              "   TotalTimeInBed dia_semana_y  TotalSteps  TotalDistance  TrackerDistance  \\\n",
              "0             346      Tuesday       13162           8.50             8.50   \n",
              "1             407    Wednesday       10735           6.97             6.97   \n",
              "2             442       Friday        9762           6.28             6.28   \n",
              "3             367     Saturday       12669           8.16             8.16   \n",
              "4             712       Sunday        9705           6.48             6.48   \n",
              "\n",
              "   LoggedActivitiesDistance  VeryActiveDistance  ModeratelyActiveDistance  \\\n",
              "0                       0.0                1.88                      0.55   \n",
              "1                       0.0                1.57                      0.69   \n",
              "2                       0.0                2.14                      1.26   \n",
              "3                       0.0                2.71                      0.41   \n",
              "4                       0.0                3.19                      0.78   \n",
              "\n",
              "   LightActiveDistance  SedentaryActiveDistance  VeryActiveMinutes  \\\n",
              "0                 6.06                      0.0                 25   \n",
              "1                 4.71                      0.0                 21   \n",
              "2                 2.83                      0.0                 29   \n",
              "3                 5.04                      0.0                 36   \n",
              "4                 2.51                      0.0                 38   \n",
              "\n",
              "   FairlyActiveMinutes  LightlyActiveMinutes  SedentaryMinutes  Calories  \n",
              "0                   13                   328               728      1985  \n",
              "1                   19                   217               776      1797  \n",
              "2                   34                   209               726      1745  \n",
              "3                   10                   221               773      1863  \n",
              "4                   20                   164               539      1728  "
            ],
            "text/html": [
              "\n",
              "  <div id=\"df-5e2767f4-137d-46e8-8713-79569ee24106\">\n",
              "    <div class=\"colab-df-container\">\n",
              "      <div>\n",
              "<style scoped>\n",
              "    .dataframe tbody tr th:only-of-type {\n",
              "        vertical-align: middle;\n",
              "    }\n",
              "\n",
              "    .dataframe tbody tr th {\n",
              "        vertical-align: top;\n",
              "    }\n",
              "\n",
              "    .dataframe thead th {\n",
              "        text-align: right;\n",
              "    }\n",
              "</style>\n",
              "<table border=\"1\" class=\"dataframe\">\n",
              "  <thead>\n",
              "    <tr style=\"text-align: right;\">\n",
              "      <th></th>\n",
              "      <th>Id</th>\n",
              "      <th>data</th>\n",
              "      <th>dia_semana_x</th>\n",
              "      <th>TotalSleepRecords</th>\n",
              "      <th>TotalMinutesAsleep</th>\n",
              "      <th>TotalTimeInBed</th>\n",
              "      <th>dia_semana_y</th>\n",
              "      <th>TotalSteps</th>\n",
              "      <th>TotalDistance</th>\n",
              "      <th>TrackerDistance</th>\n",
              "      <th>LoggedActivitiesDistance</th>\n",
              "      <th>VeryActiveDistance</th>\n",
              "      <th>ModeratelyActiveDistance</th>\n",
              "      <th>LightActiveDistance</th>\n",
              "      <th>SedentaryActiveDistance</th>\n",
              "      <th>VeryActiveMinutes</th>\n",
              "      <th>FairlyActiveMinutes</th>\n",
              "      <th>LightlyActiveMinutes</th>\n",
              "      <th>SedentaryMinutes</th>\n",
              "      <th>Calories</th>\n",
              "    </tr>\n",
              "  </thead>\n",
              "  <tbody>\n",
              "    <tr>\n",
              "      <th>0</th>\n",
              "      <td>1503960366</td>\n",
              "      <td>4/12/2016</td>\n",
              "      <td>Tuesday</td>\n",
              "      <td>1</td>\n",
              "      <td>327</td>\n",
              "      <td>346</td>\n",
              "      <td>Tuesday</td>\n",
              "      <td>13162</td>\n",
              "      <td>8.50</td>\n",
              "      <td>8.50</td>\n",
              "      <td>0.0</td>\n",
              "      <td>1.88</td>\n",
              "      <td>0.55</td>\n",
              "      <td>6.06</td>\n",
              "      <td>0.0</td>\n",
              "      <td>25</td>\n",
              "      <td>13</td>\n",
              "      <td>328</td>\n",
              "      <td>728</td>\n",
              "      <td>1985</td>\n",
              "    </tr>\n",
              "    <tr>\n",
              "      <th>1</th>\n",
              "      <td>1503960366</td>\n",
              "      <td>4/13/2016</td>\n",
              "      <td>Wednesday</td>\n",
              "      <td>2</td>\n",
              "      <td>384</td>\n",
              "      <td>407</td>\n",
              "      <td>Wednesday</td>\n",
              "      <td>10735</td>\n",
              "      <td>6.97</td>\n",
              "      <td>6.97</td>\n",
              "      <td>0.0</td>\n",
              "      <td>1.57</td>\n",
              "      <td>0.69</td>\n",
              "      <td>4.71</td>\n",
              "      <td>0.0</td>\n",
              "      <td>21</td>\n",
              "      <td>19</td>\n",
              "      <td>217</td>\n",
              "      <td>776</td>\n",
              "      <td>1797</td>\n",
              "    </tr>\n",
              "    <tr>\n",
              "      <th>2</th>\n",
              "      <td>1503960366</td>\n",
              "      <td>4/15/2016</td>\n",
              "      <td>Friday</td>\n",
              "      <td>1</td>\n",
              "      <td>412</td>\n",
              "      <td>442</td>\n",
              "      <td>Friday</td>\n",
              "      <td>9762</td>\n",
              "      <td>6.28</td>\n",
              "      <td>6.28</td>\n",
              "      <td>0.0</td>\n",
              "      <td>2.14</td>\n",
              "      <td>1.26</td>\n",
              "      <td>2.83</td>\n",
              "      <td>0.0</td>\n",
              "      <td>29</td>\n",
              "      <td>34</td>\n",
              "      <td>209</td>\n",
              "      <td>726</td>\n",
              "      <td>1745</td>\n",
              "    </tr>\n",
              "    <tr>\n",
              "      <th>3</th>\n",
              "      <td>1503960366</td>\n",
              "      <td>4/16/2016</td>\n",
              "      <td>Saturday</td>\n",
              "      <td>2</td>\n",
              "      <td>340</td>\n",
              "      <td>367</td>\n",
              "      <td>Saturday</td>\n",
              "      <td>12669</td>\n",
              "      <td>8.16</td>\n",
              "      <td>8.16</td>\n",
              "      <td>0.0</td>\n",
              "      <td>2.71</td>\n",
              "      <td>0.41</td>\n",
              "      <td>5.04</td>\n",
              "      <td>0.0</td>\n",
              "      <td>36</td>\n",
              "      <td>10</td>\n",
              "      <td>221</td>\n",
              "      <td>773</td>\n",
              "      <td>1863</td>\n",
              "    </tr>\n",
              "    <tr>\n",
              "      <th>4</th>\n",
              "      <td>1503960366</td>\n",
              "      <td>4/17/2016</td>\n",
              "      <td>Sunday</td>\n",
              "      <td>1</td>\n",
              "      <td>700</td>\n",
              "      <td>712</td>\n",
              "      <td>Sunday</td>\n",
              "      <td>9705</td>\n",
              "      <td>6.48</td>\n",
              "      <td>6.48</td>\n",
              "      <td>0.0</td>\n",
              "      <td>3.19</td>\n",
              "      <td>0.78</td>\n",
              "      <td>2.51</td>\n",
              "      <td>0.0</td>\n",
              "      <td>38</td>\n",
              "      <td>20</td>\n",
              "      <td>164</td>\n",
              "      <td>539</td>\n",
              "      <td>1728</td>\n",
              "    </tr>\n",
              "  </tbody>\n",
              "</table>\n",
              "</div>\n",
              "      <button class=\"colab-df-convert\" onclick=\"convertToInteractive('df-5e2767f4-137d-46e8-8713-79569ee24106')\"\n",
              "              title=\"Convert this dataframe to an interactive table.\"\n",
              "              style=\"display:none;\">\n",
              "        \n",
              "  <svg xmlns=\"http://www.w3.org/2000/svg\" height=\"24px\"viewBox=\"0 0 24 24\"\n",
              "       width=\"24px\">\n",
              "    <path d=\"M0 0h24v24H0V0z\" fill=\"none\"/>\n",
              "    <path d=\"M18.56 5.44l.94 2.06.94-2.06 2.06-.94-2.06-.94-.94-2.06-.94 2.06-2.06.94zm-11 1L8.5 8.5l.94-2.06 2.06-.94-2.06-.94L8.5 2.5l-.94 2.06-2.06.94zm10 10l.94 2.06.94-2.06 2.06-.94-2.06-.94-.94-2.06-.94 2.06-2.06.94z\"/><path d=\"M17.41 7.96l-1.37-1.37c-.4-.4-.92-.59-1.43-.59-.52 0-1.04.2-1.43.59L10.3 9.45l-7.72 7.72c-.78.78-.78 2.05 0 2.83L4 21.41c.39.39.9.59 1.41.59.51 0 1.02-.2 1.41-.59l7.78-7.78 2.81-2.81c.8-.78.8-2.07 0-2.86zM5.41 20L4 18.59l7.72-7.72 1.47 1.35L5.41 20z\"/>\n",
              "  </svg>\n",
              "      </button>\n",
              "      \n",
              "  <style>\n",
              "    .colab-df-container {\n",
              "      display:flex;\n",
              "      flex-wrap:wrap;\n",
              "      gap: 12px;\n",
              "    }\n",
              "\n",
              "    .colab-df-convert {\n",
              "      background-color: #E8F0FE;\n",
              "      border: none;\n",
              "      border-radius: 50%;\n",
              "      cursor: pointer;\n",
              "      display: none;\n",
              "      fill: #1967D2;\n",
              "      height: 32px;\n",
              "      padding: 0 0 0 0;\n",
              "      width: 32px;\n",
              "    }\n",
              "\n",
              "    .colab-df-convert:hover {\n",
              "      background-color: #E2EBFA;\n",
              "      box-shadow: 0px 1px 2px rgba(60, 64, 67, 0.3), 0px 1px 3px 1px rgba(60, 64, 67, 0.15);\n",
              "      fill: #174EA6;\n",
              "    }\n",
              "\n",
              "    [theme=dark] .colab-df-convert {\n",
              "      background-color: #3B4455;\n",
              "      fill: #D2E3FC;\n",
              "    }\n",
              "\n",
              "    [theme=dark] .colab-df-convert:hover {\n",
              "      background-color: #434B5C;\n",
              "      box-shadow: 0px 1px 3px 1px rgba(0, 0, 0, 0.15);\n",
              "      filter: drop-shadow(0px 1px 2px rgba(0, 0, 0, 0.3));\n",
              "      fill: #FFFFFF;\n",
              "    }\n",
              "  </style>\n",
              "\n",
              "      <script>\n",
              "        const buttonEl =\n",
              "          document.querySelector('#df-5e2767f4-137d-46e8-8713-79569ee24106 button.colab-df-convert');\n",
              "        buttonEl.style.display =\n",
              "          google.colab.kernel.accessAllowed ? 'block' : 'none';\n",
              "\n",
              "        async function convertToInteractive(key) {\n",
              "          const element = document.querySelector('#df-5e2767f4-137d-46e8-8713-79569ee24106');\n",
              "          const dataTable =\n",
              "            await google.colab.kernel.invokeFunction('convertToInteractive',\n",
              "                                                     [key], {});\n",
              "          if (!dataTable) return;\n",
              "\n",
              "          const docLinkHtml = 'Like what you see? Visit the ' +\n",
              "            '<a target=\"_blank\" href=https://colab.research.google.com/notebooks/data_table.ipynb>data table notebook</a>'\n",
              "            + ' to learn more about interactive tables.';\n",
              "          element.innerHTML = '';\n",
              "          dataTable['output_type'] = 'display_data';\n",
              "          await google.colab.output.renderOutput(dataTable, element);\n",
              "          const docLink = document.createElement('div');\n",
              "          docLink.innerHTML = docLinkHtml;\n",
              "          element.appendChild(docLink);\n",
              "        }\n",
              "      </script>\n",
              "    </div>\n",
              "  </div>\n",
              "  "
            ]
          },
          "metadata": {},
          "execution_count": 15
        }
      ]
    },
    {
      "cell_type": "markdown",
      "source": [
        "#Analisar."
      ],
      "metadata": {
        "id": "bvTSs9iQQx1N"
      }
    },
    {
      "cell_type": "code",
      "source": [
        "#cores da marca:\n",
        "bella_colors = ['#000000', '#fe8f77', '#eed9f8']\n",
        "\n",
        "#Subindo fonte que será utilizada\n",
        "import matplotlib.font_manager as fm\n",
        "fprop = fm.FontProperties(fname='/content/Poppins-Bold.ttf')"
      ],
      "metadata": {
        "id": "qUEPYIkkLZ6w"
      },
      "execution_count": null,
      "outputs": []
    },
    {
      "cell_type": "markdown",
      "source": [
        "### Como os usuários dormem?"
      ],
      "metadata": {
        "id": "rvr0jt1w6sgc"
      }
    },
    {
      "cell_type": "code",
      "source": [
        "#nova coluna com a quantidade de tempo que os usuarios ficam acordados na cama\n",
        "sleep_day['JustBed'] = sleep_day['TotalTimeInBed']-sleep_day['TotalMinutesAsleep']"
      ],
      "metadata": {
        "id": "VBQ367xKDrcZ"
      },
      "execution_count": null,
      "outputs": []
    },
    {
      "cell_type": "code",
      "source": [
        "sleep_day.head()"
      ],
      "metadata": {
        "colab": {
          "base_uri": "https://localhost:8080/",
          "height": 206
        },
        "id": "r9Q0Nd4KK7aP",
        "outputId": "a68c24ec-aabb-4598-d0c2-21e5bb28f87d"
      },
      "execution_count": null,
      "outputs": [
        {
          "output_type": "execute_result",
          "data": {
            "text/plain": [
              "           Id       data dia_semana  TotalSleepRecords  TotalMinutesAsleep  \\\n",
              "0  1503960366  4/12/2016    Tuesday                  1                 327   \n",
              "1  1503960366  4/13/2016  Wednesday                  2                 384   \n",
              "2  1503960366  4/15/2016     Friday                  1                 412   \n",
              "3  1503960366  4/16/2016   Saturday                  2                 340   \n",
              "4  1503960366  4/17/2016     Sunday                  1                 700   \n",
              "\n",
              "   TotalTimeInBed  JustBed  \n",
              "0             346       19  \n",
              "1             407       23  \n",
              "2             442       30  \n",
              "3             367       27  \n",
              "4             712       12  "
            ],
            "text/html": [
              "\n",
              "  <div id=\"df-641dcfce-5e7f-49c6-98a3-7154bc8788c9\">\n",
              "    <div class=\"colab-df-container\">\n",
              "      <div>\n",
              "<style scoped>\n",
              "    .dataframe tbody tr th:only-of-type {\n",
              "        vertical-align: middle;\n",
              "    }\n",
              "\n",
              "    .dataframe tbody tr th {\n",
              "        vertical-align: top;\n",
              "    }\n",
              "\n",
              "    .dataframe thead th {\n",
              "        text-align: right;\n",
              "    }\n",
              "</style>\n",
              "<table border=\"1\" class=\"dataframe\">\n",
              "  <thead>\n",
              "    <tr style=\"text-align: right;\">\n",
              "      <th></th>\n",
              "      <th>Id</th>\n",
              "      <th>data</th>\n",
              "      <th>dia_semana</th>\n",
              "      <th>TotalSleepRecords</th>\n",
              "      <th>TotalMinutesAsleep</th>\n",
              "      <th>TotalTimeInBed</th>\n",
              "      <th>JustBed</th>\n",
              "    </tr>\n",
              "  </thead>\n",
              "  <tbody>\n",
              "    <tr>\n",
              "      <th>0</th>\n",
              "      <td>1503960366</td>\n",
              "      <td>4/12/2016</td>\n",
              "      <td>Tuesday</td>\n",
              "      <td>1</td>\n",
              "      <td>327</td>\n",
              "      <td>346</td>\n",
              "      <td>19</td>\n",
              "    </tr>\n",
              "    <tr>\n",
              "      <th>1</th>\n",
              "      <td>1503960366</td>\n",
              "      <td>4/13/2016</td>\n",
              "      <td>Wednesday</td>\n",
              "      <td>2</td>\n",
              "      <td>384</td>\n",
              "      <td>407</td>\n",
              "      <td>23</td>\n",
              "    </tr>\n",
              "    <tr>\n",
              "      <th>2</th>\n",
              "      <td>1503960366</td>\n",
              "      <td>4/15/2016</td>\n",
              "      <td>Friday</td>\n",
              "      <td>1</td>\n",
              "      <td>412</td>\n",
              "      <td>442</td>\n",
              "      <td>30</td>\n",
              "    </tr>\n",
              "    <tr>\n",
              "      <th>3</th>\n",
              "      <td>1503960366</td>\n",
              "      <td>4/16/2016</td>\n",
              "      <td>Saturday</td>\n",
              "      <td>2</td>\n",
              "      <td>340</td>\n",
              "      <td>367</td>\n",
              "      <td>27</td>\n",
              "    </tr>\n",
              "    <tr>\n",
              "      <th>4</th>\n",
              "      <td>1503960366</td>\n",
              "      <td>4/17/2016</td>\n",
              "      <td>Sunday</td>\n",
              "      <td>1</td>\n",
              "      <td>700</td>\n",
              "      <td>712</td>\n",
              "      <td>12</td>\n",
              "    </tr>\n",
              "  </tbody>\n",
              "</table>\n",
              "</div>\n",
              "      <button class=\"colab-df-convert\" onclick=\"convertToInteractive('df-641dcfce-5e7f-49c6-98a3-7154bc8788c9')\"\n",
              "              title=\"Convert this dataframe to an interactive table.\"\n",
              "              style=\"display:none;\">\n",
              "        \n",
              "  <svg xmlns=\"http://www.w3.org/2000/svg\" height=\"24px\"viewBox=\"0 0 24 24\"\n",
              "       width=\"24px\">\n",
              "    <path d=\"M0 0h24v24H0V0z\" fill=\"none\"/>\n",
              "    <path d=\"M18.56 5.44l.94 2.06.94-2.06 2.06-.94-2.06-.94-.94-2.06-.94 2.06-2.06.94zm-11 1L8.5 8.5l.94-2.06 2.06-.94-2.06-.94L8.5 2.5l-.94 2.06-2.06.94zm10 10l.94 2.06.94-2.06 2.06-.94-2.06-.94-.94-2.06-.94 2.06-2.06.94z\"/><path d=\"M17.41 7.96l-1.37-1.37c-.4-.4-.92-.59-1.43-.59-.52 0-1.04.2-1.43.59L10.3 9.45l-7.72 7.72c-.78.78-.78 2.05 0 2.83L4 21.41c.39.39.9.59 1.41.59.51 0 1.02-.2 1.41-.59l7.78-7.78 2.81-2.81c.8-.78.8-2.07 0-2.86zM5.41 20L4 18.59l7.72-7.72 1.47 1.35L5.41 20z\"/>\n",
              "  </svg>\n",
              "      </button>\n",
              "      \n",
              "  <style>\n",
              "    .colab-df-container {\n",
              "      display:flex;\n",
              "      flex-wrap:wrap;\n",
              "      gap: 12px;\n",
              "    }\n",
              "\n",
              "    .colab-df-convert {\n",
              "      background-color: #E8F0FE;\n",
              "      border: none;\n",
              "      border-radius: 50%;\n",
              "      cursor: pointer;\n",
              "      display: none;\n",
              "      fill: #1967D2;\n",
              "      height: 32px;\n",
              "      padding: 0 0 0 0;\n",
              "      width: 32px;\n",
              "    }\n",
              "\n",
              "    .colab-df-convert:hover {\n",
              "      background-color: #E2EBFA;\n",
              "      box-shadow: 0px 1px 2px rgba(60, 64, 67, 0.3), 0px 1px 3px 1px rgba(60, 64, 67, 0.15);\n",
              "      fill: #174EA6;\n",
              "    }\n",
              "\n",
              "    [theme=dark] .colab-df-convert {\n",
              "      background-color: #3B4455;\n",
              "      fill: #D2E3FC;\n",
              "    }\n",
              "\n",
              "    [theme=dark] .colab-df-convert:hover {\n",
              "      background-color: #434B5C;\n",
              "      box-shadow: 0px 1px 3px 1px rgba(0, 0, 0, 0.15);\n",
              "      filter: drop-shadow(0px 1px 2px rgba(0, 0, 0, 0.3));\n",
              "      fill: #FFFFFF;\n",
              "    }\n",
              "  </style>\n",
              "\n",
              "      <script>\n",
              "        const buttonEl =\n",
              "          document.querySelector('#df-641dcfce-5e7f-49c6-98a3-7154bc8788c9 button.colab-df-convert');\n",
              "        buttonEl.style.display =\n",
              "          google.colab.kernel.accessAllowed ? 'block' : 'none';\n",
              "\n",
              "        async function convertToInteractive(key) {\n",
              "          const element = document.querySelector('#df-641dcfce-5e7f-49c6-98a3-7154bc8788c9');\n",
              "          const dataTable =\n",
              "            await google.colab.kernel.invokeFunction('convertToInteractive',\n",
              "                                                     [key], {});\n",
              "          if (!dataTable) return;\n",
              "\n",
              "          const docLinkHtml = 'Like what you see? Visit the ' +\n",
              "            '<a target=\"_blank\" href=https://colab.research.google.com/notebooks/data_table.ipynb>data table notebook</a>'\n",
              "            + ' to learn more about interactive tables.';\n",
              "          element.innerHTML = '';\n",
              "          dataTable['output_type'] = 'display_data';\n",
              "          await google.colab.output.renderOutput(dataTable, element);\n",
              "          const docLink = document.createElement('div');\n",
              "          docLink.innerHTML = docLinkHtml;\n",
              "          element.appendChild(docLink);\n",
              "        }\n",
              "      </script>\n",
              "    </div>\n",
              "  </div>\n",
              "  "
            ]
          },
          "metadata": {},
          "execution_count": 18
        }
      ]
    },
    {
      "cell_type": "code",
      "source": [
        "sleep_day.describe()"
      ],
      "metadata": {
        "colab": {
          "base_uri": "https://localhost:8080/",
          "height": 300
        },
        "id": "QR8GtVqSRgXK",
        "outputId": "4e307587-f1fb-4041-caa4-e565136a4eea"
      },
      "execution_count": null,
      "outputs": [
        {
          "output_type": "execute_result",
          "data": {
            "text/plain": [
              "                 Id  TotalSleepRecords  TotalMinutesAsleep  TotalTimeInBed  \\\n",
              "count  4.100000e+02         410.000000          410.000000      410.000000   \n",
              "mean   4.994963e+09           1.119512          419.173171      458.482927   \n",
              "std    2.060863e+09           0.346636          118.635918      127.455140   \n",
              "min    1.503960e+09           1.000000           58.000000       61.000000   \n",
              "25%    3.977334e+09           1.000000          361.000000      403.750000   \n",
              "50%    4.702922e+09           1.000000          432.500000      463.000000   \n",
              "75%    6.962181e+09           1.000000          490.000000      526.000000   \n",
              "max    8.792010e+09           3.000000          796.000000      961.000000   \n",
              "\n",
              "          JustBed  \n",
              "count  410.000000  \n",
              "mean    39.309756  \n",
              "std     46.710932  \n",
              "min      0.000000  \n",
              "25%     17.000000  \n",
              "50%     25.500000  \n",
              "75%     40.000000  \n",
              "max    371.000000  "
            ],
            "text/html": [
              "\n",
              "  <div id=\"df-5ac3e7de-56de-4154-8d02-a3fce2a2fc3b\">\n",
              "    <div class=\"colab-df-container\">\n",
              "      <div>\n",
              "<style scoped>\n",
              "    .dataframe tbody tr th:only-of-type {\n",
              "        vertical-align: middle;\n",
              "    }\n",
              "\n",
              "    .dataframe tbody tr th {\n",
              "        vertical-align: top;\n",
              "    }\n",
              "\n",
              "    .dataframe thead th {\n",
              "        text-align: right;\n",
              "    }\n",
              "</style>\n",
              "<table border=\"1\" class=\"dataframe\">\n",
              "  <thead>\n",
              "    <tr style=\"text-align: right;\">\n",
              "      <th></th>\n",
              "      <th>Id</th>\n",
              "      <th>TotalSleepRecords</th>\n",
              "      <th>TotalMinutesAsleep</th>\n",
              "      <th>TotalTimeInBed</th>\n",
              "      <th>JustBed</th>\n",
              "    </tr>\n",
              "  </thead>\n",
              "  <tbody>\n",
              "    <tr>\n",
              "      <th>count</th>\n",
              "      <td>4.100000e+02</td>\n",
              "      <td>410.000000</td>\n",
              "      <td>410.000000</td>\n",
              "      <td>410.000000</td>\n",
              "      <td>410.000000</td>\n",
              "    </tr>\n",
              "    <tr>\n",
              "      <th>mean</th>\n",
              "      <td>4.994963e+09</td>\n",
              "      <td>1.119512</td>\n",
              "      <td>419.173171</td>\n",
              "      <td>458.482927</td>\n",
              "      <td>39.309756</td>\n",
              "    </tr>\n",
              "    <tr>\n",
              "      <th>std</th>\n",
              "      <td>2.060863e+09</td>\n",
              "      <td>0.346636</td>\n",
              "      <td>118.635918</td>\n",
              "      <td>127.455140</td>\n",
              "      <td>46.710932</td>\n",
              "    </tr>\n",
              "    <tr>\n",
              "      <th>min</th>\n",
              "      <td>1.503960e+09</td>\n",
              "      <td>1.000000</td>\n",
              "      <td>58.000000</td>\n",
              "      <td>61.000000</td>\n",
              "      <td>0.000000</td>\n",
              "    </tr>\n",
              "    <tr>\n",
              "      <th>25%</th>\n",
              "      <td>3.977334e+09</td>\n",
              "      <td>1.000000</td>\n",
              "      <td>361.000000</td>\n",
              "      <td>403.750000</td>\n",
              "      <td>17.000000</td>\n",
              "    </tr>\n",
              "    <tr>\n",
              "      <th>50%</th>\n",
              "      <td>4.702922e+09</td>\n",
              "      <td>1.000000</td>\n",
              "      <td>432.500000</td>\n",
              "      <td>463.000000</td>\n",
              "      <td>25.500000</td>\n",
              "    </tr>\n",
              "    <tr>\n",
              "      <th>75%</th>\n",
              "      <td>6.962181e+09</td>\n",
              "      <td>1.000000</td>\n",
              "      <td>490.000000</td>\n",
              "      <td>526.000000</td>\n",
              "      <td>40.000000</td>\n",
              "    </tr>\n",
              "    <tr>\n",
              "      <th>max</th>\n",
              "      <td>8.792010e+09</td>\n",
              "      <td>3.000000</td>\n",
              "      <td>796.000000</td>\n",
              "      <td>961.000000</td>\n",
              "      <td>371.000000</td>\n",
              "    </tr>\n",
              "  </tbody>\n",
              "</table>\n",
              "</div>\n",
              "      <button class=\"colab-df-convert\" onclick=\"convertToInteractive('df-5ac3e7de-56de-4154-8d02-a3fce2a2fc3b')\"\n",
              "              title=\"Convert this dataframe to an interactive table.\"\n",
              "              style=\"display:none;\">\n",
              "        \n",
              "  <svg xmlns=\"http://www.w3.org/2000/svg\" height=\"24px\"viewBox=\"0 0 24 24\"\n",
              "       width=\"24px\">\n",
              "    <path d=\"M0 0h24v24H0V0z\" fill=\"none\"/>\n",
              "    <path d=\"M18.56 5.44l.94 2.06.94-2.06 2.06-.94-2.06-.94-.94-2.06-.94 2.06-2.06.94zm-11 1L8.5 8.5l.94-2.06 2.06-.94-2.06-.94L8.5 2.5l-.94 2.06-2.06.94zm10 10l.94 2.06.94-2.06 2.06-.94-2.06-.94-.94-2.06-.94 2.06-2.06.94z\"/><path d=\"M17.41 7.96l-1.37-1.37c-.4-.4-.92-.59-1.43-.59-.52 0-1.04.2-1.43.59L10.3 9.45l-7.72 7.72c-.78.78-.78 2.05 0 2.83L4 21.41c.39.39.9.59 1.41.59.51 0 1.02-.2 1.41-.59l7.78-7.78 2.81-2.81c.8-.78.8-2.07 0-2.86zM5.41 20L4 18.59l7.72-7.72 1.47 1.35L5.41 20z\"/>\n",
              "  </svg>\n",
              "      </button>\n",
              "      \n",
              "  <style>\n",
              "    .colab-df-container {\n",
              "      display:flex;\n",
              "      flex-wrap:wrap;\n",
              "      gap: 12px;\n",
              "    }\n",
              "\n",
              "    .colab-df-convert {\n",
              "      background-color: #E8F0FE;\n",
              "      border: none;\n",
              "      border-radius: 50%;\n",
              "      cursor: pointer;\n",
              "      display: none;\n",
              "      fill: #1967D2;\n",
              "      height: 32px;\n",
              "      padding: 0 0 0 0;\n",
              "      width: 32px;\n",
              "    }\n",
              "\n",
              "    .colab-df-convert:hover {\n",
              "      background-color: #E2EBFA;\n",
              "      box-shadow: 0px 1px 2px rgba(60, 64, 67, 0.3), 0px 1px 3px 1px rgba(60, 64, 67, 0.15);\n",
              "      fill: #174EA6;\n",
              "    }\n",
              "\n",
              "    [theme=dark] .colab-df-convert {\n",
              "      background-color: #3B4455;\n",
              "      fill: #D2E3FC;\n",
              "    }\n",
              "\n",
              "    [theme=dark] .colab-df-convert:hover {\n",
              "      background-color: #434B5C;\n",
              "      box-shadow: 0px 1px 3px 1px rgba(0, 0, 0, 0.15);\n",
              "      filter: drop-shadow(0px 1px 2px rgba(0, 0, 0, 0.3));\n",
              "      fill: #FFFFFF;\n",
              "    }\n",
              "  </style>\n",
              "\n",
              "      <script>\n",
              "        const buttonEl =\n",
              "          document.querySelector('#df-5ac3e7de-56de-4154-8d02-a3fce2a2fc3b button.colab-df-convert');\n",
              "        buttonEl.style.display =\n",
              "          google.colab.kernel.accessAllowed ? 'block' : 'none';\n",
              "\n",
              "        async function convertToInteractive(key) {\n",
              "          const element = document.querySelector('#df-5ac3e7de-56de-4154-8d02-a3fce2a2fc3b');\n",
              "          const dataTable =\n",
              "            await google.colab.kernel.invokeFunction('convertToInteractive',\n",
              "                                                     [key], {});\n",
              "          if (!dataTable) return;\n",
              "\n",
              "          const docLinkHtml = 'Like what you see? Visit the ' +\n",
              "            '<a target=\"_blank\" href=https://colab.research.google.com/notebooks/data_table.ipynb>data table notebook</a>'\n",
              "            + ' to learn more about interactive tables.';\n",
              "          element.innerHTML = '';\n",
              "          dataTable['output_type'] = 'display_data';\n",
              "          await google.colab.output.renderOutput(dataTable, element);\n",
              "          const docLink = document.createElement('div');\n",
              "          docLink.innerHTML = docLinkHtml;\n",
              "          element.appendChild(docLink);\n",
              "        }\n",
              "      </script>\n",
              "    </div>\n",
              "  </div>\n",
              "  "
            ]
          },
          "metadata": {},
          "execution_count": 19
        }
      ]
    },
    {
      "cell_type": "code",
      "source": [
        "#mediana  \n",
        "sleep_day.TotalMinutesAsleep.median()"
      ],
      "metadata": {
        "colab": {
          "base_uri": "https://localhost:8080/"
        },
        "id": "9FVyfVyOnRFR",
        "outputId": "711cce69-f645-4882-cf6d-3b143dc0ebdc"
      },
      "execution_count": null,
      "outputs": [
        {
          "output_type": "execute_result",
          "data": {
            "text/plain": [
              "432.5"
            ]
          },
          "metadata": {},
          "execution_count": 20
        }
      ]
    },
    {
      "cell_type": "markdown",
      "source": [
        "Os usuários analisados apresentaram uma média de 419,17 minutos dormidos e uma mediana de 432,5 minutos dormidos, o que signica que em média e mediana os usuários estão preenchendo o minimo necessário de horas de sono por dia."
      ],
      "metadata": {
        "id": "WNuvb4taY_At"
      }
    },
    {
      "cell_type": "code",
      "source": [
        "#Agrupamento por dia da média total de dias dormidos.\n",
        "grp_sleep_day = sleep_day.groupby(['data']).mean()\n",
        "\n",
        "#Existe uma inconsistencia na ordem das datas\n",
        "datas = grp_sleep_day.iloc[20:23]\n",
        "\n",
        "#removendo \n",
        "grp_sleep_day.drop(['5/10/2016', '5/11/2016', '5/12/2016'],\n",
        "                   inplace=True)\n",
        "\n",
        "#Adiciaonado\n",
        "grp_sleep_day = grp_sleep_day.append(datas)\n",
        "\n",
        "grp_sleep_day.tail()"
      ],
      "metadata": {
        "colab": {
          "base_uri": "https://localhost:8080/",
          "height": 238
        },
        "id": "IU62alnWOIvi",
        "outputId": "eeba9086-68ae-4776-dfd9-b72d75affcdd"
      },
      "execution_count": null,
      "outputs": [
        {
          "output_type": "execute_result",
          "data": {
            "text/plain": [
              "                     Id  TotalSleepRecords  TotalMinutesAsleep  \\\n",
              "data                                                             \n",
              "5/8/2016   4.641623e+09           1.142857          442.857143   \n",
              "5/9/2016   5.044086e+09           1.000000          416.181818   \n",
              "5/10/2016  4.654644e+09           1.000000          407.416667   \n",
              "5/11/2016  4.994948e+09           1.000000          438.545455   \n",
              "5/12/2016  5.434394e+09           1.000000          442.375000   \n",
              "\n",
              "           TotalTimeInBed    JustBed  \n",
              "data                                  \n",
              "5/8/2016       485.071429  42.214286  \n",
              "5/9/2016       442.636364  26.454545  \n",
              "5/10/2016      446.250000  38.833333  \n",
              "5/11/2016      463.545455  25.000000  \n",
              "5/12/2016      470.250000  27.875000  "
            ],
            "text/html": [
              "\n",
              "  <div id=\"df-63df7bd1-b76a-40d5-a401-a41591dca447\">\n",
              "    <div class=\"colab-df-container\">\n",
              "      <div>\n",
              "<style scoped>\n",
              "    .dataframe tbody tr th:only-of-type {\n",
              "        vertical-align: middle;\n",
              "    }\n",
              "\n",
              "    .dataframe tbody tr th {\n",
              "        vertical-align: top;\n",
              "    }\n",
              "\n",
              "    .dataframe thead th {\n",
              "        text-align: right;\n",
              "    }\n",
              "</style>\n",
              "<table border=\"1\" class=\"dataframe\">\n",
              "  <thead>\n",
              "    <tr style=\"text-align: right;\">\n",
              "      <th></th>\n",
              "      <th>Id</th>\n",
              "      <th>TotalSleepRecords</th>\n",
              "      <th>TotalMinutesAsleep</th>\n",
              "      <th>TotalTimeInBed</th>\n",
              "      <th>JustBed</th>\n",
              "    </tr>\n",
              "    <tr>\n",
              "      <th>data</th>\n",
              "      <th></th>\n",
              "      <th></th>\n",
              "      <th></th>\n",
              "      <th></th>\n",
              "      <th></th>\n",
              "    </tr>\n",
              "  </thead>\n",
              "  <tbody>\n",
              "    <tr>\n",
              "      <th>5/8/2016</th>\n",
              "      <td>4.641623e+09</td>\n",
              "      <td>1.142857</td>\n",
              "      <td>442.857143</td>\n",
              "      <td>485.071429</td>\n",
              "      <td>42.214286</td>\n",
              "    </tr>\n",
              "    <tr>\n",
              "      <th>5/9/2016</th>\n",
              "      <td>5.044086e+09</td>\n",
              "      <td>1.000000</td>\n",
              "      <td>416.181818</td>\n",
              "      <td>442.636364</td>\n",
              "      <td>26.454545</td>\n",
              "    </tr>\n",
              "    <tr>\n",
              "      <th>5/10/2016</th>\n",
              "      <td>4.654644e+09</td>\n",
              "      <td>1.000000</td>\n",
              "      <td>407.416667</td>\n",
              "      <td>446.250000</td>\n",
              "      <td>38.833333</td>\n",
              "    </tr>\n",
              "    <tr>\n",
              "      <th>5/11/2016</th>\n",
              "      <td>4.994948e+09</td>\n",
              "      <td>1.000000</td>\n",
              "      <td>438.545455</td>\n",
              "      <td>463.545455</td>\n",
              "      <td>25.000000</td>\n",
              "    </tr>\n",
              "    <tr>\n",
              "      <th>5/12/2016</th>\n",
              "      <td>5.434394e+09</td>\n",
              "      <td>1.000000</td>\n",
              "      <td>442.375000</td>\n",
              "      <td>470.250000</td>\n",
              "      <td>27.875000</td>\n",
              "    </tr>\n",
              "  </tbody>\n",
              "</table>\n",
              "</div>\n",
              "      <button class=\"colab-df-convert\" onclick=\"convertToInteractive('df-63df7bd1-b76a-40d5-a401-a41591dca447')\"\n",
              "              title=\"Convert this dataframe to an interactive table.\"\n",
              "              style=\"display:none;\">\n",
              "        \n",
              "  <svg xmlns=\"http://www.w3.org/2000/svg\" height=\"24px\"viewBox=\"0 0 24 24\"\n",
              "       width=\"24px\">\n",
              "    <path d=\"M0 0h24v24H0V0z\" fill=\"none\"/>\n",
              "    <path d=\"M18.56 5.44l.94 2.06.94-2.06 2.06-.94-2.06-.94-.94-2.06-.94 2.06-2.06.94zm-11 1L8.5 8.5l.94-2.06 2.06-.94-2.06-.94L8.5 2.5l-.94 2.06-2.06.94zm10 10l.94 2.06.94-2.06 2.06-.94-2.06-.94-.94-2.06-.94 2.06-2.06.94z\"/><path d=\"M17.41 7.96l-1.37-1.37c-.4-.4-.92-.59-1.43-.59-.52 0-1.04.2-1.43.59L10.3 9.45l-7.72 7.72c-.78.78-.78 2.05 0 2.83L4 21.41c.39.39.9.59 1.41.59.51 0 1.02-.2 1.41-.59l7.78-7.78 2.81-2.81c.8-.78.8-2.07 0-2.86zM5.41 20L4 18.59l7.72-7.72 1.47 1.35L5.41 20z\"/>\n",
              "  </svg>\n",
              "      </button>\n",
              "      \n",
              "  <style>\n",
              "    .colab-df-container {\n",
              "      display:flex;\n",
              "      flex-wrap:wrap;\n",
              "      gap: 12px;\n",
              "    }\n",
              "\n",
              "    .colab-df-convert {\n",
              "      background-color: #E8F0FE;\n",
              "      border: none;\n",
              "      border-radius: 50%;\n",
              "      cursor: pointer;\n",
              "      display: none;\n",
              "      fill: #1967D2;\n",
              "      height: 32px;\n",
              "      padding: 0 0 0 0;\n",
              "      width: 32px;\n",
              "    }\n",
              "\n",
              "    .colab-df-convert:hover {\n",
              "      background-color: #E2EBFA;\n",
              "      box-shadow: 0px 1px 2px rgba(60, 64, 67, 0.3), 0px 1px 3px 1px rgba(60, 64, 67, 0.15);\n",
              "      fill: #174EA6;\n",
              "    }\n",
              "\n",
              "    [theme=dark] .colab-df-convert {\n",
              "      background-color: #3B4455;\n",
              "      fill: #D2E3FC;\n",
              "    }\n",
              "\n",
              "    [theme=dark] .colab-df-convert:hover {\n",
              "      background-color: #434B5C;\n",
              "      box-shadow: 0px 1px 3px 1px rgba(0, 0, 0, 0.15);\n",
              "      filter: drop-shadow(0px 1px 2px rgba(0, 0, 0, 0.3));\n",
              "      fill: #FFFFFF;\n",
              "    }\n",
              "  </style>\n",
              "\n",
              "      <script>\n",
              "        const buttonEl =\n",
              "          document.querySelector('#df-63df7bd1-b76a-40d5-a401-a41591dca447 button.colab-df-convert');\n",
              "        buttonEl.style.display =\n",
              "          google.colab.kernel.accessAllowed ? 'block' : 'none';\n",
              "\n",
              "        async function convertToInteractive(key) {\n",
              "          const element = document.querySelector('#df-63df7bd1-b76a-40d5-a401-a41591dca447');\n",
              "          const dataTable =\n",
              "            await google.colab.kernel.invokeFunction('convertToInteractive',\n",
              "                                                     [key], {});\n",
              "          if (!dataTable) return;\n",
              "\n",
              "          const docLinkHtml = 'Like what you see? Visit the ' +\n",
              "            '<a target=\"_blank\" href=https://colab.research.google.com/notebooks/data_table.ipynb>data table notebook</a>'\n",
              "            + ' to learn more about interactive tables.';\n",
              "          element.innerHTML = '';\n",
              "          dataTable['output_type'] = 'display_data';\n",
              "          await google.colab.output.renderOutput(dataTable, element);\n",
              "          const docLink = document.createElement('div');\n",
              "          docLink.innerHTML = docLinkHtml;\n",
              "          element.appendChild(docLink);\n",
              "        }\n",
              "      </script>\n",
              "    </div>\n",
              "  </div>\n",
              "  "
            ]
          },
          "metadata": {},
          "execution_count": 21
        }
      ]
    },
    {
      "cell_type": "code",
      "source": [
        "#Gráfico de média total por dia.\n",
        "\n",
        "#Inician figura\n",
        "fig, ax = plt.subplots(figsize=(16,8))\n",
        "\n",
        "#Desenhando o gráfico\n",
        "plt.bar(grp_sleep_day.index,grp_sleep_day['TotalMinutesAsleep'], width=0.6, color=bella_colors[1])\n",
        "\n",
        "#Colocando os rótulos do x na vertical\n",
        "plt.xticks(rotation=90)\n",
        "\n",
        "#Desenhando linhas horizontais\n",
        "plt.axhline(420, linestyle='dashed', color='green', label='420 minutos')\n",
        "plt.axhline(540, linestyle='dashed', color='blue', label='540 minutos')\n",
        "\n",
        "#tirando as colunas\n",
        "for spine in ['top', 'right']:\n",
        "    ax.spines[spine].set_visible(False)\n",
        "\n",
        "#tirando grid\n",
        "ax.grid(False)\n",
        "\n",
        "#titulo\n",
        "plt.title('Média total de minutos de dormido por dia.', fontproperties=fprop, fontsize=15, color=bella_colors[0])\n",
        "\n",
        "#Nome do eixo y\n",
        "plt.ylabel('Minutos dormidos.',fontproperties=fprop,fontsize=10)\n",
        "\n",
        "#Configulando rotulos\n",
        "ax.set_xticklabels(grp_sleep_day.index,fontproperties=fprop, color='grey')\n",
        "ax.set_yticklabels([0,100,200,300,400,500],fontproperties=fprop, color='grey')\n",
        "\n",
        "\n",
        "#legenda\n",
        "plt.legend(loc='best',prop=fprop)\n",
        "\n",
        "plt.plot()"
      ],
      "metadata": {
        "colab": {
          "base_uri": "https://localhost:8080/",
          "height": 509
        },
        "id": "OGJ1Cyr8OX40",
        "outputId": "954555fb-d2c9-447a-e8bd-b2d30f15509a"
      },
      "execution_count": null,
      "outputs": [
        {
          "output_type": "execute_result",
          "data": {
            "text/plain": [
              "[]"
            ]
          },
          "metadata": {},
          "execution_count": 22
        },
        {
          "output_type": "display_data",
          "data": {
            "text/plain": [
              "<Figure size 1152x576 with 1 Axes>"
            ],
            "image/png": "[encoded data removed]"
          },
          "metadata": {}
        }
      ]
    },
    {
      "cell_type": "markdown",
      "source": [
        "Em média, pelo menos metade do mês os usúarios não dormem o mínimo necessário."
      ],
      "metadata": {
        "id": "KtcnhmLmZHU1"
      }
    },
    {
      "cell_type": "code",
      "source": [
        "#Agrupento por dia de mediana total de dias dormidos.\n",
        "grp_sleep_day = sleep_day.groupby(['data']).median()\n",
        "grp_sleep_day.head()"
      ],
      "metadata": {
        "colab": {
          "base_uri": "https://localhost:8080/",
          "height": 238
        },
        "id": "kXtg9gGFTl-V",
        "outputId": "86c02823-06d7-4691-c64b-55c60a3c317c"
      },
      "execution_count": null,
      "outputs": [
        {
          "output_type": "execute_result",
          "data": {
            "text/plain": [
              "                     Id  TotalSleepRecords  TotalMinutesAsleep  \\\n",
              "data                                                             \n",
              "4/12/2016  4.702922e+09                1.0               429.0   \n",
              "4/13/2016  5.128440e+09                1.5               439.5   \n",
              "4/14/2016  5.553957e+09                1.0               445.0   \n",
              "4/15/2016  4.445115e+09                1.0               412.0   \n",
              "4/16/2016  4.574018e+09                1.0               394.0   \n",
              "\n",
              "           TotalTimeInBed  JustBed  \n",
              "data                                \n",
              "4/12/2016           464.0     23.0  \n",
              "4/13/2016           461.5     31.5  \n",
              "4/14/2016           489.0     27.0  \n",
              "4/15/2016           442.0     26.0  \n",
              "4/16/2016           446.5     25.5  "
            ],
            "text/html": [
              "\n",
              "  <div id=\"df-f9c9973a-0aab-4db0-9c5d-cf986b06cee9\">\n",
              "    <div class=\"colab-df-container\">\n",
              "      <div>\n",
              "<style scoped>\n",
              "    .dataframe tbody tr th:only-of-type {\n",
              "        vertical-align: middle;\n",
              "    }\n",
              "\n",
              "    .dataframe tbody tr th {\n",
              "        vertical-align: top;\n",
              "    }\n",
              "\n",
              "    .dataframe thead th {\n",
              "        text-align: right;\n",
              "    }\n",
              "</style>\n",
              "<table border=\"1\" class=\"dataframe\">\n",
              "  <thead>\n",
              "    <tr style=\"text-align: right;\">\n",
              "      <th></th>\n",
              "      <th>Id</th>\n",
              "      <th>TotalSleepRecords</th>\n",
              "      <th>TotalMinutesAsleep</th>\n",
              "      <th>TotalTimeInBed</th>\n",
              "      <th>JustBed</th>\n",
              "    </tr>\n",
              "    <tr>\n",
              "      <th>data</th>\n",
              "      <th></th>\n",
              "      <th></th>\n",
              "      <th></th>\n",
              "      <th></th>\n",
              "      <th></th>\n",
              "    </tr>\n",
              "  </thead>\n",
              "  <tbody>\n",
              "    <tr>\n",
              "      <th>4/12/2016</th>\n",
              "      <td>4.702922e+09</td>\n",
              "      <td>1.0</td>\n",
              "      <td>429.0</td>\n",
              "      <td>464.0</td>\n",
              "      <td>23.0</td>\n",
              "    </tr>\n",
              "    <tr>\n",
              "      <th>4/13/2016</th>\n",
              "      <td>5.128440e+09</td>\n",
              "      <td>1.5</td>\n",
              "      <td>439.5</td>\n",
              "      <td>461.5</td>\n",
              "      <td>31.5</td>\n",
              "    </tr>\n",
              "    <tr>\n",
              "      <th>4/14/2016</th>\n",
              "      <td>5.553957e+09</td>\n",
              "      <td>1.0</td>\n",
              "      <td>445.0</td>\n",
              "      <td>489.0</td>\n",
              "      <td>27.0</td>\n",
              "    </tr>\n",
              "    <tr>\n",
              "      <th>4/15/2016</th>\n",
              "      <td>4.445115e+09</td>\n",
              "      <td>1.0</td>\n",
              "      <td>412.0</td>\n",
              "      <td>442.0</td>\n",
              "      <td>26.0</td>\n",
              "    </tr>\n",
              "    <tr>\n",
              "      <th>4/16/2016</th>\n",
              "      <td>4.574018e+09</td>\n",
              "      <td>1.0</td>\n",
              "      <td>394.0</td>\n",
              "      <td>446.5</td>\n",
              "      <td>25.5</td>\n",
              "    </tr>\n",
              "  </tbody>\n",
              "</table>\n",
              "</div>\n",
              "      <button class=\"colab-df-convert\" onclick=\"convertToInteractive('df-f9c9973a-0aab-4db0-9c5d-cf986b06cee9')\"\n",
              "              title=\"Convert this dataframe to an interactive table.\"\n",
              "              style=\"display:none;\">\n",
              "        \n",
              "  <svg xmlns=\"http://www.w3.org/2000/svg\" height=\"24px\"viewBox=\"0 0 24 24\"\n",
              "       width=\"24px\">\n",
              "    <path d=\"M0 0h24v24H0V0z\" fill=\"none\"/>\n",
              "    <path d=\"M18.56 5.44l.94 2.06.94-2.06 2.06-.94-2.06-.94-.94-2.06-.94 2.06-2.06.94zm-11 1L8.5 8.5l.94-2.06 2.06-.94-2.06-.94L8.5 2.5l-.94 2.06-2.06.94zm10 10l.94 2.06.94-2.06 2.06-.94-2.06-.94-.94-2.06-.94 2.06-2.06.94z\"/><path d=\"M17.41 7.96l-1.37-1.37c-.4-.4-.92-.59-1.43-.59-.52 0-1.04.2-1.43.59L10.3 9.45l-7.72 7.72c-.78.78-.78 2.05 0 2.83L4 21.41c.39.39.9.59 1.41.59.51 0 1.02-.2 1.41-.59l7.78-7.78 2.81-2.81c.8-.78.8-2.07 0-2.86zM5.41 20L4 18.59l7.72-7.72 1.47 1.35L5.41 20z\"/>\n",
              "  </svg>\n",
              "      </button>\n",
              "      \n",
              "  <style>\n",
              "    .colab-df-container {\n",
              "      display:flex;\n",
              "      flex-wrap:wrap;\n",
              "      gap: 12px;\n",
              "    }\n",
              "\n",
              "    .colab-df-convert {\n",
              "      background-color: #E8F0FE;\n",
              "      border: none;\n",
              "      border-radius: 50%;\n",
              "      cursor: pointer;\n",
              "      display: none;\n",
              "      fill: #1967D2;\n",
              "      height: 32px;\n",
              "      padding: 0 0 0 0;\n",
              "      width: 32px;\n",
              "    }\n",
              "\n",
              "    .colab-df-convert:hover {\n",
              "      background-color: #E2EBFA;\n",
              "      box-shadow: 0px 1px 2px rgba(60, 64, 67, 0.3), 0px 1px 3px 1px rgba(60, 64, 67, 0.15);\n",
              "      fill: #174EA6;\n",
              "    }\n",
              "\n",
              "    [theme=dark] .colab-df-convert {\n",
              "      background-color: #3B4455;\n",
              "      fill: #D2E3FC;\n",
              "    }\n",
              "\n",
              "    [theme=dark] .colab-df-convert:hover {\n",
              "      background-color: #434B5C;\n",
              "      box-shadow: 0px 1px 3px 1px rgba(0, 0, 0, 0.15);\n",
              "      filter: drop-shadow(0px 1px 2px rgba(0, 0, 0, 0.3));\n",
              "      fill: #FFFFFF;\n",
              "    }\n",
              "  </style>\n",
              "\n",
              "      <script>\n",
              "        const buttonEl =\n",
              "          document.querySelector('#df-f9c9973a-0aab-4db0-9c5d-cf986b06cee9 button.colab-df-convert');\n",
              "        buttonEl.style.display =\n",
              "          google.colab.kernel.accessAllowed ? 'block' : 'none';\n",
              "\n",
              "        async function convertToInteractive(key) {\n",
              "          const element = document.querySelector('#df-f9c9973a-0aab-4db0-9c5d-cf986b06cee9');\n",
              "          const dataTable =\n",
              "            await google.colab.kernel.invokeFunction('convertToInteractive',\n",
              "                                                     [key], {});\n",
              "          if (!dataTable) return;\n",
              "\n",
              "          const docLinkHtml = 'Like what you see? Visit the ' +\n",
              "            '<a target=\"_blank\" href=https://colab.research.google.com/notebooks/data_table.ipynb>data table notebook</a>'\n",
              "            + ' to learn more about interactive tables.';\n",
              "          element.innerHTML = '';\n",
              "          dataTable['output_type'] = 'display_data';\n",
              "          await google.colab.output.renderOutput(dataTable, element);\n",
              "          const docLink = document.createElement('div');\n",
              "          docLink.innerHTML = docLinkHtml;\n",
              "          element.appendChild(docLink);\n",
              "        }\n",
              "      </script>\n",
              "    </div>\n",
              "  </div>\n",
              "  "
            ]
          },
          "metadata": {},
          "execution_count": 23
        }
      ]
    },
    {
      "cell_type": "code",
      "source": [
        "#Gráfico da mediana total por dia.\n",
        "fig, ax = plt.subplots(figsize=(10,8))\n",
        "\n",
        "plt.bar(grp_sleep_day.index,grp_sleep_day['TotalMinutesAsleep'], width=0.6, color=bella_colors[1])\n",
        "\n",
        "plt.xticks(rotation=90)\n",
        "\n",
        "plt.axhline(420, linestyle='dashed', color='green', label='420 minutos')\n",
        "plt.axhline(540, linestyle='dashed', color='blue', label='540 minutos')\n",
        "\n",
        "plt.title('Mediana total de minutos dormidos por dia.', fontproperties=fprop, fontsize=15, color=bella_colors[0])\n",
        "\n",
        "plt.ylabel('Minutos dormidos.', fontproperties=fprop, fontsize=10, color=bella_colors[0])\n",
        "\n",
        "ax.grid(False)\n",
        "\n",
        "for spine in ['top','right']:\n",
        "  ax.spines[spine].set_visible(False)\n",
        "\n",
        "ax.set_xticklabels(grp_sleep_day.index,fontproperties=fprop, color='grey')\n",
        "ax.set_yticklabels([0,100,200,300,400,500],fontproperties=fprop, color='grey')\n",
        "\n",
        "\n",
        "plt.legend(prop=fprop)\n",
        "plt.plot()"
      ],
      "metadata": {
        "colab": {
          "base_uri": "https://localhost:8080/",
          "height": 559
        },
        "id": "65lo7B03ToZ8",
        "outputId": "0be46bb5-b493-49e1-d9dc-132fbed76ddb"
      },
      "execution_count": null,
      "outputs": [
        {
          "output_type": "execute_result",
          "data": {
            "text/plain": [
              "[]"
            ]
          },
          "metadata": {},
          "execution_count": 24
        },
        {
          "output_type": "display_data",
          "data": {
            "text/plain": [
              "<Figure size 720x576 with 1 Axes>"
            ],
            "image/png": "[encoded data removed]"
          },
          "metadata": {}
        }
      ]
    },
    {
      "cell_type": "markdown",
      "source": [
        "Em mediana, pelo em 11 os usúarios não dormem o mínimo necessário."
      ],
      "metadata": {
        "id": "oAeWM_zDZhMP"
      }
    },
    {
      "cell_type": "code",
      "source": [
        "dia_semana= ['Sunday','Monday', 'Tuesday', 'Wednesday','Thursday','Friday','Saturday']\n",
        "#violinplot dos minutos totais de sono por dia da semana.\n",
        "sns.set(style='whitegrid')\n",
        "\n",
        "#Iniciando a figura\n",
        "fig,axes = plt.subplots(3,1, figsize=(10,8))\n",
        "\n",
        "\n",
        "\n",
        "#Primeiro grafico\n",
        "sns.violinplot(x='TotalMinutesAsleep', y='dia_semana', data = sleep_day,\n",
        "            ax = axes[0], order = dia_semana)\n",
        "#formatando as labels\n",
        "axes[0].set_ylabel('')\n",
        "axes[0].set_xlabel('Minutos dormidos.',fontproperties=fprop, color='grey')\n",
        "#formatando os ticks\n",
        "axes[0].set_yticklabels(dia_semana,fontproperties=fprop, color='grey')\n",
        "axes[0].set_xticklabels(range(-200,1200,200),fontproperties=fprop, color='grey')\n",
        "\n",
        "\n",
        "\n",
        "#segundo gráfico\n",
        "sns.violinplot(x='TotalTimeInBed', y='dia_semana', data = sleep_day,\n",
        "            ax = axes[1],order = dia_semana)\n",
        "#formatando as labels\n",
        "axes[1].set_ylabel('')\n",
        "axes[1].set_xlabel('Minutos na cama.',fontproperties=fprop, color='grey')\n",
        "#formatando os ticks\n",
        "axes[1].set_yticklabels(dia_semana,fontproperties=fprop, color='grey')\n",
        "axes[1].set_xticklabels(range(-200,1200,200),fontproperties=fprop, color='grey')\n",
        "\n",
        "\n",
        "\n",
        "#Terceiro gráfico\n",
        "sns.violinplot(x='JustBed', y='dia_semana', data = sleep_day,\n",
        "            ax = axes[2],order = dia_semana)\n",
        "#formatando as labels\n",
        "axes[2].set_ylabel('')\n",
        "axes[2].set_xlabel('Minutos acordado na cama.',fontproperties=fprop, color='grey')\n",
        "#formatando os ticks\n",
        "axes[2].set_yticklabels(dia_semana,fontproperties=fprop, color='grey')\n",
        "axes[2].set_xticklabels(range(-50,350,50),fontproperties=fprop, color='grey')\n",
        "\n",
        "\n",
        "\n",
        "#titulo\n",
        "axes[0].set_title('Boxplot de total de minutos dormidos, total de minutos na cama\\n e total de minutos acordado na cama.',\n",
        "                  fontproperties=fprop, fontsize=15, color=bella_colors[0])\n",
        "#Aumentando o espaço do rótulo do eixo y.\n",
        "fig.tight_layout()\n",
        "fig.show()"
      ],
      "metadata": {
        "colab": {
          "base_uri": "https://localhost:8080/",
          "height": 581
        },
        "id": "6cP1hthpaFuK",
        "outputId": "97d936df-7013-421c-ef04-ebaaaa607eb5"
      },
      "execution_count": null,
      "outputs": [
        {
          "output_type": "display_data",
          "data": {
            "text/plain": [
              "<Figure size 720x576 with 3 Axes>"
            ],
            "image/png": "[encoded data removed]"
          },
          "metadata": {}
        }
      ]
    },
    {
      "cell_type": "code",
      "source": [
        "sleep_day.JustBed.median()"
      ],
      "metadata": {
        "colab": {
          "base_uri": "https://localhost:8080/"
        },
        "id": "SLKaaMaKsCK2",
        "outputId": "a53ee611-fab4-496b-c593-c21e3ceda481"
      },
      "execution_count": null,
      "outputs": [
        {
          "output_type": "execute_result",
          "data": {
            "text/plain": [
              "25.5"
            ]
          },
          "metadata": {},
          "execution_count": 26
        }
      ]
    },
    {
      "cell_type": "code",
      "source": [
        "for dia in dia_semana:\n",
        "  print(f\"Dia: {dia}, média adormecido:{sleep_day.TotalMinutesAsleep[sleep_day.dia_semana==dia].median()}\")\n"
      ],
      "metadata": {
        "colab": {
          "base_uri": "https://localhost:8080/"
        },
        "id": "N6dlsa4jv_Av",
        "outputId": "02c46e5f-d427-44df-c223-f17c661124d6"
      },
      "execution_count": null,
      "outputs": [
        {
          "output_type": "stream",
          "name": "stdout",
          "text": [
            "Dia: Sunday, média adormecido:481.0\n",
            "Dia: Monday, média adormecido:434.0\n",
            "Dia: Tuesday, média adormecido:417.0\n",
            "Dia: Wednesday, média adormecido:444.5\n",
            "Dia: Thursday, média adormecido:423.5\n",
            "Dia: Friday, média adormecido:405.0\n",
            "Dia: Saturday, média adormecido:426.0\n"
          ]
        }
      ]
    },
    {
      "cell_type": "markdown",
      "source": [
        "  \n",
        "  Domingo é dia em que os participantes mais dormem e sexta-feira é o dia que menos dormem. \n",
        "  \n",
        "  Percebe-se uma redução drástica de minutos de sono de domingo para segunda, uma redução que se extende terça. No período de quarta a sexta feira acontece um fênome parecido com o de domingo a terça-feira, na quarta-feira acontece um aumento relativamente pequeno de minutos dormidos em relação ao dia anteriorm,o período do primeiro ao terceiro quartil se posicionam de forma mais enxuta e num intervalo de minutos maior, porém existe uma redução de sono nos próximos dois dias quando no sábado existe um aumento repentino de minutos dormidos. \n",
        "  \n",
        "  Isso pode significar uma quebra de rotina do sono, pois a cada três dias, o primeiro dia de sono tem uma qualidade maior do que os próximos dois dias, até que se repete o ciclo, exceto para o períodos de sábado para domingo.\n",
        "\t\n",
        "  Vale ressaltar que os participantes ficam em mediana 25,5 minutos por dia acordados na cama (foi utilizada a mediana, pois existem muito outliers nesta feature), sendo que, domingo é o dia em que os participantes mais ficam na cama acordados. "
      ],
      "metadata": {
        "id": "d4ZqMPS9ZkO2"
      }
    },
    {
      "cell_type": "code",
      "source": [
        "#Gráfico de dispersão de tempo na cama e tempo dormido\n",
        "fig, ax = plt.subplots(figsize=(10,8))\n",
        "\n",
        "\n",
        "sns.scatterplot(x='TotalMinutesAsleep', y='TotalTimeInBed', data = sleep_day, color=bella_colors[1])\n",
        "\n",
        "\n",
        "ax.set_ylabel('Minutos na cama.', fontproperties=fprop, fontsize=10)\n",
        "ax.set_xlabel('Minutos dormidos.', fontproperties=fprop, fontsize=10)\n",
        "\n",
        "\n",
        "ax.set_yticklabels(range(0,1001,200),fontproperties=fprop, color='grey')\n",
        "ax.set_xticklabels(range(0,801,100),fontproperties=fprop, color='grey')\n",
        "\n",
        "ax.set_title('Minutos Totais na Cama X Minutos Dormindos.', fontproperties=fprop, fontsize=15)\n",
        "\n",
        "plt.plot()"
      ],
      "metadata": {
        "id": "TMfrcckLlU4k",
        "colab": {
          "base_uri": "https://localhost:8080/",
          "height": 536
        },
        "outputId": "4703ccad-c70e-44e7-cc32-1e4e4d8b9e38"
      },
      "execution_count": null,
      "outputs": [
        {
          "output_type": "execute_result",
          "data": {
            "text/plain": [
              "[]"
            ]
          },
          "metadata": {},
          "execution_count": 28
        },
        {
          "output_type": "display_data",
          "data": {
            "text/plain": [
              "<Figure size 720x576 with 1 Axes>"
            ],
            "image/png": "[encoded data removed]"
          },
          "metadata": {}
        }
      ]
    },
    {
      "cell_type": "code",
      "source": [
        "#correlação \n",
        "sleep_day.TotalMinutesAsleep.corr(sleep_day.TotalTimeInBed)"
      ],
      "metadata": {
        "colab": {
          "base_uri": "https://localhost:8080/"
        },
        "id": "siYDFoQmK64A",
        "outputId": "852c7c67-055a-453f-ea9a-ccd0a3d00dc6"
      },
      "execution_count": null,
      "outputs": [
        {
          "output_type": "execute_result",
          "data": {
            "text/plain": [
              "0.930422385392275"
            ]
          },
          "metadata": {},
          "execution_count": 29
        }
      ]
    },
    {
      "cell_type": "markdown",
      "source": [
        "Existe uma correlação de 0.93 entre o tempo em que os usuários passam na cama e o tempo que eles estão adormecidos, o que faz muito sentido. Porem existem alguns pontos no gráfico de dispersão que indicam usuários passando um bom tempo na acordados na cama , seria interessante saber as causas desse fenômeno. \n",
        "* Celular? \n",
        "* Streamig? \n",
        "* Insônia?"
      ],
      "metadata": {
        "id": "eWekxOy56ME8"
      }
    },
    {
      "cell_type": "code",
      "source": [
        "fig, ax = plt.subplots(figsize=(10,8))\n",
        "\n",
        "sns.scatterplot(x=merge_sleep_activity.TotalMinutesAsleep, y=merge_sleep_activity.SedentaryMinutes, data =merge_sleep_activity, color=bella_colors[1])\n",
        "\n",
        "\n",
        "ax.set_ylabel('Minutos sedentário.', fontproperties=fprop, fontsize=10)\n",
        "ax.set_xlabel('Minutos dormidos.', fontproperties=fprop, fontsize=10)\n",
        "\n",
        "\n",
        "ax.set_yticklabels(range(0,1001,200),fontproperties=fprop, color='grey')\n",
        "ax.set_xticklabels(range(0,801,100),fontproperties=fprop, color='grey')\n",
        "\n",
        "ax.set_title('Tempo sedentário X Minutos Dormindos.', fontproperties=fprop, fontsize=15)\n",
        "\n",
        "plt.plot()"
      ],
      "metadata": {
        "colab": {
          "base_uri": "https://localhost:8080/",
          "height": 537
        },
        "id": "40eiW-gPQ_rV",
        "outputId": "d3255845-262a-4e69-93f3-f245d30ac1f0"
      },
      "execution_count": null,
      "outputs": [
        {
          "output_type": "execute_result",
          "data": {
            "text/plain": [
              "[]"
            ]
          },
          "metadata": {},
          "execution_count": 73
        },
        {
          "output_type": "display_data",
          "data": {
            "text/plain": [
              "<Figure size 720x576 with 1 Axes>"
            ],
            "image/png": "[encoded data removed]"
          },
          "metadata": {}
        }
      ]
    },
    {
      "cell_type": "code",
      "source": [
        "# correlação entre calorias e total de passos\n",
        "print(merge_sleep_activity.SedentaryMinutes.corr(merge_sleep_activity.TotalMinutesAsleep))"
      ],
      "metadata": {
        "colab": {
          "base_uri": "https://localhost:8080/"
        },
        "id": "Egq_fXUKRhQ-",
        "outputId": "2145ba0e-63c0-439d-8254-0663c7152cd5"
      },
      "execution_count": null,
      "outputs": [
        {
          "output_type": "stream",
          "name": "stdout",
          "text": [
            "-0.6010731396971011\n"
          ]
        }
      ]
    },
    {
      "cell_type": "markdown",
      "source": [
        "Existe uma correlação negativa moderada entre o tempo sedentário no da e quantidade de sono, ou seja o maior tempo sedentário no dia influencia parcialmente numa menor quantidade de tempo adormecido."
      ],
      "metadata": {
        "id": "uTgABRW1Rd7Z"
      }
    },
    {
      "cell_type": "code",
      "source": [
        "fig, ax = plt.subplots(figsize=(10,8))\n",
        "\n",
        "sns.scatterplot(x=merge_sleep_activity.TotalMinutesAsleep, y=merge_sleep_activity.Calories, data =merge_sleep_activity, color=bella_colors[1])\n",
        "\n",
        "\n",
        "ax.set_ylabel('Calorias.', fontproperties=fprop, fontsize=10)\n",
        "ax.set_xlabel('Minutos dormidos.', fontproperties=fprop, fontsize=10)\n",
        "\n",
        "\n",
        "ax.set_yticklabels(range(0,1001,200),fontproperties=fprop, color='grey')\n",
        "ax.set_xticklabels(range(0,801,100),fontproperties=fprop, color='grey')\n",
        "\n",
        "ax.set_title('Calorias X Minutos Dormindos.', fontproperties=fprop, fontsize=15)\n",
        "\n",
        "plt.plot()"
      ],
      "metadata": {
        "colab": {
          "base_uri": "https://localhost:8080/",
          "height": 536
        },
        "id": "lGeyxpDZR0UF",
        "outputId": "1bc60278-a43a-4d72-e9e7-a65ad2eda762"
      },
      "execution_count": 75,
      "outputs": [
        {
          "output_type": "execute_result",
          "data": {
            "text/plain": [
              "[]"
            ]
          },
          "metadata": {},
          "execution_count": 75
        },
        {
          "output_type": "display_data",
          "data": {
            "text/plain": [
              "<Figure size 720x576 with 1 Axes>"
            ],
            "image/png": "[encoded data removed]"
          },
          "metadata": {}
        }
      ]
    },
    {
      "cell_type": "code",
      "source": [
        "# correlação entre calorias e sono\n",
        "print(merge_sleep_activity.Calories.corr(merge_sleep_activity.TotalMinutesAsleep))"
      ],
      "metadata": {
        "colab": {
          "base_uri": "https://localhost:8080/"
        },
        "id": "ttJA0s-4R0Qo",
        "outputId": "6ae527e4-6804-4bd6-f8c6-f784d4bf4175"
      },
      "execution_count": null,
      "outputs": [
        {
          "output_type": "stream",
          "name": "stdout",
          "text": [
            "-0.03169899182029161\n"
          ]
        }
      ]
    },
    {
      "cell_type": "markdown",
      "source": [
        "Não existe correlação entre a quantidade de tempo adormecido e e o gasto calórico."
      ],
      "metadata": {
        "id": "YDz_X8pISUCw"
      }
    },
    {
      "cell_type": "markdown",
      "source": [
        "### Quais são os horários de maior intensidade de exercicios, existe uma rotina?"
      ],
      "metadata": {
        "id": "eTjHwqy060IU"
      }
    },
    {
      "cell_type": "code",
      "source": [
        "hour_intensities.head()"
      ],
      "metadata": {
        "colab": {
          "base_uri": "https://localhost:8080/",
          "height": 206
        },
        "id": "JpFE_21m6z7d",
        "outputId": "37dc3626-ec20-4cd2-b937-56641ac25d94"
      },
      "execution_count": null,
      "outputs": [
        {
          "output_type": "execute_result",
          "data": {
            "text/plain": [
              "        data dia_semana       hora  TotalIntensity  AverageIntensity\n",
              "0  4/12/2016    Tuesday  00:00:00               20          0.333333\n",
              "1  4/12/2016    Tuesday  01:00:00                8          0.133333\n",
              "2  4/12/2016    Tuesday  02:00:00                7          0.116667\n",
              "3  4/12/2016    Tuesday  03:00:00                0          0.000000\n",
              "4  4/12/2016    Tuesday  04:00:00                0          0.000000"
            ],
            "text/html": [
              "\n",
              "  <div id=\"df-d081468a-6132-492a-9b2b-2b829a320915\">\n",
              "    <div class=\"colab-df-container\">\n",
              "      <div>\n",
              "<style scoped>\n",
              "    .dataframe tbody tr th:only-of-type {\n",
              "        vertical-align: middle;\n",
              "    }\n",
              "\n",
              "    .dataframe tbody tr th {\n",
              "        vertical-align: top;\n",
              "    }\n",
              "\n",
              "    .dataframe thead th {\n",
              "        text-align: right;\n",
              "    }\n",
              "</style>\n",
              "<table border=\"1\" class=\"dataframe\">\n",
              "  <thead>\n",
              "    <tr style=\"text-align: right;\">\n",
              "      <th></th>\n",
              "      <th>data</th>\n",
              "      <th>dia_semana</th>\n",
              "      <th>hora</th>\n",
              "      <th>TotalIntensity</th>\n",
              "      <th>AverageIntensity</th>\n",
              "    </tr>\n",
              "  </thead>\n",
              "  <tbody>\n",
              "    <tr>\n",
              "      <th>0</th>\n",
              "      <td>4/12/2016</td>\n",
              "      <td>Tuesday</td>\n",
              "      <td>00:00:00</td>\n",
              "      <td>20</td>\n",
              "      <td>0.333333</td>\n",
              "    </tr>\n",
              "    <tr>\n",
              "      <th>1</th>\n",
              "      <td>4/12/2016</td>\n",
              "      <td>Tuesday</td>\n",
              "      <td>01:00:00</td>\n",
              "      <td>8</td>\n",
              "      <td>0.133333</td>\n",
              "    </tr>\n",
              "    <tr>\n",
              "      <th>2</th>\n",
              "      <td>4/12/2016</td>\n",
              "      <td>Tuesday</td>\n",
              "      <td>02:00:00</td>\n",
              "      <td>7</td>\n",
              "      <td>0.116667</td>\n",
              "    </tr>\n",
              "    <tr>\n",
              "      <th>3</th>\n",
              "      <td>4/12/2016</td>\n",
              "      <td>Tuesday</td>\n",
              "      <td>03:00:00</td>\n",
              "      <td>0</td>\n",
              "      <td>0.000000</td>\n",
              "    </tr>\n",
              "    <tr>\n",
              "      <th>4</th>\n",
              "      <td>4/12/2016</td>\n",
              "      <td>Tuesday</td>\n",
              "      <td>04:00:00</td>\n",
              "      <td>0</td>\n",
              "      <td>0.000000</td>\n",
              "    </tr>\n",
              "  </tbody>\n",
              "</table>\n",
              "</div>\n",
              "      <button class=\"colab-df-convert\" onclick=\"convertToInteractive('df-d081468a-6132-492a-9b2b-2b829a320915')\"\n",
              "              title=\"Convert this dataframe to an interactive table.\"\n",
              "              style=\"display:none;\">\n",
              "        \n",
              "  <svg xmlns=\"http://www.w3.org/2000/svg\" height=\"24px\"viewBox=\"0 0 24 24\"\n",
              "       width=\"24px\">\n",
              "    <path d=\"M0 0h24v24H0V0z\" fill=\"none\"/>\n",
              "    <path d=\"M18.56 5.44l.94 2.06.94-2.06 2.06-.94-2.06-.94-.94-2.06-.94 2.06-2.06.94zm-11 1L8.5 8.5l.94-2.06 2.06-.94-2.06-.94L8.5 2.5l-.94 2.06-2.06.94zm10 10l.94 2.06.94-2.06 2.06-.94-2.06-.94-.94-2.06-.94 2.06-2.06.94z\"/><path d=\"M17.41 7.96l-1.37-1.37c-.4-.4-.92-.59-1.43-.59-.52 0-1.04.2-1.43.59L10.3 9.45l-7.72 7.72c-.78.78-.78 2.05 0 2.83L4 21.41c.39.39.9.59 1.41.59.51 0 1.02-.2 1.41-.59l7.78-7.78 2.81-2.81c.8-.78.8-2.07 0-2.86zM5.41 20L4 18.59l7.72-7.72 1.47 1.35L5.41 20z\"/>\n",
              "  </svg>\n",
              "      </button>\n",
              "      \n",
              "  <style>\n",
              "    .colab-df-container {\n",
              "      display:flex;\n",
              "      flex-wrap:wrap;\n",
              "      gap: 12px;\n",
              "    }\n",
              "\n",
              "    .colab-df-convert {\n",
              "      background-color: #E8F0FE;\n",
              "      border: none;\n",
              "      border-radius: 50%;\n",
              "      cursor: pointer;\n",
              "      display: none;\n",
              "      fill: #1967D2;\n",
              "      height: 32px;\n",
              "      padding: 0 0 0 0;\n",
              "      width: 32px;\n",
              "    }\n",
              "\n",
              "    .colab-df-convert:hover {\n",
              "      background-color: #E2EBFA;\n",
              "      box-shadow: 0px 1px 2px rgba(60, 64, 67, 0.3), 0px 1px 3px 1px rgba(60, 64, 67, 0.15);\n",
              "      fill: #174EA6;\n",
              "    }\n",
              "\n",
              "    [theme=dark] .colab-df-convert {\n",
              "      background-color: #3B4455;\n",
              "      fill: #D2E3FC;\n",
              "    }\n",
              "\n",
              "    [theme=dark] .colab-df-convert:hover {\n",
              "      background-color: #434B5C;\n",
              "      box-shadow: 0px 1px 3px 1px rgba(0, 0, 0, 0.15);\n",
              "      filter: drop-shadow(0px 1px 2px rgba(0, 0, 0, 0.3));\n",
              "      fill: #FFFFFF;\n",
              "    }\n",
              "  </style>\n",
              "\n",
              "      <script>\n",
              "        const buttonEl =\n",
              "          document.querySelector('#df-d081468a-6132-492a-9b2b-2b829a320915 button.colab-df-convert');\n",
              "        buttonEl.style.display =\n",
              "          google.colab.kernel.accessAllowed ? 'block' : 'none';\n",
              "\n",
              "        async function convertToInteractive(key) {\n",
              "          const element = document.querySelector('#df-d081468a-6132-492a-9b2b-2b829a320915');\n",
              "          const dataTable =\n",
              "            await google.colab.kernel.invokeFunction('convertToInteractive',\n",
              "                                                     [key], {});\n",
              "          if (!dataTable) return;\n",
              "\n",
              "          const docLinkHtml = 'Like what you see? Visit the ' +\n",
              "            '<a target=\"_blank\" href=https://colab.research.google.com/notebooks/data_table.ipynb>data table notebook</a>'\n",
              "            + ' to learn more about interactive tables.';\n",
              "          element.innerHTML = '';\n",
              "          dataTable['output_type'] = 'display_data';\n",
              "          await google.colab.output.renderOutput(dataTable, element);\n",
              "          const docLink = document.createElement('div');\n",
              "          docLink.innerHTML = docLinkHtml;\n",
              "          element.appendChild(docLink);\n",
              "        }\n",
              "      </script>\n",
              "    </div>\n",
              "  </div>\n",
              "  "
            ]
          },
          "metadata": {},
          "execution_count": 30
        }
      ]
    },
    {
      "cell_type": "code",
      "source": [
        "hour_intensities.describe(percentiles=[.25, .5, .75, .9, .95, .98, .99, .999])"
      ],
      "metadata": {
        "colab": {
          "base_uri": "https://localhost:8080/",
          "height": 457
        },
        "id": "dMb3acDJvst4",
        "outputId": "6af43920-7ef3-4266-d3b0-2278fabdf235"
      },
      "execution_count": null,
      "outputs": [
        {
          "output_type": "execute_result",
          "data": {
            "text/plain": [
              "       TotalIntensity  AverageIntensity\n",
              "count    22099.000000      22099.000000\n",
              "mean        12.035341          0.200589\n",
              "std         21.133110          0.352219\n",
              "min          0.000000          0.000000\n",
              "25%          0.000000          0.000000\n",
              "50%          3.000000          0.050000\n",
              "75%         16.000000          0.266667\n",
              "90%         32.000000          0.533333\n",
              "95%         47.000000          0.783333\n",
              "98%         86.000000          1.433333\n",
              "99%        110.000000          1.833333\n",
              "99.9%      166.902000          2.781700\n",
              "max        180.000000          3.000000"
            ],
            "text/html": [
              "\n",
              "  <div id=\"df-0d14f951-f9a2-4e05-b301-0bfda796e889\">\n",
              "    <div class=\"colab-df-container\">\n",
              "      <div>\n",
              "<style scoped>\n",
              "    .dataframe tbody tr th:only-of-type {\n",
              "        vertical-align: middle;\n",
              "    }\n",
              "\n",
              "    .dataframe tbody tr th {\n",
              "        vertical-align: top;\n",
              "    }\n",
              "\n",
              "    .dataframe thead th {\n",
              "        text-align: right;\n",
              "    }\n",
              "</style>\n",
              "<table border=\"1\" class=\"dataframe\">\n",
              "  <thead>\n",
              "    <tr style=\"text-align: right;\">\n",
              "      <th></th>\n",
              "      <th>TotalIntensity</th>\n",
              "      <th>AverageIntensity</th>\n",
              "    </tr>\n",
              "  </thead>\n",
              "  <tbody>\n",
              "    <tr>\n",
              "      <th>count</th>\n",
              "      <td>22099.000000</td>\n",
              "      <td>22099.000000</td>\n",
              "    </tr>\n",
              "    <tr>\n",
              "      <th>mean</th>\n",
              "      <td>12.035341</td>\n",
              "      <td>0.200589</td>\n",
              "    </tr>\n",
              "    <tr>\n",
              "      <th>std</th>\n",
              "      <td>21.133110</td>\n",
              "      <td>0.352219</td>\n",
              "    </tr>\n",
              "    <tr>\n",
              "      <th>min</th>\n",
              "      <td>0.000000</td>\n",
              "      <td>0.000000</td>\n",
              "    </tr>\n",
              "    <tr>\n",
              "      <th>25%</th>\n",
              "      <td>0.000000</td>\n",
              "      <td>0.000000</td>\n",
              "    </tr>\n",
              "    <tr>\n",
              "      <th>50%</th>\n",
              "      <td>3.000000</td>\n",
              "      <td>0.050000</td>\n",
              "    </tr>\n",
              "    <tr>\n",
              "      <th>75%</th>\n",
              "      <td>16.000000</td>\n",
              "      <td>0.266667</td>\n",
              "    </tr>\n",
              "    <tr>\n",
              "      <th>90%</th>\n",
              "      <td>32.000000</td>\n",
              "      <td>0.533333</td>\n",
              "    </tr>\n",
              "    <tr>\n",
              "      <th>95%</th>\n",
              "      <td>47.000000</td>\n",
              "      <td>0.783333</td>\n",
              "    </tr>\n",
              "    <tr>\n",
              "      <th>98%</th>\n",
              "      <td>86.000000</td>\n",
              "      <td>1.433333</td>\n",
              "    </tr>\n",
              "    <tr>\n",
              "      <th>99%</th>\n",
              "      <td>110.000000</td>\n",
              "      <td>1.833333</td>\n",
              "    </tr>\n",
              "    <tr>\n",
              "      <th>99.9%</th>\n",
              "      <td>166.902000</td>\n",
              "      <td>2.781700</td>\n",
              "    </tr>\n",
              "    <tr>\n",
              "      <th>max</th>\n",
              "      <td>180.000000</td>\n",
              "      <td>3.000000</td>\n",
              "    </tr>\n",
              "  </tbody>\n",
              "</table>\n",
              "</div>\n",
              "      <button class=\"colab-df-convert\" onclick=\"convertToInteractive('df-0d14f951-f9a2-4e05-b301-0bfda796e889')\"\n",
              "              title=\"Convert this dataframe to an interactive table.\"\n",
              "              style=\"display:none;\">\n",
              "        \n",
              "  <svg xmlns=\"http://www.w3.org/2000/svg\" height=\"24px\"viewBox=\"0 0 24 24\"\n",
              "       width=\"24px\">\n",
              "    <path d=\"M0 0h24v24H0V0z\" fill=\"none\"/>\n",
              "    <path d=\"M18.56 5.44l.94 2.06.94-2.06 2.06-.94-2.06-.94-.94-2.06-.94 2.06-2.06.94zm-11 1L8.5 8.5l.94-2.06 2.06-.94-2.06-.94L8.5 2.5l-.94 2.06-2.06.94zm10 10l.94 2.06.94-2.06 2.06-.94-2.06-.94-.94-2.06-.94 2.06-2.06.94z\"/><path d=\"M17.41 7.96l-1.37-1.37c-.4-.4-.92-.59-1.43-.59-.52 0-1.04.2-1.43.59L10.3 9.45l-7.72 7.72c-.78.78-.78 2.05 0 2.83L4 21.41c.39.39.9.59 1.41.59.51 0 1.02-.2 1.41-.59l7.78-7.78 2.81-2.81c.8-.78.8-2.07 0-2.86zM5.41 20L4 18.59l7.72-7.72 1.47 1.35L5.41 20z\"/>\n",
              "  </svg>\n",
              "      </button>\n",
              "      \n",
              "  <style>\n",
              "    .colab-df-container {\n",
              "      display:flex;\n",
              "      flex-wrap:wrap;\n",
              "      gap: 12px;\n",
              "    }\n",
              "\n",
              "    .colab-df-convert {\n",
              "      background-color: #E8F0FE;\n",
              "      border: none;\n",
              "      border-radius: 50%;\n",
              "      cursor: pointer;\n",
              "      display: none;\n",
              "      fill: #1967D2;\n",
              "      height: 32px;\n",
              "      padding: 0 0 0 0;\n",
              "      width: 32px;\n",
              "    }\n",
              "\n",
              "    .colab-df-convert:hover {\n",
              "      background-color: #E2EBFA;\n",
              "      box-shadow: 0px 1px 2px rgba(60, 64, 67, 0.3), 0px 1px 3px 1px rgba(60, 64, 67, 0.15);\n",
              "      fill: #174EA6;\n",
              "    }\n",
              "\n",
              "    [theme=dark] .colab-df-convert {\n",
              "      background-color: #3B4455;\n",
              "      fill: #D2E3FC;\n",
              "    }\n",
              "\n",
              "    [theme=dark] .colab-df-convert:hover {\n",
              "      background-color: #434B5C;\n",
              "      box-shadow: 0px 1px 3px 1px rgba(0, 0, 0, 0.15);\n",
              "      filter: drop-shadow(0px 1px 2px rgba(0, 0, 0, 0.3));\n",
              "      fill: #FFFFFF;\n",
              "    }\n",
              "  </style>\n",
              "\n",
              "      <script>\n",
              "        const buttonEl =\n",
              "          document.querySelector('#df-0d14f951-f9a2-4e05-b301-0bfda796e889 button.colab-df-convert');\n",
              "        buttonEl.style.display =\n",
              "          google.colab.kernel.accessAllowed ? 'block' : 'none';\n",
              "\n",
              "        async function convertToInteractive(key) {\n",
              "          const element = document.querySelector('#df-0d14f951-f9a2-4e05-b301-0bfda796e889');\n",
              "          const dataTable =\n",
              "            await google.colab.kernel.invokeFunction('convertToInteractive',\n",
              "                                                     [key], {});\n",
              "          if (!dataTable) return;\n",
              "\n",
              "          const docLinkHtml = 'Like what you see? Visit the ' +\n",
              "            '<a target=\"_blank\" href=https://colab.research.google.com/notebooks/data_table.ipynb>data table notebook</a>'\n",
              "            + ' to learn more about interactive tables.';\n",
              "          element.innerHTML = '';\n",
              "          dataTable['output_type'] = 'display_data';\n",
              "          await google.colab.output.renderOutput(dataTable, element);\n",
              "          const docLink = document.createElement('div');\n",
              "          docLink.innerHTML = docLinkHtml;\n",
              "          element.appendChild(docLink);\n",
              "        }\n",
              "      </script>\n",
              "    </div>\n",
              "  </div>\n",
              "  "
            ]
          },
          "metadata": {},
          "execution_count": 31
        }
      ]
    },
    {
      "cell_type": "code",
      "source": [
        "#Agrupamento da media  de intensidade por hora.\n",
        "grp_hour_intensities= hour_intensities.groupby('hora')['AverageIntensity'].agg(['mean'])\n",
        "grp_hour_intensities.head()"
      ],
      "metadata": {
        "colab": {
          "base_uri": "https://localhost:8080/",
          "height": 238
        },
        "id": "HF8dWknhINWF",
        "outputId": "831fe367-8348-49b2-86c1-9c8c56a4f308"
      },
      "execution_count": null,
      "outputs": [
        {
          "output_type": "execute_result",
          "data": {
            "text/plain": [
              "               mean\n",
              "hora               \n",
              "00:00:00   0.035493\n",
              "01:00:00   0.023651\n",
              "02:00:00   0.017399\n",
              "03:00:00   0.007396\n",
              "04:00:00   0.010551"
            ],
            "text/html": [
              "\n",
              "  <div id=\"df-2f308dd6-461f-461f-862a-78e21ac91daa\">\n",
              "    <div class=\"colab-df-container\">\n",
              "      <div>\n",
              "<style scoped>\n",
              "    .dataframe tbody tr th:only-of-type {\n",
              "        vertical-align: middle;\n",
              "    }\n",
              "\n",
              "    .dataframe tbody tr th {\n",
              "        vertical-align: top;\n",
              "    }\n",
              "\n",
              "    .dataframe thead th {\n",
              "        text-align: right;\n",
              "    }\n",
              "</style>\n",
              "<table border=\"1\" class=\"dataframe\">\n",
              "  <thead>\n",
              "    <tr style=\"text-align: right;\">\n",
              "      <th></th>\n",
              "      <th>mean</th>\n",
              "    </tr>\n",
              "    <tr>\n",
              "      <th>hora</th>\n",
              "      <th></th>\n",
              "    </tr>\n",
              "  </thead>\n",
              "  <tbody>\n",
              "    <tr>\n",
              "      <th>00:00:00</th>\n",
              "      <td>0.035493</td>\n",
              "    </tr>\n",
              "    <tr>\n",
              "      <th>01:00:00</th>\n",
              "      <td>0.023651</td>\n",
              "    </tr>\n",
              "    <tr>\n",
              "      <th>02:00:00</th>\n",
              "      <td>0.017399</td>\n",
              "    </tr>\n",
              "    <tr>\n",
              "      <th>03:00:00</th>\n",
              "      <td>0.007396</td>\n",
              "    </tr>\n",
              "    <tr>\n",
              "      <th>04:00:00</th>\n",
              "      <td>0.010551</td>\n",
              "    </tr>\n",
              "  </tbody>\n",
              "</table>\n",
              "</div>\n",
              "      <button class=\"colab-df-convert\" onclick=\"convertToInteractive('df-2f308dd6-461f-461f-862a-78e21ac91daa')\"\n",
              "              title=\"Convert this dataframe to an interactive table.\"\n",
              "              style=\"display:none;\">\n",
              "        \n",
              "  <svg xmlns=\"http://www.w3.org/2000/svg\" height=\"24px\"viewBox=\"0 0 24 24\"\n",
              "       width=\"24px\">\n",
              "    <path d=\"M0 0h24v24H0V0z\" fill=\"none\"/>\n",
              "    <path d=\"M18.56 5.44l.94 2.06.94-2.06 2.06-.94-2.06-.94-.94-2.06-.94 2.06-2.06.94zm-11 1L8.5 8.5l.94-2.06 2.06-.94-2.06-.94L8.5 2.5l-.94 2.06-2.06.94zm10 10l.94 2.06.94-2.06 2.06-.94-2.06-.94-.94-2.06-.94 2.06-2.06.94z\"/><path d=\"M17.41 7.96l-1.37-1.37c-.4-.4-.92-.59-1.43-.59-.52 0-1.04.2-1.43.59L10.3 9.45l-7.72 7.72c-.78.78-.78 2.05 0 2.83L4 21.41c.39.39.9.59 1.41.59.51 0 1.02-.2 1.41-.59l7.78-7.78 2.81-2.81c.8-.78.8-2.07 0-2.86zM5.41 20L4 18.59l7.72-7.72 1.47 1.35L5.41 20z\"/>\n",
              "  </svg>\n",
              "      </button>\n",
              "      \n",
              "  <style>\n",
              "    .colab-df-container {\n",
              "      display:flex;\n",
              "      flex-wrap:wrap;\n",
              "      gap: 12px;\n",
              "    }\n",
              "\n",
              "    .colab-df-convert {\n",
              "      background-color: #E8F0FE;\n",
              "      border: none;\n",
              "      border-radius: 50%;\n",
              "      cursor: pointer;\n",
              "      display: none;\n",
              "      fill: #1967D2;\n",
              "      height: 32px;\n",
              "      padding: 0 0 0 0;\n",
              "      width: 32px;\n",
              "    }\n",
              "\n",
              "    .colab-df-convert:hover {\n",
              "      background-color: #E2EBFA;\n",
              "      box-shadow: 0px 1px 2px rgba(60, 64, 67, 0.3), 0px 1px 3px 1px rgba(60, 64, 67, 0.15);\n",
              "      fill: #174EA6;\n",
              "    }\n",
              "\n",
              "    [theme=dark] .colab-df-convert {\n",
              "      background-color: #3B4455;\n",
              "      fill: #D2E3FC;\n",
              "    }\n",
              "\n",
              "    [theme=dark] .colab-df-convert:hover {\n",
              "      background-color: #434B5C;\n",
              "      box-shadow: 0px 1px 3px 1px rgba(0, 0, 0, 0.15);\n",
              "      filter: drop-shadow(0px 1px 2px rgba(0, 0, 0, 0.3));\n",
              "      fill: #FFFFFF;\n",
              "    }\n",
              "  </style>\n",
              "\n",
              "      <script>\n",
              "        const buttonEl =\n",
              "          document.querySelector('#df-2f308dd6-461f-461f-862a-78e21ac91daa button.colab-df-convert');\n",
              "        buttonEl.style.display =\n",
              "          google.colab.kernel.accessAllowed ? 'block' : 'none';\n",
              "\n",
              "        async function convertToInteractive(key) {\n",
              "          const element = document.querySelector('#df-2f308dd6-461f-461f-862a-78e21ac91daa');\n",
              "          const dataTable =\n",
              "            await google.colab.kernel.invokeFunction('convertToInteractive',\n",
              "                                                     [key], {});\n",
              "          if (!dataTable) return;\n",
              "\n",
              "          const docLinkHtml = 'Like what you see? Visit the ' +\n",
              "            '<a target=\"_blank\" href=https://colab.research.google.com/notebooks/data_table.ipynb>data table notebook</a>'\n",
              "            + ' to learn more about interactive tables.';\n",
              "          element.innerHTML = '';\n",
              "          dataTable['output_type'] = 'display_data';\n",
              "          await google.colab.output.renderOutput(dataTable, element);\n",
              "          const docLink = document.createElement('div');\n",
              "          docLink.innerHTML = docLinkHtml;\n",
              "          element.appendChild(docLink);\n",
              "        }\n",
              "      </script>\n",
              "    </div>\n",
              "  </div>\n",
              "  "
            ]
          },
          "metadata": {},
          "execution_count": 32
        }
      ]
    },
    {
      "cell_type": "code",
      "source": [
        "media_total = grp_hour_intensities['mean'].mean()"
      ],
      "metadata": {
        "id": "qPNPbauEz4pP"
      },
      "execution_count": null,
      "outputs": []
    },
    {
      "cell_type": "code",
      "source": [
        "#gráfico de barras\n",
        "media = grp_hour_intensities['mean']\n",
        "hora = grp_hour_intensities.index\n",
        "\n",
        "fig, ax = plt.subplots(figsize=(10,8))\n",
        "\n",
        "sns.barplot(data=grp_hour_intensities,x=hora, y=media,\n",
        "            color=bella_colors[1])\n",
        "\n",
        "ax.axhline(media_total, linestyle='dashed', label='Média diária.')\n",
        "ax.grid(False)\n",
        "\n",
        "plt.xticks(rotation=90)\n",
        "\n",
        "ax.spines['top'].set_visible(False)\n",
        "ax.spines['right'].set_visible(False)\n",
        "\n",
        "plt.xticks(fontproperties=fprop, color='grey')\n",
        "plt.yticks(fontproperties=fprop, color='grey')\n",
        "\n",
        "plt.ylabel('Intensidade',fontproperties=fprop, fontsize=10)\n",
        "\n",
        "plt.title('Média de Intensidade por Hora.', fontproperties=fprop, fontsize=15)\n",
        "plt.legend(prop=fprop)\n",
        "plt.xlabel('')\n",
        "plt.plot()"
      ],
      "metadata": {
        "colab": {
          "base_uri": "https://localhost:8080/",
          "height": 559
        },
        "id": "svAz4jomEC9n",
        "outputId": "21886e6f-9586-4700-d7c5-df359e7e5864"
      },
      "execution_count": null,
      "outputs": [
        {
          "output_type": "execute_result",
          "data": {
            "text/plain": [
              "[]"
            ]
          },
          "metadata": {},
          "execution_count": 34
        },
        {
          "output_type": "display_data",
          "data": {
            "text/plain": [
              "<Figure size 720x576 with 1 Axes>"
            ],
            "image/png": "[encoded data removed]"
          },
          "metadata": {}
        }
      ]
    },
    {
      "cell_type": "markdown",
      "source": [
        "A fitbit mensura a intensidade em uma escala de 0 a 3, sendo 0 o estado sedentário e 3 o estado muito ativo:\n",
        "\n",
        "|Valor | Estado      |\n",
        "|------|-------------|\n",
        "|0     | Sedentário  |\n",
        "|1     | Leve        |\n",
        "|2     | Moderado    |\n",
        "|3     | Muito ativo |"
      ],
      "metadata": {
        "id": "joLhyxoCwSZH"
      }
    },
    {
      "cell_type": "markdown",
      "source": [
        ">Existe um pico de intensidade às 5 horas da manhã, possívelmente é nesse horário que os usuários estão acordando. Uma queda às 15 horas, possívelmente quando os usúarios vão almoçar. E uma queda às 20 horas, possívelmente quando eles vão dormir.\n",
        "\n",
        "> O período ativo é das 5  às 19, possívelmente é o momento da prática de atividades físicas. Vale ressaltar, que esse período ativo, em média, não apresenta um nivel de estato muito ativo, estando na escala como uma atividade entre sedentária e leve."
      ],
      "metadata": {
        "id": "EQ483kCSbkxP"
      }
    },
    {
      "cell_type": "code",
      "source": [
        "fig, ax = plt.subplots(figsize=(10,8))\n",
        "\n",
        "for i in dia_semana:  \n",
        "  dia = hour_intensities.query(f'dia_semana == \"{i}\"').groupby(['hora'])['AverageIntensity'].agg(['mean'])\n",
        "  plt.plot(dia.index, dia['mean'], label=i)\n",
        "\n",
        "\n",
        "for i in ['top', 'right']:\n",
        "  ax.spines[i].set_visible(False)\n",
        "\n",
        "ax.grid(axis='x')\n",
        "\n",
        "plt.xticks(fontproperties=fprop, color='grey',rotation=90)\n",
        "plt.yticks(fontproperties=fprop, color='grey')\n",
        "\n",
        "plt.ylabel('Intensidade',fontproperties=fprop, fontsize=10)\n",
        "plt.legend(prop=fprop)\n",
        "plt.title('Média de intensidade total X hora.', fontproperties=fprop, fontsize=15)\n",
        "plt.plot()\n"
      ],
      "metadata": {
        "colab": {
          "base_uri": "https://localhost:8080/",
          "height": 558
        },
        "id": "WZvfl85D0iQ_",
        "outputId": "aed9835a-81ce-4388-cef6-b6120e3b7ffc"
      },
      "execution_count": null,
      "outputs": [
        {
          "output_type": "execute_result",
          "data": {
            "text/plain": [
              "[]"
            ]
          },
          "metadata": {},
          "execution_count": 35
        },
        {
          "output_type": "display_data",
          "data": {
            "text/plain": [
              "<Figure size 720x576 with 1 Axes>"
            ],
            "image/png": "[encoded data removed]"
          },
          "metadata": {}
        }
      ]
    },
    {
      "cell_type": "markdown",
      "source": [
        "> Existe um padrão para o comportamento da intensidade média, exceto para o sábado que apresenta um pico de intensidade às 13 horas enquanto que nos outros dias o pico ocorre entre às 17 e 19 horas."
      ],
      "metadata": {
        "id": "QC6mGDWZXB5w"
      }
    },
    {
      "cell_type": "code",
      "source": [
        "day_activity.head()"
      ],
      "metadata": {
        "colab": {
          "base_uri": "https://localhost:8080/",
          "height": 270
        },
        "id": "KKa8MLL0YN0v",
        "outputId": "6e18b07e-ec7d-4a68-897d-46f28540069f"
      },
      "execution_count": null,
      "outputs": [
        {
          "output_type": "execute_result",
          "data": {
            "text/plain": [
              "           Id       data dia_semana  TotalSteps  TotalDistance  \\\n",
              "0  1503960366  4/12/2016    Tuesday       13162           8.50   \n",
              "1  1503960366  4/13/2016  Wednesday       10735           6.97   \n",
              "2  1503960366  4/14/2016   Thursday       10460           6.74   \n",
              "3  1503960366  4/15/2016     Friday        9762           6.28   \n",
              "4  1503960366  4/16/2016   Saturday       12669           8.16   \n",
              "\n",
              "   TrackerDistance  LoggedActivitiesDistance  VeryActiveDistance  \\\n",
              "0             8.50                       0.0                1.88   \n",
              "1             6.97                       0.0                1.57   \n",
              "2             6.74                       0.0                2.44   \n",
              "3             6.28                       0.0                2.14   \n",
              "4             8.16                       0.0                2.71   \n",
              "\n",
              "   ModeratelyActiveDistance  LightActiveDistance  SedentaryActiveDistance  \\\n",
              "0                      0.55                 6.06                      0.0   \n",
              "1                      0.69                 4.71                      0.0   \n",
              "2                      0.40                 3.91                      0.0   \n",
              "3                      1.26                 2.83                      0.0   \n",
              "4                      0.41                 5.04                      0.0   \n",
              "\n",
              "   VeryActiveMinutes  FairlyActiveMinutes  LightlyActiveMinutes  \\\n",
              "0                 25                   13                   328   \n",
              "1                 21                   19                   217   \n",
              "2                 30                   11                   181   \n",
              "3                 29                   34                   209   \n",
              "4                 36                   10                   221   \n",
              "\n",
              "   SedentaryMinutes  Calories  \n",
              "0               728      1985  \n",
              "1               776      1797  \n",
              "2              1218      1776  \n",
              "3               726      1745  \n",
              "4               773      1863  "
            ],
            "text/html": [
              "\n",
              "  <div id=\"df-12279bc7-03ec-4005-b68a-071484719af6\">\n",
              "    <div class=\"colab-df-container\">\n",
              "      <div>\n",
              "<style scoped>\n",
              "    .dataframe tbody tr th:only-of-type {\n",
              "        vertical-align: middle;\n",
              "    }\n",
              "\n",
              "    .dataframe tbody tr th {\n",
              "        vertical-align: top;\n",
              "    }\n",
              "\n",
              "    .dataframe thead th {\n",
              "        text-align: right;\n",
              "    }\n",
              "</style>\n",
              "<table border=\"1\" class=\"dataframe\">\n",
              "  <thead>\n",
              "    <tr style=\"text-align: right;\">\n",
              "      <th></th>\n",
              "      <th>Id</th>\n",
              "      <th>data</th>\n",
              "      <th>dia_semana</th>\n",
              "      <th>TotalSteps</th>\n",
              "      <th>TotalDistance</th>\n",
              "      <th>TrackerDistance</th>\n",
              "      <th>LoggedActivitiesDistance</th>\n",
              "      <th>VeryActiveDistance</th>\n",
              "      <th>ModeratelyActiveDistance</th>\n",
              "      <th>LightActiveDistance</th>\n",
              "      <th>SedentaryActiveDistance</th>\n",
              "      <th>VeryActiveMinutes</th>\n",
              "      <th>FairlyActiveMinutes</th>\n",
              "      <th>LightlyActiveMinutes</th>\n",
              "      <th>SedentaryMinutes</th>\n",
              "      <th>Calories</th>\n",
              "    </tr>\n",
              "  </thead>\n",
              "  <tbody>\n",
              "    <tr>\n",
              "      <th>0</th>\n",
              "      <td>1503960366</td>\n",
              "      <td>4/12/2016</td>\n",
              "      <td>Tuesday</td>\n",
              "      <td>13162</td>\n",
              "      <td>8.50</td>\n",
              "      <td>8.50</td>\n",
              "      <td>0.0</td>\n",
              "      <td>1.88</td>\n",
              "      <td>0.55</td>\n",
              "      <td>6.06</td>\n",
              "      <td>0.0</td>\n",
              "      <td>25</td>\n",
              "      <td>13</td>\n",
              "      <td>328</td>\n",
              "      <td>728</td>\n",
              "      <td>1985</td>\n",
              "    </tr>\n",
              "    <tr>\n",
              "      <th>1</th>\n",
              "      <td>1503960366</td>\n",
              "      <td>4/13/2016</td>\n",
              "      <td>Wednesday</td>\n",
              "      <td>10735</td>\n",
              "      <td>6.97</td>\n",
              "      <td>6.97</td>\n",
              "      <td>0.0</td>\n",
              "      <td>1.57</td>\n",
              "      <td>0.69</td>\n",
              "      <td>4.71</td>\n",
              "      <td>0.0</td>\n",
              "      <td>21</td>\n",
              "      <td>19</td>\n",
              "      <td>217</td>\n",
              "      <td>776</td>\n",
              "      <td>1797</td>\n",
              "    </tr>\n",
              "    <tr>\n",
              "      <th>2</th>\n",
              "      <td>1503960366</td>\n",
              "      <td>4/14/2016</td>\n",
              "      <td>Thursday</td>\n",
              "      <td>10460</td>\n",
              "      <td>6.74</td>\n",
              "      <td>6.74</td>\n",
              "      <td>0.0</td>\n",
              "      <td>2.44</td>\n",
              "      <td>0.40</td>\n",
              "      <td>3.91</td>\n",
              "      <td>0.0</td>\n",
              "      <td>30</td>\n",
              "      <td>11</td>\n",
              "      <td>181</td>\n",
              "      <td>1218</td>\n",
              "      <td>1776</td>\n",
              "    </tr>\n",
              "    <tr>\n",
              "      <th>3</th>\n",
              "      <td>1503960366</td>\n",
              "      <td>4/15/2016</td>\n",
              "      <td>Friday</td>\n",
              "      <td>9762</td>\n",
              "      <td>6.28</td>\n",
              "      <td>6.28</td>\n",
              "      <td>0.0</td>\n",
              "      <td>2.14</td>\n",
              "      <td>1.26</td>\n",
              "      <td>2.83</td>\n",
              "      <td>0.0</td>\n",
              "      <td>29</td>\n",
              "      <td>34</td>\n",
              "      <td>209</td>\n",
              "      <td>726</td>\n",
              "      <td>1745</td>\n",
              "    </tr>\n",
              "    <tr>\n",
              "      <th>4</th>\n",
              "      <td>1503960366</td>\n",
              "      <td>4/16/2016</td>\n",
              "      <td>Saturday</td>\n",
              "      <td>12669</td>\n",
              "      <td>8.16</td>\n",
              "      <td>8.16</td>\n",
              "      <td>0.0</td>\n",
              "      <td>2.71</td>\n",
              "      <td>0.41</td>\n",
              "      <td>5.04</td>\n",
              "      <td>0.0</td>\n",
              "      <td>36</td>\n",
              "      <td>10</td>\n",
              "      <td>221</td>\n",
              "      <td>773</td>\n",
              "      <td>1863</td>\n",
              "    </tr>\n",
              "  </tbody>\n",
              "</table>\n",
              "</div>\n",
              "      <button class=\"colab-df-convert\" onclick=\"convertToInteractive('df-12279bc7-03ec-4005-b68a-071484719af6')\"\n",
              "              title=\"Convert this dataframe to an interactive table.\"\n",
              "              style=\"display:none;\">\n",
              "        \n",
              "  <svg xmlns=\"http://www.w3.org/2000/svg\" height=\"24px\"viewBox=\"0 0 24 24\"\n",
              "       width=\"24px\">\n",
              "    <path d=\"M0 0h24v24H0V0z\" fill=\"none\"/>\n",
              "    <path d=\"M18.56 5.44l.94 2.06.94-2.06 2.06-.94-2.06-.94-.94-2.06-.94 2.06-2.06.94zm-11 1L8.5 8.5l.94-2.06 2.06-.94-2.06-.94L8.5 2.5l-.94 2.06-2.06.94zm10 10l.94 2.06.94-2.06 2.06-.94-2.06-.94-.94-2.06-.94 2.06-2.06.94z\"/><path d=\"M17.41 7.96l-1.37-1.37c-.4-.4-.92-.59-1.43-.59-.52 0-1.04.2-1.43.59L10.3 9.45l-7.72 7.72c-.78.78-.78 2.05 0 2.83L4 21.41c.39.39.9.59 1.41.59.51 0 1.02-.2 1.41-.59l7.78-7.78 2.81-2.81c.8-.78.8-2.07 0-2.86zM5.41 20L4 18.59l7.72-7.72 1.47 1.35L5.41 20z\"/>\n",
              "  </svg>\n",
              "      </button>\n",
              "      \n",
              "  <style>\n",
              "    .colab-df-container {\n",
              "      display:flex;\n",
              "      flex-wrap:wrap;\n",
              "      gap: 12px;\n",
              "    }\n",
              "\n",
              "    .colab-df-convert {\n",
              "      background-color: #E8F0FE;\n",
              "      border: none;\n",
              "      border-radius: 50%;\n",
              "      cursor: pointer;\n",
              "      display: none;\n",
              "      fill: #1967D2;\n",
              "      height: 32px;\n",
              "      padding: 0 0 0 0;\n",
              "      width: 32px;\n",
              "    }\n",
              "\n",
              "    .colab-df-convert:hover {\n",
              "      background-color: #E2EBFA;\n",
              "      box-shadow: 0px 1px 2px rgba(60, 64, 67, 0.3), 0px 1px 3px 1px rgba(60, 64, 67, 0.15);\n",
              "      fill: #174EA6;\n",
              "    }\n",
              "\n",
              "    [theme=dark] .colab-df-convert {\n",
              "      background-color: #3B4455;\n",
              "      fill: #D2E3FC;\n",
              "    }\n",
              "\n",
              "    [theme=dark] .colab-df-convert:hover {\n",
              "      background-color: #434B5C;\n",
              "      box-shadow: 0px 1px 3px 1px rgba(0, 0, 0, 0.15);\n",
              "      filter: drop-shadow(0px 1px 2px rgba(0, 0, 0, 0.3));\n",
              "      fill: #FFFFFF;\n",
              "    }\n",
              "  </style>\n",
              "\n",
              "      <script>\n",
              "        const buttonEl =\n",
              "          document.querySelector('#df-12279bc7-03ec-4005-b68a-071484719af6 button.colab-df-convert');\n",
              "        buttonEl.style.display =\n",
              "          google.colab.kernel.accessAllowed ? 'block' : 'none';\n",
              "\n",
              "        async function convertToInteractive(key) {\n",
              "          const element = document.querySelector('#df-12279bc7-03ec-4005-b68a-071484719af6');\n",
              "          const dataTable =\n",
              "            await google.colab.kernel.invokeFunction('convertToInteractive',\n",
              "                                                     [key], {});\n",
              "          if (!dataTable) return;\n",
              "\n",
              "          const docLinkHtml = 'Like what you see? Visit the ' +\n",
              "            '<a target=\"_blank\" href=https://colab.research.google.com/notebooks/data_table.ipynb>data table notebook</a>'\n",
              "            + ' to learn more about interactive tables.';\n",
              "          element.innerHTML = '';\n",
              "          dataTable['output_type'] = 'display_data';\n",
              "          await google.colab.output.renderOutput(dataTable, element);\n",
              "          const docLink = document.createElement('div');\n",
              "          docLink.innerHTML = docLinkHtml;\n",
              "          element.appendChild(docLink);\n",
              "        }\n",
              "      </script>\n",
              "    </div>\n",
              "  </div>\n",
              "  "
            ]
          },
          "metadata": {},
          "execution_count": 36
        }
      ]
    },
    {
      "cell_type": "code",
      "source": [
        "fig, ax = plt.subplots(figsize=(10,8))\n",
        "\n",
        "niveis = ['VeryActiveMinutes',\t'FairlyActiveMinutes','LightlyActiveMinutes',\t'SedentaryMinutes']\n",
        "\n",
        "\n",
        "sns.boxplot(data = day_activity[niveis], notch=True, showcaps=False,\n",
        "            flierprops={\"marker\": \"x\"}, color = bella_colors[1])\n",
        "\n",
        "ax.spines['top'].set_visible(False)\n",
        "ax.spines['right'].set_visible(False)\n",
        "\n",
        "plt.xticks(fontproperties=fprop, color='grey')\n",
        "plt.yticks(fontproperties=fprop, color='grey')\n",
        "\n",
        "plt.ylabel('Minutos',fontproperties=fprop, fontsize=10)\n",
        "\n",
        "plt.title('Distribuição de tempo por tipo de atividade.', fontproperties=fprop, fontsize=15)\n",
        "plt.xlabel('')\n",
        "plt.plot()        \n",
        "        "
      ],
      "metadata": {
        "colab": {
          "base_uri": "https://localhost:8080/",
          "height": 522
        },
        "id": "1iKOTsKPwudX",
        "outputId": "9b875ffa-9914-476b-b6d1-86716bd2d552"
      },
      "execution_count": 161,
      "outputs": [
        {
          "output_type": "execute_result",
          "data": {
            "text/plain": [
              "[]"
            ]
          },
          "metadata": {},
          "execution_count": 161
        },
        {
          "output_type": "display_data",
          "data": {
            "text/plain": [
              "<Figure size 720x576 with 1 Axes>"
            ],
            "image/png": "[encoded data removed]"
          },
          "metadata": {}
        }
      ]
    },
    {
      "cell_type": "markdown",
      "source": [
        "A mairio dos usuários passam a maior parte do seu tempo com atividades sedentárias."
      ],
      "metadata": {
        "id": "gc6w-SaDEfPl"
      }
    },
    {
      "cell_type": "code",
      "source": [
        "#Agrupamento por dia da semana\n",
        "grp_d_actv = day_activity.groupby(['dia_semana']).mean()\n",
        "grp_d_actv.tail()"
      ],
      "metadata": {
        "colab": {
          "base_uri": "https://localhost:8080/",
          "height": 302
        },
        "id": "zQJ_7k2nZaWw",
        "outputId": "49d18f6d-c050-4d6b-e184-b4331ec87ccf"
      },
      "execution_count": null,
      "outputs": [
        {
          "output_type": "execute_result",
          "data": {
            "text/plain": [
              "                      Id   TotalSteps  TotalDistance  TrackerDistance  \\\n",
              "dia_semana                                                              \n",
              "Saturday    4.908075e+09  8152.975806       5.854677         5.854677   \n",
              "Sunday      4.847640e+09  6933.231405       5.027190         5.027190   \n",
              "Thursday    4.837277e+09  7405.836735       5.312245         5.287415   \n",
              "Tuesday     4.851063e+09  8125.006579       5.832237         5.812829   \n",
              "Wednesday   4.815191e+09  7559.373333       5.488333         5.467600   \n",
              "\n",
              "            LoggedActivitiesDistance  VeryActiveDistance  \\\n",
              "dia_semana                                                 \n",
              "Saturday                    0.000000            1.514597   \n",
              "Sunday                      0.000000            1.488926   \n",
              "Thursday                    0.129283            1.390476   \n",
              "Tuesday                     0.169054            1.613289   \n",
              "Wednesday                   0.139588            1.633467   \n",
              "\n",
              "            ModeratelyActiveDistance  LightActiveDistance  \\\n",
              "dia_semana                                                  \n",
              "Saturday                    0.677339             3.617177   \n",
              "Sunday                      0.618017             2.892314   \n",
              "Thursday                    0.505170             3.283129   \n",
              "Tuesday                     0.593026             3.471053   \n",
              "Wednesday                   0.527067             3.256333   \n",
              "\n",
              "            SedentaryActiveDistance  VeryActiveMinutes  FairlyActiveMinutes  \\\n",
              "dia_semana                                                                    \n",
              "Saturday                   0.001048          21.919355            15.201613   \n",
              "Sunday                     0.000661          19.983471            14.528926   \n",
              "Thursday                   0.002313          19.408163            11.959184   \n",
              "Tuesday                    0.001447          22.953947            14.335526   \n",
              "Wednesday                  0.001333          20.780000            13.100000   \n",
              "\n",
              "            LightlyActiveMinutes  SedentaryMinutes     Calories  \n",
              "dia_semana                                                       \n",
              "Saturday              207.145161        964.282258  2354.967742  \n",
              "Sunday                173.975207        990.256198  2263.000000  \n",
              "Thursday              185.421769        961.993197  2199.571429  \n",
              "Tuesday               197.342105       1007.361842  2356.013158  \n",
              "Wednesday             189.853333        989.480000  2302.620000  "
            ],
            "text/html": [
              "\n",
              "  <div id=\"df-5ba932ae-bb02-4717-a83e-c483093a5f90\">\n",
              "    <div class=\"colab-df-container\">\n",
              "      <div>\n",
              "<style scoped>\n",
              "    .dataframe tbody tr th:only-of-type {\n",
              "        vertical-align: middle;\n",
              "    }\n",
              "\n",
              "    .dataframe tbody tr th {\n",
              "        vertical-align: top;\n",
              "    }\n",
              "\n",
              "    .dataframe thead th {\n",
              "        text-align: right;\n",
              "    }\n",
              "</style>\n",
              "<table border=\"1\" class=\"dataframe\">\n",
              "  <thead>\n",
              "    <tr style=\"text-align: right;\">\n",
              "      <th></th>\n",
              "      <th>Id</th>\n",
              "      <th>TotalSteps</th>\n",
              "      <th>TotalDistance</th>\n",
              "      <th>TrackerDistance</th>\n",
              "      <th>LoggedActivitiesDistance</th>\n",
              "      <th>VeryActiveDistance</th>\n",
              "      <th>ModeratelyActiveDistance</th>\n",
              "      <th>LightActiveDistance</th>\n",
              "      <th>SedentaryActiveDistance</th>\n",
              "      <th>VeryActiveMinutes</th>\n",
              "      <th>FairlyActiveMinutes</th>\n",
              "      <th>LightlyActiveMinutes</th>\n",
              "      <th>SedentaryMinutes</th>\n",
              "      <th>Calories</th>\n",
              "    </tr>\n",
              "    <tr>\n",
              "      <th>dia_semana</th>\n",
              "      <th></th>\n",
              "      <th></th>\n",
              "      <th></th>\n",
              "      <th></th>\n",
              "      <th></th>\n",
              "      <th></th>\n",
              "      <th></th>\n",
              "      <th></th>\n",
              "      <th></th>\n",
              "      <th></th>\n",
              "      <th></th>\n",
              "      <th></th>\n",
              "      <th></th>\n",
              "      <th></th>\n",
              "    </tr>\n",
              "  </thead>\n",
              "  <tbody>\n",
              "    <tr>\n",
              "      <th>Saturday</th>\n",
              "      <td>4.908075e+09</td>\n",
              "      <td>8152.975806</td>\n",
              "      <td>5.854677</td>\n",
              "      <td>5.854677</td>\n",
              "      <td>0.000000</td>\n",
              "      <td>1.514597</td>\n",
              "      <td>0.677339</td>\n",
              "      <td>3.617177</td>\n",
              "      <td>0.001048</td>\n",
              "      <td>21.919355</td>\n",
              "      <td>15.201613</td>\n",
              "      <td>207.145161</td>\n",
              "      <td>964.282258</td>\n",
              "      <td>2354.967742</td>\n",
              "    </tr>\n",
              "    <tr>\n",
              "      <th>Sunday</th>\n",
              "      <td>4.847640e+09</td>\n",
              "      <td>6933.231405</td>\n",
              "      <td>5.027190</td>\n",
              "      <td>5.027190</td>\n",
              "      <td>0.000000</td>\n",
              "      <td>1.488926</td>\n",
              "      <td>0.618017</td>\n",
              "      <td>2.892314</td>\n",
              "      <td>0.000661</td>\n",
              "      <td>19.983471</td>\n",
              "      <td>14.528926</td>\n",
              "      <td>173.975207</td>\n",
              "      <td>990.256198</td>\n",
              "      <td>2263.000000</td>\n",
              "    </tr>\n",
              "    <tr>\n",
              "      <th>Thursday</th>\n",
              "      <td>4.837277e+09</td>\n",
              "      <td>7405.836735</td>\n",
              "      <td>5.312245</td>\n",
              "      <td>5.287415</td>\n",
              "      <td>0.129283</td>\n",
              "      <td>1.390476</td>\n",
              "      <td>0.505170</td>\n",
              "      <td>3.283129</td>\n",
              "      <td>0.002313</td>\n",
              "      <td>19.408163</td>\n",
              "      <td>11.959184</td>\n",
              "      <td>185.421769</td>\n",
              "      <td>961.993197</td>\n",
              "      <td>2199.571429</td>\n",
              "    </tr>\n",
              "    <tr>\n",
              "      <th>Tuesday</th>\n",
              "      <td>4.851063e+09</td>\n",
              "      <td>8125.006579</td>\n",
              "      <td>5.832237</td>\n",
              "      <td>5.812829</td>\n",
              "      <td>0.169054</td>\n",
              "      <td>1.613289</td>\n",
              "      <td>0.593026</td>\n",
              "      <td>3.471053</td>\n",
              "      <td>0.001447</td>\n",
              "      <td>22.953947</td>\n",
              "      <td>14.335526</td>\n",
              "      <td>197.342105</td>\n",
              "      <td>1007.361842</td>\n",
              "      <td>2356.013158</td>\n",
              "    </tr>\n",
              "    <tr>\n",
              "      <th>Wednesday</th>\n",
              "      <td>4.815191e+09</td>\n",
              "      <td>7559.373333</td>\n",
              "      <td>5.488333</td>\n",
              "      <td>5.467600</td>\n",
              "      <td>0.139588</td>\n",
              "      <td>1.633467</td>\n",
              "      <td>0.527067</td>\n",
              "      <td>3.256333</td>\n",
              "      <td>0.001333</td>\n",
              "      <td>20.780000</td>\n",
              "      <td>13.100000</td>\n",
              "      <td>189.853333</td>\n",
              "      <td>989.480000</td>\n",
              "      <td>2302.620000</td>\n",
              "    </tr>\n",
              "  </tbody>\n",
              "</table>\n",
              "</div>\n",
              "      <button class=\"colab-df-convert\" onclick=\"convertToInteractive('df-5ba932ae-bb02-4717-a83e-c483093a5f90')\"\n",
              "              title=\"Convert this dataframe to an interactive table.\"\n",
              "              style=\"display:none;\">\n",
              "        \n",
              "  <svg xmlns=\"http://www.w3.org/2000/svg\" height=\"24px\"viewBox=\"0 0 24 24\"\n",
              "       width=\"24px\">\n",
              "    <path d=\"M0 0h24v24H0V0z\" fill=\"none\"/>\n",
              "    <path d=\"M18.56 5.44l.94 2.06.94-2.06 2.06-.94-2.06-.94-.94-2.06-.94 2.06-2.06.94zm-11 1L8.5 8.5l.94-2.06 2.06-.94-2.06-.94L8.5 2.5l-.94 2.06-2.06.94zm10 10l.94 2.06.94-2.06 2.06-.94-2.06-.94-.94-2.06-.94 2.06-2.06.94z\"/><path d=\"M17.41 7.96l-1.37-1.37c-.4-.4-.92-.59-1.43-.59-.52 0-1.04.2-1.43.59L10.3 9.45l-7.72 7.72c-.78.78-.78 2.05 0 2.83L4 21.41c.39.39.9.59 1.41.59.51 0 1.02-.2 1.41-.59l7.78-7.78 2.81-2.81c.8-.78.8-2.07 0-2.86zM5.41 20L4 18.59l7.72-7.72 1.47 1.35L5.41 20z\"/>\n",
              "  </svg>\n",
              "      </button>\n",
              "      \n",
              "  <style>\n",
              "    .colab-df-container {\n",
              "      display:flex;\n",
              "      flex-wrap:wrap;\n",
              "      gap: 12px;\n",
              "    }\n",
              "\n",
              "    .colab-df-convert {\n",
              "      background-color: #E8F0FE;\n",
              "      border: none;\n",
              "      border-radius: 50%;\n",
              "      cursor: pointer;\n",
              "      display: none;\n",
              "      fill: #1967D2;\n",
              "      height: 32px;\n",
              "      padding: 0 0 0 0;\n",
              "      width: 32px;\n",
              "    }\n",
              "\n",
              "    .colab-df-convert:hover {\n",
              "      background-color: #E2EBFA;\n",
              "      box-shadow: 0px 1px 2px rgba(60, 64, 67, 0.3), 0px 1px 3px 1px rgba(60, 64, 67, 0.15);\n",
              "      fill: #174EA6;\n",
              "    }\n",
              "\n",
              "    [theme=dark] .colab-df-convert {\n",
              "      background-color: #3B4455;\n",
              "      fill: #D2E3FC;\n",
              "    }\n",
              "\n",
              "    [theme=dark] .colab-df-convert:hover {\n",
              "      background-color: #434B5C;\n",
              "      box-shadow: 0px 1px 3px 1px rgba(0, 0, 0, 0.15);\n",
              "      filter: drop-shadow(0px 1px 2px rgba(0, 0, 0, 0.3));\n",
              "      fill: #FFFFFF;\n",
              "    }\n",
              "  </style>\n",
              "\n",
              "      <script>\n",
              "        const buttonEl =\n",
              "          document.querySelector('#df-5ba932ae-bb02-4717-a83e-c483093a5f90 button.colab-df-convert');\n",
              "        buttonEl.style.display =\n",
              "          google.colab.kernel.accessAllowed ? 'block' : 'none';\n",
              "\n",
              "        async function convertToInteractive(key) {\n",
              "          const element = document.querySelector('#df-5ba932ae-bb02-4717-a83e-c483093a5f90');\n",
              "          const dataTable =\n",
              "            await google.colab.kernel.invokeFunction('convertToInteractive',\n",
              "                                                     [key], {});\n",
              "          if (!dataTable) return;\n",
              "\n",
              "          const docLinkHtml = 'Like what you see? Visit the ' +\n",
              "            '<a target=\"_blank\" href=https://colab.research.google.com/notebooks/data_table.ipynb>data table notebook</a>'\n",
              "            + ' to learn more about interactive tables.';\n",
              "          element.innerHTML = '';\n",
              "          dataTable['output_type'] = 'display_data';\n",
              "          await google.colab.output.renderOutput(dataTable, element);\n",
              "          const docLink = document.createElement('div');\n",
              "          docLink.innerHTML = docLinkHtml;\n",
              "          element.appendChild(docLink);\n",
              "        }\n",
              "      </script>\n",
              "    </div>\n",
              "  </div>\n",
              "  "
            ]
          },
          "metadata": {},
          "execution_count": 37
        }
      ]
    },
    {
      "cell_type": "code",
      "source": [
        "#passos dados por dia da semana\n",
        "plt.figure(figsize=(10,8))\n",
        "\n",
        "sns.barplot(data=grp_d_actv, x=grp_d_actv.index, y=grp_d_actv.TotalSteps, \n",
        "            order=['Sunday','Monday', 'Tuesday', 'Wednesday','Thursday','Friday','Saturday'],\n",
        "            )\n",
        "\n",
        "\n",
        "plt.xticks(rotation=45)\n",
        "\n",
        "\n",
        "plt.xticks(fontproperties=fprop, color='grey')\n",
        "plt.yticks(fontproperties=fprop, color='grey')\n",
        "\n",
        "plt.ylabel('Total de passo', fontproperties=fprop, fontsize=10)\n",
        "plt.xlabel('')\n",
        "plt.title(\"Média de passos por dia da semana.\", fontproperties=fprop, fontsize=15)\n",
        "plt.plot()\n"
      ],
      "metadata": {
        "colab": {
          "base_uri": "https://localhost:8080/",
          "height": 563
        },
        "id": "xLbdgrV8fRsG",
        "outputId": "a246e746-082c-4b3d-ffb4-3dd2761038d9"
      },
      "execution_count": 171,
      "outputs": [
        {
          "output_type": "execute_result",
          "data": {
            "text/plain": [
              "[]"
            ]
          },
          "metadata": {},
          "execution_count": 171
        },
        {
          "output_type": "display_data",
          "data": {
            "text/plain": [
              "<Figure size 720x576 with 1 Axes>"
            ],
            "image/png": "[encoded data removed]"
          },
          "metadata": {}
        }
      ]
    },
    {
      "cell_type": "code",
      "source": [
        "#distancia por dia da semana\n",
        "plt.figure(figsize=(10,8))\n",
        "\n",
        "sns.barplot(data=grp_d_actv, x=grp_d_actv.index, y=grp_d_actv.TotalDistance, \n",
        "            order=['Sunday','Monday', 'Tuesday', 'Wednesday','Thursday','Friday','Saturday'])\n",
        "\n",
        "\n",
        "plt.xticks(rotation=45)\n",
        "\n",
        "\n",
        "plt.xticks(fontproperties=fprop, color='grey')\n",
        "plt.yticks(fontproperties=fprop, color='grey')\n",
        "\n",
        "plt.ylabel('Distância', fontproperties=fprop, fontsize=10)\n",
        "plt.xlabel('')\n",
        "plt.title(\"Média de distância(km) por dia da semana.\", fontproperties=fprop, fontsize=15)\n",
        "plt.plot()\n"
      ],
      "metadata": {
        "colab": {
          "base_uri": "https://localhost:8080/",
          "height": 565
        },
        "id": "3D67bxIgOdrd",
        "outputId": "db4352b0-05ed-4fbb-8a7e-736185e37d65"
      },
      "execution_count": null,
      "outputs": [
        {
          "output_type": "execute_result",
          "data": {
            "text/plain": [
              "[]"
            ]
          },
          "metadata": {},
          "execution_count": 64
        },
        {
          "output_type": "display_data",
          "data": {
            "text/plain": [
              "<Figure size 720x576 with 1 Axes>"
            ],
            "image/png": "[encoded data removed]"
          },
          "metadata": {}
        }
      ]
    },
    {
      "cell_type": "code",
      "source": [
        "#Gráfico de dispersão de tempo na cama e tempo dormido\n",
        "fig, ax = plt.subplots(figsize=(10,8))\n",
        "\n",
        "\n",
        "sns.scatterplot(x=day_activity.TotalSteps, y=day_activity.Calories, data = day_activity, color=bella_colors[1])\n",
        "\n",
        "\n",
        "ax.set_ylabel('Calorias.', fontproperties=fprop, fontsize=10)\n",
        "ax.set_xlabel('Total de passos.', fontproperties=fprop, fontsize=10)\n",
        "\n",
        "\n",
        "ax.set_yticklabels(range(0,1001,200),fontproperties=fprop, color='grey')\n",
        "ax.set_xticklabels(range(0,801,100),fontproperties=fprop, color='grey')\n",
        "\n",
        "ax.set_title('Passos X Calorias.', fontproperties=fprop, fontsize=15)\n",
        "\n",
        "plt.plot()"
      ],
      "metadata": {
        "colab": {
          "base_uri": "https://localhost:8080/",
          "height": 536
        },
        "id": "qgXLDwupPBqq",
        "outputId": "ac6b578d-80e8-4429-fee8-0976aee93cc0"
      },
      "execution_count": 98,
      "outputs": [
        {
          "output_type": "execute_result",
          "data": {
            "text/plain": [
              "[]"
            ]
          },
          "metadata": {},
          "execution_count": 98
        },
        {
          "output_type": "display_data",
          "data": {
            "text/plain": [
              "<Figure size 720x576 with 1 Axes>"
            ],
            "image/png": "[encoded data removed]"
          },
          "metadata": {}
        }
      ]
    },
    {
      "cell_type": "code",
      "source": [
        "# correlação entre calorias e total de passos\n",
        "print(day_activity.Calories.corr(day_activity.TotalSteps))"
      ],
      "metadata": {
        "colab": {
          "base_uri": "https://localhost:8080/"
        },
        "id": "u23tIGLiPo-q",
        "outputId": "10fe3773-cbca-439d-803c-7377d3103375"
      },
      "execution_count": null,
      "outputs": [
        {
          "output_type": "stream",
          "name": "stdout",
          "text": [
            "0.5915680862453355\n"
          ]
        }
      ]
    },
    {
      "cell_type": "markdown",
      "source": [
        "Existe uma correlação moderada em relação ao tempo dormido e o total de passos por dia, o que significa que a quantidade de passos influencia parcialmente na quantidade de sono."
      ],
      "metadata": {
        "id": "zIwmxPoj5e4l"
      }
    },
    {
      "cell_type": "markdown",
      "source": [
        "## Tendência no uso do dispositivo"
      ],
      "metadata": {
        "id": "_1YuPWQI5I3V"
      }
    },
    {
      "cell_type": "code",
      "source": [
        "#Descobrindo tempo dos usuarios no dispositivo\n",
        "disp_use = day_activity[['Id','VeryActiveMinutes',\t'FairlyActiveMinutes','LightlyActiveMinutes',\t'SedentaryMinutes']]\n",
        "disp_use['total'] = disp_use.iloc[:, 1:5].sum(axis=1)\n",
        "disp_use.drop(['VeryActiveMinutes',\t'FairlyActiveMinutes','LightlyActiveMinutes',\t'SedentaryMinutes'], axis=1, inplace=True) \n",
        "disp_use = disp_use.groupby('Id').agg('mean')/60\n",
        "disp_use.head()\n",
        "media_uso = disp_use.total.mean()"
      ],
      "metadata": {
        "colab": {
          "base_uri": "https://localhost:8080/",
          "height": 428
        },
        "id": "qC47-rEa5do6",
        "outputId": "b539607e-9918-4da9-c7ed-69f8283c9d95"
      },
      "execution_count": 141,
      "outputs": [
        {
          "output_type": "stream",
          "name": "stderr",
          "text": [
            "<ipython-input-141-6741e06fd7a2>:3: SettingWithCopyWarning: \n",
            "A value is trying to be set on a copy of a slice from a DataFrame.\n",
            "Try using .loc[row_indexer,col_indexer] = value instead\n",
            "\n",
            "See the caveats in the documentation: https://pandas.pydata.org/pandas-docs/stable/user_guide/indexing.html#returning-a-view-versus-a-copy\n",
            "  disp_use['total'] = disp_use.iloc[:, 1:5].sum(axis=1)\n",
            "/usr/local/lib/python3.8/dist-packages/pandas/core/frame.py:4906: SettingWithCopyWarning: \n",
            "A value is trying to be set on a copy of a slice from a DataFrame\n",
            "\n",
            "See the caveats in the documentation: https://pandas.pydata.org/pandas-docs/stable/user_guide/indexing.html#returning-a-view-versus-a-copy\n",
            "  return super().drop(\n"
          ]
        },
        {
          "output_type": "execute_result",
          "data": {
            "text/plain": [
              "                total\n",
              "Id                   \n",
              "1503960366  18.766129\n",
              "1624580081  23.761828\n",
              "1644430081  22.854444\n",
              "1844505072  22.058065\n",
              "1927972279  22.634946"
            ],
            "text/html": [
              "\n",
              "  <div id=\"df-0bd5ba12-2c8b-431c-93c1-1d6638f1c52a\">\n",
              "    <div class=\"colab-df-container\">\n",
              "      <div>\n",
              "<style scoped>\n",
              "    .dataframe tbody tr th:only-of-type {\n",
              "        vertical-align: middle;\n",
              "    }\n",
              "\n",
              "    .dataframe tbody tr th {\n",
              "        vertical-align: top;\n",
              "    }\n",
              "\n",
              "    .dataframe thead th {\n",
              "        text-align: right;\n",
              "    }\n",
              "</style>\n",
              "<table border=\"1\" class=\"dataframe\">\n",
              "  <thead>\n",
              "    <tr style=\"text-align: right;\">\n",
              "      <th></th>\n",
              "      <th>total</th>\n",
              "    </tr>\n",
              "    <tr>\n",
              "      <th>Id</th>\n",
              "      <th></th>\n",
              "    </tr>\n",
              "  </thead>\n",
              "  <tbody>\n",
              "    <tr>\n",
              "      <th>1503960366</th>\n",
              "      <td>18.766129</td>\n",
              "    </tr>\n",
              "    <tr>\n",
              "      <th>1624580081</th>\n",
              "      <td>23.761828</td>\n",
              "    </tr>\n",
              "    <tr>\n",
              "      <th>1644430081</th>\n",
              "      <td>22.854444</td>\n",
              "    </tr>\n",
              "    <tr>\n",
              "      <th>1844505072</th>\n",
              "      <td>22.058065</td>\n",
              "    </tr>\n",
              "    <tr>\n",
              "      <th>1927972279</th>\n",
              "      <td>22.634946</td>\n",
              "    </tr>\n",
              "  </tbody>\n",
              "</table>\n",
              "</div>\n",
              "      <button class=\"colab-df-convert\" onclick=\"convertToInteractive('df-0bd5ba12-2c8b-431c-93c1-1d6638f1c52a')\"\n",
              "              title=\"Convert this dataframe to an interactive table.\"\n",
              "              style=\"display:none;\">\n",
              "        \n",
              "  <svg xmlns=\"http://www.w3.org/2000/svg\" height=\"24px\"viewBox=\"0 0 24 24\"\n",
              "       width=\"24px\">\n",
              "    <path d=\"M0 0h24v24H0V0z\" fill=\"none\"/>\n",
              "    <path d=\"M18.56 5.44l.94 2.06.94-2.06 2.06-.94-2.06-.94-.94-2.06-.94 2.06-2.06.94zm-11 1L8.5 8.5l.94-2.06 2.06-.94-2.06-.94L8.5 2.5l-.94 2.06-2.06.94zm10 10l.94 2.06.94-2.06 2.06-.94-2.06-.94-.94-2.06-.94 2.06-2.06.94z\"/><path d=\"M17.41 7.96l-1.37-1.37c-.4-.4-.92-.59-1.43-.59-.52 0-1.04.2-1.43.59L10.3 9.45l-7.72 7.72c-.78.78-.78 2.05 0 2.83L4 21.41c.39.39.9.59 1.41.59.51 0 1.02-.2 1.41-.59l7.78-7.78 2.81-2.81c.8-.78.8-2.07 0-2.86zM5.41 20L4 18.59l7.72-7.72 1.47 1.35L5.41 20z\"/>\n",
              "  </svg>\n",
              "      </button>\n",
              "      \n",
              "  <style>\n",
              "    .colab-df-container {\n",
              "      display:flex;\n",
              "      flex-wrap:wrap;\n",
              "      gap: 12px;\n",
              "    }\n",
              "\n",
              "    .colab-df-convert {\n",
              "      background-color: #E8F0FE;\n",
              "      border: none;\n",
              "      border-radius: 50%;\n",
              "      cursor: pointer;\n",
              "      display: none;\n",
              "      fill: #1967D2;\n",
              "      height: 32px;\n",
              "      padding: 0 0 0 0;\n",
              "      width: 32px;\n",
              "    }\n",
              "\n",
              "    .colab-df-convert:hover {\n",
              "      background-color: #E2EBFA;\n",
              "      box-shadow: 0px 1px 2px rgba(60, 64, 67, 0.3), 0px 1px 3px 1px rgba(60, 64, 67, 0.15);\n",
              "      fill: #174EA6;\n",
              "    }\n",
              "\n",
              "    [theme=dark] .colab-df-convert {\n",
              "      background-color: #3B4455;\n",
              "      fill: #D2E3FC;\n",
              "    }\n",
              "\n",
              "    [theme=dark] .colab-df-convert:hover {\n",
              "      background-color: #434B5C;\n",
              "      box-shadow: 0px 1px 3px 1px rgba(0, 0, 0, 0.15);\n",
              "      filter: drop-shadow(0px 1px 2px rgba(0, 0, 0, 0.3));\n",
              "      fill: #FFFFFF;\n",
              "    }\n",
              "  </style>\n",
              "\n",
              "      <script>\n",
              "        const buttonEl =\n",
              "          document.querySelector('#df-0bd5ba12-2c8b-431c-93c1-1d6638f1c52a button.colab-df-convert');\n",
              "        buttonEl.style.display =\n",
              "          google.colab.kernel.accessAllowed ? 'block' : 'none';\n",
              "\n",
              "        async function convertToInteractive(key) {\n",
              "          const element = document.querySelector('#df-0bd5ba12-2c8b-431c-93c1-1d6638f1c52a');\n",
              "          const dataTable =\n",
              "            await google.colab.kernel.invokeFunction('convertToInteractive',\n",
              "                                                     [key], {});\n",
              "          if (!dataTable) return;\n",
              "\n",
              "          const docLinkHtml = 'Like what you see? Visit the ' +\n",
              "            '<a target=\"_blank\" href=https://colab.research.google.com/notebooks/data_table.ipynb>data table notebook</a>'\n",
              "            + ' to learn more about interactive tables.';\n",
              "          element.innerHTML = '';\n",
              "          dataTable['output_type'] = 'display_data';\n",
              "          await google.colab.output.renderOutput(dataTable, element);\n",
              "          const docLink = document.createElement('div');\n",
              "          docLink.innerHTML = docLinkHtml;\n",
              "          element.appendChild(docLink);\n",
              "        }\n",
              "      </script>\n",
              "    </div>\n",
              "  </div>\n",
              "  "
            ]
          },
          "metadata": {},
          "execution_count": 141
        }
      ]
    },
    {
      "cell_type": "code",
      "source": [
        "media_uso = disp_use.total.mean()\n",
        "\n",
        "fig, ax = plt.subplots(figsize=(10,8))\n",
        "\n",
        "sns.histplot(data=disp_use, x='total', bins=33, color=bella_colors[1])\n",
        "\n",
        "ax.axvline(media_uso, linestyle='dashed', label='Média de uso.')\n",
        "ax.grid(False)\n",
        "\n",
        "plt.xticks(fontproperties=fprop, color='grey')\n",
        "plt.yticks(fontproperties=fprop, color='grey')\n",
        "\n",
        "plt.ylabel('Quantidade de usuários.', fontproperties=fprop, fontsize=10)\n",
        "plt.xlabel('Tempo de uso.')\n",
        "plt.title(\"Tempo de uso do dispositivo.\", fontproperties=fprop, fontsize=15)\n",
        "plt.legend()\n",
        "plt.plot()"
      ],
      "metadata": {
        "colab": {
          "base_uri": "https://localhost:8080/",
          "height": 539
        },
        "id": "IVGDTx6eA-pV",
        "outputId": "5eac968b-9a81-4845-e42c-816c0bf30180"
      },
      "execution_count": 178,
      "outputs": [
        {
          "output_type": "execute_result",
          "data": {
            "text/plain": [
              "[]"
            ]
          },
          "metadata": {},
          "execution_count": 178
        },
        {
          "output_type": "display_data",
          "data": {
            "text/plain": [
              "<Figure size 720x576 with 1 Axes>"
            ],
            "image/png": "[encoded data removed]"
          },
          "metadata": {}
        }
      ]
    },
    {
      "cell_type": "code",
      "source": [
        "#usuarios que usam o dispostivo menos do que a media\n",
        "len(disp_use.query(f'total < {media_uso}'))"
      ],
      "metadata": {
        "colab": {
          "base_uri": "https://localhost:8080/"
        },
        "id": "jhLvqU_BGiiO",
        "outputId": "cf68761c-c3bf-474b-8b2d-0f1bcf9297b3"
      },
      "execution_count": 182,
      "outputs": [
        {
          "output_type": "execute_result",
          "data": {
            "text/plain": [
              "15"
            ]
          },
          "metadata": {},
          "execution_count": 182
        }
      ]
    },
    {
      "cell_type": "markdown",
      "source": [
        "15 usuários usam o dispositivo menos do que a média de tempo da amostra."
      ],
      "metadata": {
        "id": "vp-WtV2hFm4s"
      }
    },
    {
      "cell_type": "markdown",
      "source": [
        "# Proposta:\n",
        "\n",
        "Como a maioria dos usúarios não dormem o tempo necessário e nem tem uma constancia, o aplicativo da Bellabeat tem que ter a funcionalidade de performance do sono semanal, informando se o úsuario está domindo o tempo necessário, bem com um comparativo com os dias anteriores. Seria interessante nessa funcionalidade mostrar se essa performance de sono segue uma rotina, como dormir nos mesmo horários, acordar nos mesmos horários e mostrar o tempo dormido.\n",
        "\n",
        "Como o aplicativo se conecta com outros dispositivos da marca, é de interesse da empresa investir em funcionalidade de alerta para hora de dormir, bem com orientações para uma melhor qualidade de sono, visando reduzir o tempo que se passa acordado na cama.  \n",
        "\n",
        "Criação de notificações sonoras para a prática de alguma atividade física, principamente nos momentos de maior tempo de momentos sedentários.\n",
        "\n",
        "Criação metas para os usuários quee incentivam a praticar mais exercícios físico. Nessa funcionalidade poderia mostrar quantos passos ou kilomêtros foi percorrido no dia e comparar com o dia anterior e propondo aos usuários darem alguns passos a mais. \n",
        "\n",
        "Criação de notificações, que ressaltam a importancia do uso do dispositivo para aqueles usúarios que não ficam o tempo todo com o dispositivo."
      ],
      "metadata": {
        "id": "9H-FFffGaaQp"
      }
    },
    {
      "cell_type": "markdown",
      "source": [
        "# Relatório."
      ],
      "metadata": {
        "id": "kQObAlYpG7K3"
      }
    },
    {
      "cell_type": "code",
      "source": [
        "#Instalando biblioteca para geração de relatório.\n",
        "!pip install reportlab"
      ],
      "metadata": {
        "id": "q_CZFNvdHh1-",
        "colab": {
          "base_uri": "https://localhost:8080/"
        },
        "outputId": "5fd71194-f28c-44fa-e0f3-6d701f28e557"
      },
      "execution_count": null,
      "outputs": [
        {
          "output_type": "stream",
          "name": "stdout",
          "text": [
            "Looking in indexes: https://pypi.org/simple, https://us-python.pkg.dev/colab-wheels/public/simple/\n",
            "Requirement already satisfied: reportlab in /usr/local/lib/python3.8/dist-packages (3.6.12)\n",
            "Requirement already satisfied: pillow>=9.0.0 in /usr/local/lib/python3.8/dist-packages (from reportlab) (9.4.0)\n"
          ]
        }
      ]
    },
    {
      "cell_type": "code",
      "source": [
        "from reportlab.pdfgen import canvas\n",
        "from reportlab.lib.pagesizes import A4"
      ],
      "metadata": {
        "id": "Z10TyKVvHCv3"
      },
      "execution_count": null,
      "outputs": []
    },
    {
      "cell_type": "code",
      "source": [
        "cnv = canvas.Canvas(\"meu_pdf.pdf\")\n",
        "cnv.drawString()\n",
        "cnv.save()"
      ],
      "metadata": {
        "id": "MIMDVjunII64",
        "colab": {
          "base_uri": "https://localhost:8080/",
          "height": 200
        },
        "outputId": "04d1a614-b059-4f79-9dac-737977fdb2e9"
      },
      "execution_count": null,
      "outputs": [
        {
          "output_type": "error",
          "ename": "TypeError",
          "evalue": "ignored",
          "traceback": [
            "\u001b[0;31m---------------------------------------------------------------------------\u001b[0m",
            "\u001b[0;31mTypeError\u001b[0m                                 Traceback (most recent call last)",
            "\u001b[0;32m<ipython-input-53-291d50cfd0fb>\u001b[0m in \u001b[0;36m<module>\u001b[0;34m\u001b[0m\n\u001b[1;32m      1\u001b[0m \u001b[0mcnv\u001b[0m \u001b[0;34m=\u001b[0m \u001b[0mcanvas\u001b[0m\u001b[0;34m.\u001b[0m\u001b[0mCanvas\u001b[0m\u001b[0;34m(\u001b[0m\u001b[0;34m\"meu_pdf.pdf\"\u001b[0m\u001b[0;34m)\u001b[0m\u001b[0;34m\u001b[0m\u001b[0;34m\u001b[0m\u001b[0m\n\u001b[0;32m----> 2\u001b[0;31m \u001b[0mcnv\u001b[0m\u001b[0;34m.\u001b[0m\u001b[0mdrawString\u001b[0m\u001b[0;34m(\u001b[0m\u001b[0;34m)\u001b[0m\u001b[0;34m\u001b[0m\u001b[0;34m\u001b[0m\u001b[0m\n\u001b[0m\u001b[1;32m      3\u001b[0m \u001b[0mcnv\u001b[0m\u001b[0;34m.\u001b[0m\u001b[0msave\u001b[0m\u001b[0;34m(\u001b[0m\u001b[0;34m)\u001b[0m\u001b[0;34m\u001b[0m\u001b[0;34m\u001b[0m\u001b[0m\n",
            "\u001b[0;31mTypeError\u001b[0m: drawString() missing 3 required positional arguments: 'x', 'y', and 'text'"
          ]
        }
      ]
    },
    {
      "cell_type": "code",
      "source": [],
      "metadata": {
        "id": "r8GgZ-LHII1X"
      },
      "execution_count": null,
      "outputs": []
    },
    {
      "cell_type": "code",
      "source": [],
      "metadata": {
        "id": "_rsbUrPXIIlw"
      },
      "execution_count": null,
      "outputs": []
    }
  ]
}